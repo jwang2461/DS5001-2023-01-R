{
 "cells": [
  {
   "cell_type": "markdown",
   "id": "working-salmon",
   "metadata": {},
   "source": [
    "# Metadata\n",
    "\n",
    "```yaml\n",
    "Course:    DS 5001\n",
    "Module:    M05 Lab\n",
    "Topic:     Variant TFIDFs and Document Significance\n",
    "Author:    R.C. Alvarado\n",
    "Date:      12 February 2023\n",
    "```"
   ]
  },
  {
   "cell_type": "markdown",
   "id": "dental-violence",
   "metadata": {},
   "source": [
    "# Exposition\n",
    "\n",
    "* Three kinds of signficance:\n",
    "  * __Local__: `TF-IDF` (significance of a term in a document; related to $p(w|d, C)$ ).\n",
    "  * __Global__: Aggregate `TF-IDF` by term (significane of a term in the corpus; related to $p( w|C ) $ ).\n",
    "  * __Document__: Aggreate `TF-IDF` by document (significance of document in the corpus; related to $p(d|W_d,C) $ ).\n",
    "* `TF-IDF` is essentially local frequency balanced by global frequency.\n",
    "* `DF-IDF` = `TF-IDF` Σ for boolean counts.\n",
    "* `DF-IDF` is global boolean term entropy.\n",
    "* Boolean counts are bad for computing local significance, but good for global.\n",
    "* Max normalization is good for local significance.\n",
    "* Doc significance should be computed from good local significance."
   ]
  },
  {
   "cell_type": "markdown",
   "id": "gothic-steps",
   "metadata": {},
   "source": [
    "# Set Up"
   ]
  },
  {
   "cell_type": "code",
   "execution_count": 1,
   "id": "tribal-remedy",
   "metadata": {},
   "outputs": [],
   "source": [
    "data_in = '../data/output'\n",
    "data_out = '../data/output'\n",
    "data_prefix = 'austen-melville'"
   ]
  },
  {
   "cell_type": "code",
   "execution_count": 2,
   "id": "willing-split",
   "metadata": {},
   "outputs": [],
   "source": [
    "import pandas as pd\n",
    "import numpy as np\n",
    "import seaborn as sns\n",
    "import plotly_express as px\n",
    "import plotly.graph_objects as go\n",
    "import re"
   ]
  },
  {
   "cell_type": "code",
   "execution_count": 3,
   "id": "little-photograph",
   "metadata": {},
   "outputs": [],
   "source": [
    "sns.set()"
   ]
  },
  {
   "cell_type": "markdown",
   "id": "apparent-uncle",
   "metadata": {},
   "source": [
    "# Get Data"
   ]
  },
  {
   "cell_type": "code",
   "execution_count": 4,
   "id": "278b5182-d1d7-40e2-b241-06ccacb34bbb",
   "metadata": {},
   "outputs": [],
   "source": [
    "# Lib\n",
    "LIB = pd.read_csv(f\"{data_in}/{data_prefix}-LIB.csv\").set_index('book_id')\n",
    "LIB['title'] = LIB.title.str.split(r',? by').apply(lambda x: x[0])\n",
    "LIB['author'] = LIB.apply(lambda x: re.split(r',? by', x.title)[-1], 1)\n",
    "for idx in [15859, 13720, 53861, 13721]:\n",
    "    LIB.loc[idx, 'author'] = 'Herman Melville'\n",
    "LIB = LIB[['title','author']]"
   ]
  },
  {
   "cell_type": "code",
   "execution_count": 5,
   "id": "7f153c95-79f1-4bb7-a964-94dedea7d21f",
   "metadata": {},
   "outputs": [],
   "source": [
    "# Tokens\n",
    "TOKEN = pd.read_csv(f'{data_in}/{data_prefix}-TOKEN.csv')\n",
    "OHCO = TOKEN.columns.to_list()[:5] \n",
    "TOKEN = TOKEN.set_index(OHCO)"
   ]
  },
  {
   "cell_type": "code",
   "execution_count": null,
   "id": "dfbe430e-0ab6-42fe-9e9b-26e7a6b3646b",
   "metadata": {},
   "outputs": [],
   "source": [
    "# Vocab\n",
    "VOCAB = pd.read_csv(f'{data_in}/{data_prefix}-VOCAB.csv').set_index('term_str')\n",
    "# VOCAB = VOCAB.drop('term_id', 1) # We will forego using numeric term_ids and just use the term_str\n",
    "VOCAB['pos_max'] = TOKEN.groupby(['term_str','pos']).pos.count().unstack().idxmax(1)\n",
    "VOCAB['pos_group'] = VOCAB.max_pos.str[:2]\n",
    "VOCAB['term_code'] = VOCAB.apply(lambda x: str(x.name) + '/' + x.max_pos, 1)\n",
    "VOCAB['term_len'] = VOCAB.index.str.len()"
   ]
  },
  {
   "cell_type": "markdown",
   "id": "usual-cheese",
   "metadata": {},
   "source": [
    "# Recreate BOW and TFIDF"
   ]
  },
  {
   "cell_type": "code",
   "execution_count": null,
   "id": "random-divide",
   "metadata": {},
   "outputs": [],
   "source": [
    "# DOC = OHCO[:1] # Book\n",
    "DOC = OHCO[:2] # Chapter\n",
    "# DOC = OHCO[:3] # Paragraph"
   ]
  },
  {
   "cell_type": "code",
   "execution_count": null,
   "id": "measured-opportunity",
   "metadata": {},
   "outputs": [],
   "source": [
    "BOW = TOKEN.groupby(DOC+['term_str']).term_str.count().to_frame('n')\n",
    "BOW['bool'] = 1 "
   ]
  },
  {
   "cell_type": "code",
   "execution_count": null,
   "id": "cosmetic-cigarette",
   "metadata": {},
   "outputs": [],
   "source": [
    "BOW"
   ]
  },
  {
   "cell_type": "markdown",
   "id": "classical-cheese",
   "metadata": {},
   "source": [
    "## TFIDF"
   ]
  },
  {
   "cell_type": "markdown",
   "id": "orange-paper",
   "metadata": {},
   "source": [
    "### Traditional"
   ]
  },
  {
   "cell_type": "code",
   "execution_count": null,
   "id": "992193b2-95f1-4a69-9b6f-f6ed6c906d38",
   "metadata": {},
   "outputs": [],
   "source": [
    "TF = BOW.n.unstack(fill_value=0)    \n",
    "DF = TF.astype('bool').sum() \n",
    "N = len(TF)\n",
    "IDF = np.log2(N/DF)      \n",
    "TFIDF = TF * IDF\n",
    "TFIDF_agg = TFIDF.sum()"
   ]
  },
  {
   "cell_type": "code",
   "execution_count": null,
   "id": "quick-reaction",
   "metadata": {},
   "outputs": [],
   "source": [
    "TFIDF_agg.sort_values(ascending=False).head(20)"
   ]
  },
  {
   "cell_type": "markdown",
   "id": "strategic-interstate",
   "metadata": {},
   "source": [
    "### Variants"
   ]
  },
  {
   "cell_type": "code",
   "execution_count": null,
   "id": "christian-dividend",
   "metadata": {},
   "outputs": [],
   "source": [
    "def rel_tf(tf):\n",
    "    return (tf.T / tf.T.sum()).T\n",
    "\n",
    "def max_tf(tf, alpha=.4):\n",
    "    return alpha + (1 - alpha) * (tf.T / tf.T.max()).T\n",
    "\n",
    "def bool_tf(tf):\n",
    "    return tf.astype('bool').astype('int')\n",
    "\n",
    "def log_tf(tf):\n",
    "    return np.log2(1 + tf)\n",
    "\n",
    "# def sub_tf(tf): # Sublinear\n",
    "#     return 1 + np.log2(tf)"
   ]
  },
  {
   "cell_type": "code",
   "execution_count": null,
   "id": "cfe9c461-72ff-404e-ad7a-c8e89626402b",
   "metadata": {},
   "outputs": [],
   "source": [
    "TFIDF_rel = rel_tf(TF) * IDF\n",
    "TFIDF_bool = bool_tf(TF) * IDF\n",
    "TFIDF_max = max_tf(TF) * IDF\n",
    "TFIDF_log = log_tf(TF) * IDF"
   ]
  },
  {
   "cell_type": "code",
   "execution_count": null,
   "id": "07a684b9-4060-46dd-99ae-d96e2d2a3cfc",
   "metadata": {},
   "outputs": [],
   "source": [
    "TFIDF_agg_rel = TFIDF_rel.sum().to_frame('sum_val')\n",
    "TFIDF_agg_bool = TFIDF_bool.sum().to_frame('sum_val')\n",
    "TFIDF_agg_max = TFIDF_max.sum().to_frame('sum_val')\n",
    "TFIDF_agg_log = TFIDF_log.sum().to_frame('sum_val')"
   ]
  },
  {
   "cell_type": "code",
   "execution_count": null,
   "id": "54e49d81-42d0-499b-a9a2-67febfaf824d",
   "metadata": {},
   "outputs": [],
   "source": [
    "DFIDF = (DF * IDF).to_frame('val')"
   ]
  },
  {
   "cell_type": "code",
   "execution_count": null,
   "id": "particular-polish",
   "metadata": {},
   "outputs": [],
   "source": [
    "pd.concat([\n",
    "    DFIDF.sort_values('val', ascending=False).head(20).reset_index(),\n",
    "    TFIDF_agg_bool.sort_values('sum_val', ascending=False).head(20).reset_index(), \n",
    "    TFIDF_agg_max.sort_values('sum_val', ascending=False).head(20).reset_index(),\n",
    "    TFIDF_agg_rel.sort_values('sum_val', ascending=False).head(20).reset_index(),\n",
    "    TFIDF_agg_log.sort_values('sum_val', ascending=False).head(20).reset_index()\n",
    "    ], \n",
    "    axis=1, keys=['dfidf', 'bool','max', 'rel', 'log'])\\\n",
    "    .style.background_gradient('YlGnBu')"
   ]
  },
  {
   "cell_type": "markdown",
   "id": "52834ced-4fac-4e45-b682-17779c26d995",
   "metadata": {},
   "source": [
    "# Document Significance"
   ]
  },
  {
   "cell_type": "code",
   "execution_count": null,
   "id": "2ac3677e-5531-48cd-aaac-821b00f026d3",
   "metadata": {},
   "outputs": [],
   "source": [
    "# DS = TFIDF.T.mean() # Document Significance\n",
    "# DS_sum = TFIDF.T.sum() # Document Significance\n",
    "# DS_bool = TFIDF_bool.T.mean() # Document Significance\n",
    "# DS_max = TFIDF_max.T.mean() # Document Significance"
   ]
  },
  {
   "cell_type": "code",
   "execution_count": null,
   "id": "748c67cf-0915-4764-bcf8-71a1abb57d5f",
   "metadata": {},
   "outputs": [],
   "source": [
    "DOCS = BOW.groupby(DOC).n.sum().to_frame('n')\n",
    "DOCS['doc_sig_raw'] = TFIDF.T.mean()\n",
    "DOCS['doc_sig_bool'] = TFIDF_bool.T.mean()\n",
    "DOCS['doc_sig_max'] = TFIDF_max.T.mean()\n",
    "DOCS['doc_sig_rel'] = TFIDF_rel.T.mean()"
   ]
  },
  {
   "cell_type": "code",
   "execution_count": null,
   "id": "short-grove",
   "metadata": {},
   "outputs": [],
   "source": [
    "def plot_sig_docs(book_id, sig_type='raw', type='scatter'):\n",
    "    d = DOCS.loc[book_id]\n",
    "    sig = f'doc_sig_{sig_type}'\n",
    "    title = LIB.loc[book_id].title + \" / \" + sig_type\n",
    "    if type == 'scatter':\n",
    "        return px.scatter(d.reset_index(), 'chap_num', sig, title=title, height=500, size='n', text=d.index)\n",
    "    elif type == 'line':\n",
    "        return px.line(d.reset_index(), 'chap_num', sig, title=title, height=500)        "
   ]
  },
  {
   "cell_type": "code",
   "execution_count": null,
   "id": "loved-valley",
   "metadata": {},
   "outputs": [],
   "source": [
    "plot_sig_docs(105, sig_type='bool')"
   ]
  },
  {
   "cell_type": "markdown",
   "id": "republican-monte",
   "metadata": {
    "tags": []
   },
   "source": [
    "> **Chapter 12 signals a climax in the novel's narrative.** Persuasion is a linear narrative that is organized chronologically. The original edition of this novel was published in two volumes, the first volume ending at the close of Chapter 12. Louisa's fall is the greatest dramatic occurrence which has happened so far. By inserting the fall here, Austen creates a cliffhanger and encourages her readers to buy the second volume of her novel. In these chapters, the reader is shown the negative effects of what can happen when one is too stubborn. Louisa would not be persuaded to keep from jumping off the wall. Her firmness of mind means serious injury for her and significant guilt for Captain Wentworth. He is encouraged to rethink his initial judgment of the benefit of a \"strong character.\" [Sparknotes https://www.sparknotes.com/lit/persuasion/section6/page/2/]"
   ]
  },
  {
   "cell_type": "code",
   "execution_count": null,
   "id": "romance-jersey",
   "metadata": {},
   "outputs": [],
   "source": [
    "plot_sig_docs(1342, sig_type='bool')"
   ]
  },
  {
   "cell_type": "code",
   "execution_count": null,
   "id": "seven-determination",
   "metadata": {},
   "outputs": [],
   "source": [
    "plot_sig_docs(2701, sig_type='bool')"
   ]
  },
  {
   "cell_type": "markdown",
   "id": "perfect-arcade",
   "metadata": {},
   "source": [
    "# Doc Sig by Book"
   ]
  },
  {
   "cell_type": "code",
   "execution_count": null,
   "id": "cooked-struggle",
   "metadata": {},
   "outputs": [],
   "source": [
    "def get_chap_sigs(bow):\n",
    "    tf = bow['bool'].unstack(fill_value=0)\n",
    "    tf = (tf.T / tf.T.sum()).T # Normalize bool by length\n",
    "    df = tf.sum()\n",
    "    idf = np.log2(len(tf)/df)\n",
    "    tfidf = tf * idf\n",
    "    ds = tfidf.T.mean()\n",
    "    return ds"
   ]
  },
  {
   "cell_type": "code",
   "execution_count": null,
   "id": "molecular-correction",
   "metadata": {},
   "outputs": [],
   "source": [
    "def plot_sig_docs2(book_id, type='scatter'):\n",
    "\n",
    "    global BOW\n",
    "    bow = BOW.loc[book_id]\n",
    "    d = bow.groupby('chap_num').n.sum().to_frame('n')\n",
    "    d['doc_sig'] = get_chap_sigs(bow)\n",
    "    title = LIB.loc[book_id].title\n",
    "    d = d.reset_index()\n",
    "    d['p'] = (d.n / d.n.sum()) * 700\n",
    "\n",
    "    fig = go.Figure()\n",
    "    fig.add_trace(go.Scatter(x=d.chap_num, y=d.doc_sig, text=d.chap_num, \n",
    "                             mode = 'lines+markers+text',\n",
    "                             marker = dict(size=d.p, color='#BBB'),\n",
    "                             line = dict(color='#DADADA'),\n",
    "                             textfont = dict(color=\"black\")\n",
    "                            ))\n",
    "                  \n",
    "    fig.update_layout(\n",
    "        font = dict(color=\"#000\", size=14),\n",
    "        title=title,\n",
    "        xaxis_title=\"Chapter\",\n",
    "        yaxis_title=\"Significance\",\n",
    "        height=800\n",
    "    )\n",
    "    fig.show()"
   ]
  },
  {
   "cell_type": "code",
   "execution_count": null,
   "id": "working-shanghai",
   "metadata": {},
   "outputs": [],
   "source": [
    "plot_sig_docs2(105)"
   ]
  },
  {
   "cell_type": "code",
   "execution_count": null,
   "id": "tamil-psychiatry",
   "metadata": {},
   "outputs": [],
   "source": [
    "plot_sig_docs2(1342)"
   ]
  },
  {
   "cell_type": "code",
   "execution_count": null,
   "id": "precious-physiology",
   "metadata": {},
   "outputs": [],
   "source": [
    "plot_sig_docs2(2701)"
   ]
  },
  {
   "cell_type": "code",
   "execution_count": null,
   "id": "average-tiffany",
   "metadata": {},
   "outputs": [],
   "source": [
    "BOW"
   ]
  }
 ],
 "metadata": {
  "kernelspec": {
   "display_name": "Python 3 (ipykernel)",
   "language": "python",
   "name": "python3"
  },
  "language_info": {
   "codemirror_mode": {
    "name": "ipython",
    "version": 3
   },
   "file_extension": ".py",
   "mimetype": "text/x-python",
   "name": "python",
   "nbconvert_exporter": "python",
   "pygments_lexer": "ipython3",
   "version": "3.8.3"
  },
  "latex_envs": {
   "LaTeX_envs_menu_present": true,
   "autoclose": false,
   "autocomplete": true,
   "bibliofile": "biblio.bib",
   "cite_by": "apalike",
   "current_citInitial": 1,
   "eqLabelWithNumbers": true,
   "eqNumInitial": 1,
   "hotkeys": {
    "equation": "Ctrl-E",
    "itemize": "Ctrl-I"
   },
   "labels_anchors": false,
   "latex_user_defs": false,
   "report_style_numbering": false,
   "user_envs_cfg": false
  },
  "toc": {
   "base_numbering": 1,
   "nav_menu": {},
   "number_sections": true,
   "sideBar": true,
   "skip_h1_title": true,
   "title_cell": "Table of Contents",
   "title_sidebar": "Contents",
   "toc_cell": false,
   "toc_position": {
    "height": "calc(100% - 180px)",
    "left": "10px",
    "top": "150px",
    "width": "172px"
   },
   "toc_section_display": true,
   "toc_window_display": true
  },
  "toc-autonumbering": false,
  "toc-showcode": false,
  "toc-showmarkdowntxt": false,
  "toc-showtags": false,
  "varInspector": {
   "cols": {
    "lenName": 16,
    "lenType": 16,
    "lenVar": 40
   },
   "kernels_config": {
    "python": {
     "delete_cmd_postfix": "",
     "delete_cmd_prefix": "del ",
     "library": "var_list.py",
     "varRefreshCmd": "print(var_dic_list())"
    },
    "r": {
     "delete_cmd_postfix": ") ",
     "delete_cmd_prefix": "rm(",
     "library": "var_list.r",
     "varRefreshCmd": "cat(var_dic_list()) "
    }
   },
   "types_to_exclude": [
    "module",
    "function",
    "builtin_function_or_method",
    "instance",
    "_Feature"
   ],
   "window_display": false
  },
  "widgets": {
   "application/vnd.jupyter.widget-state+json": {
    "state": {},
    "version_major": 2,
    "version_minor": 0
   }
  }
 },
 "nbformat": 4,
 "nbformat_minor": 5
}
