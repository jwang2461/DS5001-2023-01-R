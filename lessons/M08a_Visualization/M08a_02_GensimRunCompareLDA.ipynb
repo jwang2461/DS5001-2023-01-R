{
 "cells": [
  {
   "cell_type": "markdown",
   "metadata": {
    "tags": []
   },
   "source": [
    "# Metadata\n",
    "\n",
    "```yaml\n",
    "Course:   DS 5001\n",
    "Module:   08a \n",
    "Topic:    How to Compare Topic Models (Gensim)\n",
    "Author:   Gensim (adapted by R.C. Alvarado\n",
    "Date:     23 March 2023\n",
    "```\n",
    "\n",
    "**Purpose:** Demonstrates how you can visualize and compare trained topic models.\n",
    "\n",
    "\n"
   ]
  },
  {
   "cell_type": "markdown",
   "metadata": {
    "tags": []
   },
   "source": [
    "# Set Up"
   ]
  },
  {
   "cell_type": "markdown",
   "metadata": {
    "tags": []
   },
   "source": [
    "## Config"
   ]
  },
  {
   "cell_type": "code",
   "execution_count": 1,
   "metadata": {},
   "outputs": [],
   "source": [
    "num_topics = 15"
   ]
  },
  {
   "cell_type": "markdown",
   "metadata": {},
   "source": [
    "## Imports"
   ]
  },
  {
   "cell_type": "code",
   "execution_count": 2,
   "metadata": {
    "collapsed": false,
    "jupyter": {
     "outputs_hidden": false
    }
   },
   "outputs": [],
   "source": [
    "import numpy as np\n",
    "import matplotlib.pyplot as plt\n",
    "import plotly.graph_objs as go\n",
    "import plotly.offline as py"
   ]
  },
  {
   "cell_type": "code",
   "execution_count": 3,
   "metadata": {
    "collapsed": false,
    "jupyter": {
     "outputs_hidden": false
    }
   },
   "outputs": [],
   "source": [
    "from string import punctuation\n",
    "from nltk import RegexpTokenizer\n",
    "from nltk.stem.porter import PorterStemmer\n",
    "from nltk.corpus import stopwords\n",
    "from sklearn.datasets import fetch_20newsgroups\n",
    "from gensim.corpora import Dictionary\n",
    "from gensim.models import LdaMulticore"
   ]
  },
  {
   "cell_type": "markdown",
   "metadata": {},
   "source": [
    "# Acquire and Prepare Data\n",
    "\n",
    "Acquire and clean up the 20 Newsgroups dataset."
   ]
  },
  {
   "cell_type": "code",
   "execution_count": 4,
   "metadata": {
    "collapsed": false,
    "jupyter": {
     "outputs_hidden": false
    }
   },
   "outputs": [],
   "source": [
    "newsgroups = fetch_20newsgroups()\n",
    "eng_stopwords = set(stopwords.words('english'))\n",
    "tokenizer = RegexpTokenizer(r'\\s+', gaps=True)\n",
    "stemmer = PorterStemmer()\n",
    "translate_tab = {ord(p): u\" \" for p in punctuation}"
   ]
  },
  {
   "cell_type": "markdown",
   "metadata": {},
   "source": [
    "Convert a documents to list of tokens."
   ]
  },
  {
   "cell_type": "code",
   "execution_count": 5,
   "metadata": {
    "collapsed": false,
    "jupyter": {
     "outputs_hidden": false
    }
   },
   "outputs": [],
   "source": [
    "def text2tokens(raw_text):\n",
    "    \"\"\"Split the raw_text string into a list of stemmed tokens.\"\"\"\n",
    "    clean_text = raw_text.lower().translate(translate_tab)\n",
    "    tokens = [token.strip() for token in tokenizer.tokenize(clean_text)]\n",
    "    tokens = [token for token in tokens if token not in eng_stopwords]\n",
    "    stemmed_tokens = [stemmer.stem(token) for token in tokens]\n",
    "    return [token for token in stemmed_tokens if len(token) > 2]  # skip short tokens"
   ]
  },
  {
   "cell_type": "code",
   "execution_count": 6,
   "metadata": {
    "collapsed": false,
    "jupyter": {
     "outputs_hidden": false
    }
   },
   "outputs": [],
   "source": [
    "dataset = [text2tokens(txt) for txt in newsgroups['data']] "
   ]
  },
  {
   "cell_type": "markdown",
   "metadata": {},
   "source": [
    "Create Gensim dictionary."
   ]
  },
  {
   "cell_type": "code",
   "execution_count": 7,
   "metadata": {
    "collapsed": false,
    "jupyter": {
     "outputs_hidden": false
    }
   },
   "outputs": [],
   "source": [
    "dictionary = Dictionary(documents=dataset, prune_at=None)\n",
    "dictionary.filter_extremes(no_below=5, no_above=0.3, keep_n=None)  # use Dictionary to remove un-relevant tokens\n",
    "dictionary.compactify()"
   ]
  },
  {
   "cell_type": "markdown",
   "metadata": {},
   "source": [
    "Convert list of tokens to bag of word representation"
   ]
  },
  {
   "cell_type": "code",
   "execution_count": 8,
   "metadata": {
    "collapsed": false,
    "jupyter": {
     "outputs_hidden": false
    }
   },
   "outputs": [],
   "source": [
    "d2b_dataset = [dictionary.doc2bow(doc) for doc in dataset] "
   ]
  },
  {
   "cell_type": "markdown",
   "metadata": {},
   "source": [
    "# Fit LDA Models"
   ]
  },
  {
   "cell_type": "code",
   "execution_count": 9,
   "metadata": {
    "collapsed": false,
    "jupyter": {
     "outputs_hidden": false
    }
   },
   "outputs": [],
   "source": [
    "lda_fst = LdaMulticore(\n",
    "    corpus=d2b_dataset, \n",
    "    num_topics=num_topics, \n",
    "    id2word=dictionary,\n",
    "    workers=4, \n",
    "    eval_every=None, \n",
    "    passes=10, \n",
    "    batch=True,\n",
    ")\n",
    "\n",
    "lda_snd = LdaMulticore(\n",
    "    corpus=d2b_dataset, \n",
    "    num_topics=num_topics, \n",
    "    id2word=dictionary,\n",
    "    workers=4, \n",
    "    eval_every=None, \n",
    "    passes=20, \n",
    "    batch=True,\n",
    ")"
   ]
  },
  {
   "cell_type": "markdown",
   "metadata": {},
   "source": [
    "# Visualize Differences with `diff()`\n",
    "\n",
    "We use two slightly different visualization methods depending on how you're running this tutorial."
   ]
  },
  {
   "cell_type": "code",
   "execution_count": 20,
   "metadata": {
    "collapsed": false,
    "jupyter": {
     "outputs_hidden": false
    }
   },
   "outputs": [],
   "source": [
    "def plot_difference_plotly(mdiff, title=\"\", annotation=None):\n",
    "    \"\"\"Plot the difference between models. Uses plotly as the backend.\"\"\"\n",
    "    annotation_html = None\n",
    "    if annotation is not None:\n",
    "        annotation_html = [\n",
    "            [\n",
    "                \"+++ {}<br>--- {}\".format(\", \".join(int_tokens), \", \".join(diff_tokens))\n",
    "                for (int_tokens, diff_tokens) in row\n",
    "            ]\n",
    "            for row in annotation\n",
    "        ]\n",
    "\n",
    "    data = go.Heatmap(z=mdiff, colorscale='RdBu', text=annotation_html)\n",
    "    layout = go.Layout(width=950, height=950, title=title, xaxis=dict(title=\"topic\"), yaxis=dict(title=\"topic\"))\n",
    "    py.iplot(dict(data=[data], layout=layout))"
   ]
  },
  {
   "cell_type": "code",
   "execution_count": 21,
   "metadata": {
    "collapsed": false,
    "jupyter": {
     "outputs_hidden": false
    }
   },
   "outputs": [],
   "source": [
    "def plot_difference_matplotlib(mdiff, title=\"\", annotation=None):\n",
    "    \"\"\"Helper function to plot difference between models.\n",
    "\n",
    "    Uses matplotlib as the backend.\"\"\"\n",
    "    fig, ax = plt.subplots(figsize=(18, 14))\n",
    "    data = ax.imshow(mdiff, cmap='RdBu_r', origin='lower')\n",
    "    plt.title(title)\n",
    "    plt.colorbar(data)"
   ]
  },
  {
   "cell_type": "code",
   "execution_count": 22,
   "metadata": {
    "collapsed": false,
    "jupyter": {
     "outputs_hidden": false
    }
   },
   "outputs": [],
   "source": [
    "# py.init_notebook_mode()\n",
    "plot_difference = plot_difference_plotly"
   ]
  },
  {
   "cell_type": "markdown",
   "metadata": {},
   "source": [
    "Gensim can help you visualise the differences between topics. For this purpose, you can use the ``diff()`` method of LdaModel.\n",
    "\n",
    "``diff()`` returns a matrix with distances **mdiff** and a matrix with annotations **annotation**. Read the docstring for more detailed info.\n",
    "\n",
    "In each **mdiff[i][j]** cell you'll find a distance between **topic_i** from the first model and **topic_j** from the second model.\n",
    "\n",
    "In each **annotation[i][j]** cell you'll find **[tokens from intersection, tokens from difference** between **topic_i** from first model and **topic_j** from the second model.\n",
    "\n",
    "\n"
   ]
  },
  {
   "cell_type": "code",
   "execution_count": 31,
   "metadata": {
    "collapsed": false,
    "jupyter": {
     "outputs_hidden": false
    }
   },
   "outputs": [],
   "source": [
    "# print(LdaMulticore.diff.__doc__)"
   ]
  },
  {
   "cell_type": "markdown",
   "metadata": {},
   "source": [
    "## Case 1: How topics within ONE model correlate with each other."
   ]
  },
  {
   "cell_type": "markdown",
   "metadata": {},
   "source": [
    "Short description:\n",
    "\n",
    "* x-axis - topic1\n",
    "* y-axis - topic2\n",
    "* BLUE: strongly decorrelated topics\n",
    "* RED: strongly correlated topics\n",
    "\n",
    "In an ideal world, we would like to see different topics decorrelated between themselves.\n",
    "\n",
    "In this case, our matrix would look like this:"
   ]
  },
  {
   "cell_type": "code",
   "execution_count": 24,
   "metadata": {
    "collapsed": false,
    "jupyter": {
     "outputs_hidden": false
    }
   },
   "outputs": [],
   "source": [
    "mdiff = np.ones((num_topics, num_topics))\n",
    "np.fill_diagonal(mdiff, 0.)"
   ]
  },
  {
   "cell_type": "code",
   "execution_count": 25,
   "metadata": {
    "collapsed": false,
    "jupyter": {
     "outputs_hidden": false
    }
   },
   "outputs": [
    {
     "data": {
      "application/vnd.plotly.v1+json": {
       "config": {
        "linkText": "Export to plot.ly",
        "plotlyServerURL": "https://plot.ly",
        "showLink": false
       },
       "data": [
        {
         "colorscale": [
          [
           0,
           "rgb(103,0,31)"
          ],
          [
           0.1,
           "rgb(178,24,43)"
          ],
          [
           0.2,
           "rgb(214,96,77)"
          ],
          [
           0.3,
           "rgb(244,165,130)"
          ],
          [
           0.4,
           "rgb(253,219,199)"
          ],
          [
           0.5,
           "rgb(247,247,247)"
          ],
          [
           0.6,
           "rgb(209,229,240)"
          ],
          [
           0.7,
           "rgb(146,197,222)"
          ],
          [
           0.8,
           "rgb(67,147,195)"
          ],
          [
           0.9,
           "rgb(33,102,172)"
          ],
          [
           1,
           "rgb(5,48,97)"
          ]
         ],
         "type": "heatmap",
         "z": [
          [
           0,
           1,
           1,
           1,
           1,
           1,
           1,
           1,
           1,
           1,
           1,
           1,
           1,
           1,
           1
          ],
          [
           1,
           0,
           1,
           1,
           1,
           1,
           1,
           1,
           1,
           1,
           1,
           1,
           1,
           1,
           1
          ],
          [
           1,
           1,
           0,
           1,
           1,
           1,
           1,
           1,
           1,
           1,
           1,
           1,
           1,
           1,
           1
          ],
          [
           1,
           1,
           1,
           0,
           1,
           1,
           1,
           1,
           1,
           1,
           1,
           1,
           1,
           1,
           1
          ],
          [
           1,
           1,
           1,
           1,
           0,
           1,
           1,
           1,
           1,
           1,
           1,
           1,
           1,
           1,
           1
          ],
          [
           1,
           1,
           1,
           1,
           1,
           0,
           1,
           1,
           1,
           1,
           1,
           1,
           1,
           1,
           1
          ],
          [
           1,
           1,
           1,
           1,
           1,
           1,
           0,
           1,
           1,
           1,
           1,
           1,
           1,
           1,
           1
          ],
          [
           1,
           1,
           1,
           1,
           1,
           1,
           1,
           0,
           1,
           1,
           1,
           1,
           1,
           1,
           1
          ],
          [
           1,
           1,
           1,
           1,
           1,
           1,
           1,
           1,
           0,
           1,
           1,
           1,
           1,
           1,
           1
          ],
          [
           1,
           1,
           1,
           1,
           1,
           1,
           1,
           1,
           1,
           0,
           1,
           1,
           1,
           1,
           1
          ],
          [
           1,
           1,
           1,
           1,
           1,
           1,
           1,
           1,
           1,
           1,
           0,
           1,
           1,
           1,
           1
          ],
          [
           1,
           1,
           1,
           1,
           1,
           1,
           1,
           1,
           1,
           1,
           1,
           0,
           1,
           1,
           1
          ],
          [
           1,
           1,
           1,
           1,
           1,
           1,
           1,
           1,
           1,
           1,
           1,
           1,
           0,
           1,
           1
          ],
          [
           1,
           1,
           1,
           1,
           1,
           1,
           1,
           1,
           1,
           1,
           1,
           1,
           1,
           0,
           1
          ],
          [
           1,
           1,
           1,
           1,
           1,
           1,
           1,
           1,
           1,
           1,
           1,
           1,
           1,
           1,
           0
          ]
         ]
        }
       ],
       "layout": {
        "height": 950,
        "template": {
         "data": {
          "bar": [
           {
            "error_x": {
             "color": "#2a3f5f"
            },
            "error_y": {
             "color": "#2a3f5f"
            },
            "marker": {
             "line": {
              "color": "#E5ECF6",
              "width": 0.5
             },
             "pattern": {
              "fillmode": "overlay",
              "size": 10,
              "solidity": 0.2
             }
            },
            "type": "bar"
           }
          ],
          "barpolar": [
           {
            "marker": {
             "line": {
              "color": "#E5ECF6",
              "width": 0.5
             },
             "pattern": {
              "fillmode": "overlay",
              "size": 10,
              "solidity": 0.2
             }
            },
            "type": "barpolar"
           }
          ],
          "carpet": [
           {
            "aaxis": {
             "endlinecolor": "#2a3f5f",
             "gridcolor": "white",
             "linecolor": "white",
             "minorgridcolor": "white",
             "startlinecolor": "#2a3f5f"
            },
            "baxis": {
             "endlinecolor": "#2a3f5f",
             "gridcolor": "white",
             "linecolor": "white",
             "minorgridcolor": "white",
             "startlinecolor": "#2a3f5f"
            },
            "type": "carpet"
           }
          ],
          "choropleth": [
           {
            "colorbar": {
             "outlinewidth": 0,
             "ticks": ""
            },
            "type": "choropleth"
           }
          ],
          "contour": [
           {
            "colorbar": {
             "outlinewidth": 0,
             "ticks": ""
            },
            "colorscale": [
             [
              0,
              "#0d0887"
             ],
             [
              0.1111111111111111,
              "#46039f"
             ],
             [
              0.2222222222222222,
              "#7201a8"
             ],
             [
              0.3333333333333333,
              "#9c179e"
             ],
             [
              0.4444444444444444,
              "#bd3786"
             ],
             [
              0.5555555555555556,
              "#d8576b"
             ],
             [
              0.6666666666666666,
              "#ed7953"
             ],
             [
              0.7777777777777778,
              "#fb9f3a"
             ],
             [
              0.8888888888888888,
              "#fdca26"
             ],
             [
              1,
              "#f0f921"
             ]
            ],
            "type": "contour"
           }
          ],
          "contourcarpet": [
           {
            "colorbar": {
             "outlinewidth": 0,
             "ticks": ""
            },
            "type": "contourcarpet"
           }
          ],
          "heatmap": [
           {
            "colorbar": {
             "outlinewidth": 0,
             "ticks": ""
            },
            "colorscale": [
             [
              0,
              "#0d0887"
             ],
             [
              0.1111111111111111,
              "#46039f"
             ],
             [
              0.2222222222222222,
              "#7201a8"
             ],
             [
              0.3333333333333333,
              "#9c179e"
             ],
             [
              0.4444444444444444,
              "#bd3786"
             ],
             [
              0.5555555555555556,
              "#d8576b"
             ],
             [
              0.6666666666666666,
              "#ed7953"
             ],
             [
              0.7777777777777778,
              "#fb9f3a"
             ],
             [
              0.8888888888888888,
              "#fdca26"
             ],
             [
              1,
              "#f0f921"
             ]
            ],
            "type": "heatmap"
           }
          ],
          "heatmapgl": [
           {
            "colorbar": {
             "outlinewidth": 0,
             "ticks": ""
            },
            "colorscale": [
             [
              0,
              "#0d0887"
             ],
             [
              0.1111111111111111,
              "#46039f"
             ],
             [
              0.2222222222222222,
              "#7201a8"
             ],
             [
              0.3333333333333333,
              "#9c179e"
             ],
             [
              0.4444444444444444,
              "#bd3786"
             ],
             [
              0.5555555555555556,
              "#d8576b"
             ],
             [
              0.6666666666666666,
              "#ed7953"
             ],
             [
              0.7777777777777778,
              "#fb9f3a"
             ],
             [
              0.8888888888888888,
              "#fdca26"
             ],
             [
              1,
              "#f0f921"
             ]
            ],
            "type": "heatmapgl"
           }
          ],
          "histogram": [
           {
            "marker": {
             "pattern": {
              "fillmode": "overlay",
              "size": 10,
              "solidity": 0.2
             }
            },
            "type": "histogram"
           }
          ],
          "histogram2d": [
           {
            "colorbar": {
             "outlinewidth": 0,
             "ticks": ""
            },
            "colorscale": [
             [
              0,
              "#0d0887"
             ],
             [
              0.1111111111111111,
              "#46039f"
             ],
             [
              0.2222222222222222,
              "#7201a8"
             ],
             [
              0.3333333333333333,
              "#9c179e"
             ],
             [
              0.4444444444444444,
              "#bd3786"
             ],
             [
              0.5555555555555556,
              "#d8576b"
             ],
             [
              0.6666666666666666,
              "#ed7953"
             ],
             [
              0.7777777777777778,
              "#fb9f3a"
             ],
             [
              0.8888888888888888,
              "#fdca26"
             ],
             [
              1,
              "#f0f921"
             ]
            ],
            "type": "histogram2d"
           }
          ],
          "histogram2dcontour": [
           {
            "colorbar": {
             "outlinewidth": 0,
             "ticks": ""
            },
            "colorscale": [
             [
              0,
              "#0d0887"
             ],
             [
              0.1111111111111111,
              "#46039f"
             ],
             [
              0.2222222222222222,
              "#7201a8"
             ],
             [
              0.3333333333333333,
              "#9c179e"
             ],
             [
              0.4444444444444444,
              "#bd3786"
             ],
             [
              0.5555555555555556,
              "#d8576b"
             ],
             [
              0.6666666666666666,
              "#ed7953"
             ],
             [
              0.7777777777777778,
              "#fb9f3a"
             ],
             [
              0.8888888888888888,
              "#fdca26"
             ],
             [
              1,
              "#f0f921"
             ]
            ],
            "type": "histogram2dcontour"
           }
          ],
          "mesh3d": [
           {
            "colorbar": {
             "outlinewidth": 0,
             "ticks": ""
            },
            "type": "mesh3d"
           }
          ],
          "parcoords": [
           {
            "line": {
             "colorbar": {
              "outlinewidth": 0,
              "ticks": ""
             }
            },
            "type": "parcoords"
           }
          ],
          "pie": [
           {
            "automargin": true,
            "type": "pie"
           }
          ],
          "scatter": [
           {
            "fillpattern": {
             "fillmode": "overlay",
             "size": 10,
             "solidity": 0.2
            },
            "type": "scatter"
           }
          ],
          "scatter3d": [
           {
            "line": {
             "colorbar": {
              "outlinewidth": 0,
              "ticks": ""
             }
            },
            "marker": {
             "colorbar": {
              "outlinewidth": 0,
              "ticks": ""
             }
            },
            "type": "scatter3d"
           }
          ],
          "scattercarpet": [
           {
            "marker": {
             "colorbar": {
              "outlinewidth": 0,
              "ticks": ""
             }
            },
            "type": "scattercarpet"
           }
          ],
          "scattergeo": [
           {
            "marker": {
             "colorbar": {
              "outlinewidth": 0,
              "ticks": ""
             }
            },
            "type": "scattergeo"
           }
          ],
          "scattergl": [
           {
            "marker": {
             "colorbar": {
              "outlinewidth": 0,
              "ticks": ""
             }
            },
            "type": "scattergl"
           }
          ],
          "scattermapbox": [
           {
            "marker": {
             "colorbar": {
              "outlinewidth": 0,
              "ticks": ""
             }
            },
            "type": "scattermapbox"
           }
          ],
          "scatterpolar": [
           {
            "marker": {
             "colorbar": {
              "outlinewidth": 0,
              "ticks": ""
             }
            },
            "type": "scatterpolar"
           }
          ],
          "scatterpolargl": [
           {
            "marker": {
             "colorbar": {
              "outlinewidth": 0,
              "ticks": ""
             }
            },
            "type": "scatterpolargl"
           }
          ],
          "scatterternary": [
           {
            "marker": {
             "colorbar": {
              "outlinewidth": 0,
              "ticks": ""
             }
            },
            "type": "scatterternary"
           }
          ],
          "surface": [
           {
            "colorbar": {
             "outlinewidth": 0,
             "ticks": ""
            },
            "colorscale": [
             [
              0,
              "#0d0887"
             ],
             [
              0.1111111111111111,
              "#46039f"
             ],
             [
              0.2222222222222222,
              "#7201a8"
             ],
             [
              0.3333333333333333,
              "#9c179e"
             ],
             [
              0.4444444444444444,
              "#bd3786"
             ],
             [
              0.5555555555555556,
              "#d8576b"
             ],
             [
              0.6666666666666666,
              "#ed7953"
             ],
             [
              0.7777777777777778,
              "#fb9f3a"
             ],
             [
              0.8888888888888888,
              "#fdca26"
             ],
             [
              1,
              "#f0f921"
             ]
            ],
            "type": "surface"
           }
          ],
          "table": [
           {
            "cells": {
             "fill": {
              "color": "#EBF0F8"
             },
             "line": {
              "color": "white"
             }
            },
            "header": {
             "fill": {
              "color": "#C8D4E3"
             },
             "line": {
              "color": "white"
             }
            },
            "type": "table"
           }
          ]
         },
         "layout": {
          "annotationdefaults": {
           "arrowcolor": "#2a3f5f",
           "arrowhead": 0,
           "arrowwidth": 1
          },
          "autotypenumbers": "strict",
          "coloraxis": {
           "colorbar": {
            "outlinewidth": 0,
            "ticks": ""
           }
          },
          "colorscale": {
           "diverging": [
            [
             0,
             "#8e0152"
            ],
            [
             0.1,
             "#c51b7d"
            ],
            [
             0.2,
             "#de77ae"
            ],
            [
             0.3,
             "#f1b6da"
            ],
            [
             0.4,
             "#fde0ef"
            ],
            [
             0.5,
             "#f7f7f7"
            ],
            [
             0.6,
             "#e6f5d0"
            ],
            [
             0.7,
             "#b8e186"
            ],
            [
             0.8,
             "#7fbc41"
            ],
            [
             0.9,
             "#4d9221"
            ],
            [
             1,
             "#276419"
            ]
           ],
           "sequential": [
            [
             0,
             "#0d0887"
            ],
            [
             0.1111111111111111,
             "#46039f"
            ],
            [
             0.2222222222222222,
             "#7201a8"
            ],
            [
             0.3333333333333333,
             "#9c179e"
            ],
            [
             0.4444444444444444,
             "#bd3786"
            ],
            [
             0.5555555555555556,
             "#d8576b"
            ],
            [
             0.6666666666666666,
             "#ed7953"
            ],
            [
             0.7777777777777778,
             "#fb9f3a"
            ],
            [
             0.8888888888888888,
             "#fdca26"
            ],
            [
             1,
             "#f0f921"
            ]
           ],
           "sequentialminus": [
            [
             0,
             "#0d0887"
            ],
            [
             0.1111111111111111,
             "#46039f"
            ],
            [
             0.2222222222222222,
             "#7201a8"
            ],
            [
             0.3333333333333333,
             "#9c179e"
            ],
            [
             0.4444444444444444,
             "#bd3786"
            ],
            [
             0.5555555555555556,
             "#d8576b"
            ],
            [
             0.6666666666666666,
             "#ed7953"
            ],
            [
             0.7777777777777778,
             "#fb9f3a"
            ],
            [
             0.8888888888888888,
             "#fdca26"
            ],
            [
             1,
             "#f0f921"
            ]
           ]
          },
          "colorway": [
           "#636efa",
           "#EF553B",
           "#00cc96",
           "#ab63fa",
           "#FFA15A",
           "#19d3f3",
           "#FF6692",
           "#B6E880",
           "#FF97FF",
           "#FECB52"
          ],
          "font": {
           "color": "#2a3f5f"
          },
          "geo": {
           "bgcolor": "white",
           "lakecolor": "white",
           "landcolor": "#E5ECF6",
           "showlakes": true,
           "showland": true,
           "subunitcolor": "white"
          },
          "hoverlabel": {
           "align": "left"
          },
          "hovermode": "closest",
          "mapbox": {
           "style": "light"
          },
          "paper_bgcolor": "white",
          "plot_bgcolor": "#E5ECF6",
          "polar": {
           "angularaxis": {
            "gridcolor": "white",
            "linecolor": "white",
            "ticks": ""
           },
           "bgcolor": "#E5ECF6",
           "radialaxis": {
            "gridcolor": "white",
            "linecolor": "white",
            "ticks": ""
           }
          },
          "scene": {
           "xaxis": {
            "backgroundcolor": "#E5ECF6",
            "gridcolor": "white",
            "gridwidth": 2,
            "linecolor": "white",
            "showbackground": true,
            "ticks": "",
            "zerolinecolor": "white"
           },
           "yaxis": {
            "backgroundcolor": "#E5ECF6",
            "gridcolor": "white",
            "gridwidth": 2,
            "linecolor": "white",
            "showbackground": true,
            "ticks": "",
            "zerolinecolor": "white"
           },
           "zaxis": {
            "backgroundcolor": "#E5ECF6",
            "gridcolor": "white",
            "gridwidth": 2,
            "linecolor": "white",
            "showbackground": true,
            "ticks": "",
            "zerolinecolor": "white"
           }
          },
          "shapedefaults": {
           "line": {
            "color": "#2a3f5f"
           }
          },
          "ternary": {
           "aaxis": {
            "gridcolor": "white",
            "linecolor": "white",
            "ticks": ""
           },
           "baxis": {
            "gridcolor": "white",
            "linecolor": "white",
            "ticks": ""
           },
           "bgcolor": "#E5ECF6",
           "caxis": {
            "gridcolor": "white",
            "linecolor": "white",
            "ticks": ""
           }
          },
          "title": {
           "x": 0.05
          },
          "xaxis": {
           "automargin": true,
           "gridcolor": "white",
           "linecolor": "white",
           "ticks": "",
           "title": {
            "standoff": 15
           },
           "zerolinecolor": "white",
           "zerolinewidth": 2
          },
          "yaxis": {
           "automargin": true,
           "gridcolor": "white",
           "linecolor": "white",
           "ticks": "",
           "title": {
            "standoff": 15
           },
           "zerolinecolor": "white",
           "zerolinewidth": 2
          }
         }
        },
        "title": {
         "text": "Topic difference (one model) in ideal world"
        },
        "width": 950,
        "xaxis": {
         "autorange": true,
         "range": [
          -0.5,
          14.5
         ],
         "title": {
          "text": "topic"
         }
        },
        "yaxis": {
         "autorange": true,
         "range": [
          -0.5,
          14.5
         ],
         "title": {
          "text": "topic"
         }
        }
       }
      },
      "image/png": "[encoded data removed]",
      "text/html": [
       "<div>                            <div id=\"afe01a25-3ecb-4634-8c53-4911356326cc\" class=\"plotly-graph-div\" style=\"height:950px; width:950px;\"></div>            <script type=\"text/javascript\">                require([\"plotly\"], function(Plotly) {                    window.PLOTLYENV=window.PLOTLYENV || {};                                    if (document.getElementById(\"afe01a25-3ecb-4634-8c53-4911356326cc\")) {                    Plotly.newPlot(                        \"afe01a25-3ecb-4634-8c53-4911356326cc\",                        [{\"colorscale\":[[0.0,\"rgb(103,0,31)\"],[0.1,\"rgb(178,24,43)\"],[0.2,\"rgb(214,96,77)\"],[0.3,\"rgb(244,165,130)\"],[0.4,\"rgb(253,219,199)\"],[0.5,\"rgb(247,247,247)\"],[0.6,\"rgb(209,229,240)\"],[0.7,\"rgb(146,197,222)\"],[0.8,\"rgb(67,147,195)\"],[0.9,\"rgb(33,102,172)\"],[1.0,\"rgb(5,48,97)\"]],\"z\":[[0.0,1.0,1.0,1.0,1.0,1.0,1.0,1.0,1.0,1.0,1.0,1.0,1.0,1.0,1.0],[1.0,0.0,1.0,1.0,1.0,1.0,1.0,1.0,1.0,1.0,1.0,1.0,1.0,1.0,1.0],[1.0,1.0,0.0,1.0,1.0,1.0,1.0,1.0,1.0,1.0,1.0,1.0,1.0,1.0,1.0],[1.0,1.0,1.0,0.0,1.0,1.0,1.0,1.0,1.0,1.0,1.0,1.0,1.0,1.0,1.0],[1.0,1.0,1.0,1.0,0.0,1.0,1.0,1.0,1.0,1.0,1.0,1.0,1.0,1.0,1.0],[1.0,1.0,1.0,1.0,1.0,0.0,1.0,1.0,1.0,1.0,1.0,1.0,1.0,1.0,1.0],[1.0,1.0,1.0,1.0,1.0,1.0,0.0,1.0,1.0,1.0,1.0,1.0,1.0,1.0,1.0],[1.0,1.0,1.0,1.0,1.0,1.0,1.0,0.0,1.0,1.0,1.0,1.0,1.0,1.0,1.0],[1.0,1.0,1.0,1.0,1.0,1.0,1.0,1.0,0.0,1.0,1.0,1.0,1.0,1.0,1.0],[1.0,1.0,1.0,1.0,1.0,1.0,1.0,1.0,1.0,0.0,1.0,1.0,1.0,1.0,1.0],[1.0,1.0,1.0,1.0,1.0,1.0,1.0,1.0,1.0,1.0,0.0,1.0,1.0,1.0,1.0],[1.0,1.0,1.0,1.0,1.0,1.0,1.0,1.0,1.0,1.0,1.0,0.0,1.0,1.0,1.0],[1.0,1.0,1.0,1.0,1.0,1.0,1.0,1.0,1.0,1.0,1.0,1.0,0.0,1.0,1.0],[1.0,1.0,1.0,1.0,1.0,1.0,1.0,1.0,1.0,1.0,1.0,1.0,1.0,0.0,1.0],[1.0,1.0,1.0,1.0,1.0,1.0,1.0,1.0,1.0,1.0,1.0,1.0,1.0,1.0,0.0]],\"type\":\"heatmap\"}],                        {\"height\":950,\"template\":{\"data\":{\"barpolar\":[{\"marker\":{\"line\":{\"color\":\"#E5ECF6\",\"width\":0.5},\"pattern\":{\"fillmode\":\"overlay\",\"size\":10,\"solidity\":0.2}},\"type\":\"barpolar\"}],\"bar\":[{\"error_x\":{\"color\":\"#2a3f5f\"},\"error_y\":{\"color\":\"#2a3f5f\"},\"marker\":{\"line\":{\"color\":\"#E5ECF6\",\"width\":0.5},\"pattern\":{\"fillmode\":\"overlay\",\"size\":10,\"solidity\":0.2}},\"type\":\"bar\"}],\"carpet\":[{\"aaxis\":{\"endlinecolor\":\"#2a3f5f\",\"gridcolor\":\"white\",\"linecolor\":\"white\",\"minorgridcolor\":\"white\",\"startlinecolor\":\"#2a3f5f\"},\"baxis\":{\"endlinecolor\":\"#2a3f5f\",\"gridcolor\":\"white\",\"linecolor\":\"white\",\"minorgridcolor\":\"white\",\"startlinecolor\":\"#2a3f5f\"},\"type\":\"carpet\"}],\"choropleth\":[{\"colorbar\":{\"outlinewidth\":0,\"ticks\":\"\"},\"type\":\"choropleth\"}],\"contourcarpet\":[{\"colorbar\":{\"outlinewidth\":0,\"ticks\":\"\"},\"type\":\"contourcarpet\"}],\"contour\":[{\"colorbar\":{\"outlinewidth\":0,\"ticks\":\"\"},\"colorscale\":[[0.0,\"#0d0887\"],[0.1111111111111111,\"#46039f\"],[0.2222222222222222,\"#7201a8\"],[0.3333333333333333,\"#9c179e\"],[0.4444444444444444,\"#bd3786\"],[0.5555555555555556,\"#d8576b\"],[0.6666666666666666,\"#ed7953\"],[0.7777777777777778,\"#fb9f3a\"],[0.8888888888888888,\"#fdca26\"],[1.0,\"#f0f921\"]],\"type\":\"contour\"}],\"heatmapgl\":[{\"colorbar\":{\"outlinewidth\":0,\"ticks\":\"\"},\"colorscale\":[[0.0,\"#0d0887\"],[0.1111111111111111,\"#46039f\"],[0.2222222222222222,\"#7201a8\"],[0.3333333333333333,\"#9c179e\"],[0.4444444444444444,\"#bd3786\"],[0.5555555555555556,\"#d8576b\"],[0.6666666666666666,\"#ed7953\"],[0.7777777777777778,\"#fb9f3a\"],[0.8888888888888888,\"#fdca26\"],[1.0,\"#f0f921\"]],\"type\":\"heatmapgl\"}],\"heatmap\":[{\"colorbar\":{\"outlinewidth\":0,\"ticks\":\"\"},\"colorscale\":[[0.0,\"#0d0887\"],[0.1111111111111111,\"#46039f\"],[0.2222222222222222,\"#7201a8\"],[0.3333333333333333,\"#9c179e\"],[0.4444444444444444,\"#bd3786\"],[0.5555555555555556,\"#d8576b\"],[0.6666666666666666,\"#ed7953\"],[0.7777777777777778,\"#fb9f3a\"],[0.8888888888888888,\"#fdca26\"],[1.0,\"#f0f921\"]],\"type\":\"heatmap\"}],\"histogram2dcontour\":[{\"colorbar\":{\"outlinewidth\":0,\"ticks\":\"\"},\"colorscale\":[[0.0,\"#0d0887\"],[0.1111111111111111,\"#46039f\"],[0.2222222222222222,\"#7201a8\"],[0.3333333333333333,\"#9c179e\"],[0.4444444444444444,\"#bd3786\"],[0.5555555555555556,\"#d8576b\"],[0.6666666666666666,\"#ed7953\"],[0.7777777777777778,\"#fb9f3a\"],[0.8888888888888888,\"#fdca26\"],[1.0,\"#f0f921\"]],\"type\":\"histogram2dcontour\"}],\"histogram2d\":[{\"colorbar\":{\"outlinewidth\":0,\"ticks\":\"\"},\"colorscale\":[[0.0,\"#0d0887\"],[0.1111111111111111,\"#46039f\"],[0.2222222222222222,\"#7201a8\"],[0.3333333333333333,\"#9c179e\"],[0.4444444444444444,\"#bd3786\"],[0.5555555555555556,\"#d8576b\"],[0.6666666666666666,\"#ed7953\"],[0.7777777777777778,\"#fb9f3a\"],[0.8888888888888888,\"#fdca26\"],[1.0,\"#f0f921\"]],\"type\":\"histogram2d\"}],\"histogram\":[{\"marker\":{\"pattern\":{\"fillmode\":\"overlay\",\"size\":10,\"solidity\":0.2}},\"type\":\"histogram\"}],\"mesh3d\":[{\"colorbar\":{\"outlinewidth\":0,\"ticks\":\"\"},\"type\":\"mesh3d\"}],\"parcoords\":[{\"line\":{\"colorbar\":{\"outlinewidth\":0,\"ticks\":\"\"}},\"type\":\"parcoords\"}],\"pie\":[{\"automargin\":true,\"type\":\"pie\"}],\"scatter3d\":[{\"line\":{\"colorbar\":{\"outlinewidth\":0,\"ticks\":\"\"}},\"marker\":{\"colorbar\":{\"outlinewidth\":0,\"ticks\":\"\"}},\"type\":\"scatter3d\"}],\"scattercarpet\":[{\"marker\":{\"colorbar\":{\"outlinewidth\":0,\"ticks\":\"\"}},\"type\":\"scattercarpet\"}],\"scattergeo\":[{\"marker\":{\"colorbar\":{\"outlinewidth\":0,\"ticks\":\"\"}},\"type\":\"scattergeo\"}],\"scattergl\":[{\"marker\":{\"colorbar\":{\"outlinewidth\":0,\"ticks\":\"\"}},\"type\":\"scattergl\"}],\"scattermapbox\":[{\"marker\":{\"colorbar\":{\"outlinewidth\":0,\"ticks\":\"\"}},\"type\":\"scattermapbox\"}],\"scatterpolargl\":[{\"marker\":{\"colorbar\":{\"outlinewidth\":0,\"ticks\":\"\"}},\"type\":\"scatterpolargl\"}],\"scatterpolar\":[{\"marker\":{\"colorbar\":{\"outlinewidth\":0,\"ticks\":\"\"}},\"type\":\"scatterpolar\"}],\"scatter\":[{\"fillpattern\":{\"fillmode\":\"overlay\",\"size\":10,\"solidity\":0.2},\"type\":\"scatter\"}],\"scatterternary\":[{\"marker\":{\"colorbar\":{\"outlinewidth\":0,\"ticks\":\"\"}},\"type\":\"scatterternary\"}],\"surface\":[{\"colorbar\":{\"outlinewidth\":0,\"ticks\":\"\"},\"colorscale\":[[0.0,\"#0d0887\"],[0.1111111111111111,\"#46039f\"],[0.2222222222222222,\"#7201a8\"],[0.3333333333333333,\"#9c179e\"],[0.4444444444444444,\"#bd3786\"],[0.5555555555555556,\"#d8576b\"],[0.6666666666666666,\"#ed7953\"],[0.7777777777777778,\"#fb9f3a\"],[0.8888888888888888,\"#fdca26\"],[1.0,\"#f0f921\"]],\"type\":\"surface\"}],\"table\":[{\"cells\":{\"fill\":{\"color\":\"#EBF0F8\"},\"line\":{\"color\":\"white\"}},\"header\":{\"fill\":{\"color\":\"#C8D4E3\"},\"line\":{\"color\":\"white\"}},\"type\":\"table\"}]},\"layout\":{\"annotationdefaults\":{\"arrowcolor\":\"#2a3f5f\",\"arrowhead\":0,\"arrowwidth\":1},\"autotypenumbers\":\"strict\",\"coloraxis\":{\"colorbar\":{\"outlinewidth\":0,\"ticks\":\"\"}},\"colorscale\":{\"diverging\":[[0,\"#8e0152\"],[0.1,\"#c51b7d\"],[0.2,\"#de77ae\"],[0.3,\"#f1b6da\"],[0.4,\"#fde0ef\"],[0.5,\"#f7f7f7\"],[0.6,\"#e6f5d0\"],[0.7,\"#b8e186\"],[0.8,\"#7fbc41\"],[0.9,\"#4d9221\"],[1,\"#276419\"]],\"sequential\":[[0.0,\"#0d0887\"],[0.1111111111111111,\"#46039f\"],[0.2222222222222222,\"#7201a8\"],[0.3333333333333333,\"#9c179e\"],[0.4444444444444444,\"#bd3786\"],[0.5555555555555556,\"#d8576b\"],[0.6666666666666666,\"#ed7953\"],[0.7777777777777778,\"#fb9f3a\"],[0.8888888888888888,\"#fdca26\"],[1.0,\"#f0f921\"]],\"sequentialminus\":[[0.0,\"#0d0887\"],[0.1111111111111111,\"#46039f\"],[0.2222222222222222,\"#7201a8\"],[0.3333333333333333,\"#9c179e\"],[0.4444444444444444,\"#bd3786\"],[0.5555555555555556,\"#d8576b\"],[0.6666666666666666,\"#ed7953\"],[0.7777777777777778,\"#fb9f3a\"],[0.8888888888888888,\"#fdca26\"],[1.0,\"#f0f921\"]]},\"colorway\":[\"#636efa\",\"#EF553B\",\"#00cc96\",\"#ab63fa\",\"#FFA15A\",\"#19d3f3\",\"#FF6692\",\"#B6E880\",\"#FF97FF\",\"#FECB52\"],\"font\":{\"color\":\"#2a3f5f\"},\"geo\":{\"bgcolor\":\"white\",\"lakecolor\":\"white\",\"landcolor\":\"#E5ECF6\",\"showlakes\":true,\"showland\":true,\"subunitcolor\":\"white\"},\"hoverlabel\":{\"align\":\"left\"},\"hovermode\":\"closest\",\"mapbox\":{\"style\":\"light\"},\"paper_bgcolor\":\"white\",\"plot_bgcolor\":\"#E5ECF6\",\"polar\":{\"angularaxis\":{\"gridcolor\":\"white\",\"linecolor\":\"white\",\"ticks\":\"\"},\"bgcolor\":\"#E5ECF6\",\"radialaxis\":{\"gridcolor\":\"white\",\"linecolor\":\"white\",\"ticks\":\"\"}},\"scene\":{\"xaxis\":{\"backgroundcolor\":\"#E5ECF6\",\"gridcolor\":\"white\",\"gridwidth\":2,\"linecolor\":\"white\",\"showbackground\":true,\"ticks\":\"\",\"zerolinecolor\":\"white\"},\"yaxis\":{\"backgroundcolor\":\"#E5ECF6\",\"gridcolor\":\"white\",\"gridwidth\":2,\"linecolor\":\"white\",\"showbackground\":true,\"ticks\":\"\",\"zerolinecolor\":\"white\"},\"zaxis\":{\"backgroundcolor\":\"#E5ECF6\",\"gridcolor\":\"white\",\"gridwidth\":2,\"linecolor\":\"white\",\"showbackground\":true,\"ticks\":\"\",\"zerolinecolor\":\"white\"}},\"shapedefaults\":{\"line\":{\"color\":\"#2a3f5f\"}},\"ternary\":{\"aaxis\":{\"gridcolor\":\"white\",\"linecolor\":\"white\",\"ticks\":\"\"},\"baxis\":{\"gridcolor\":\"white\",\"linecolor\":\"white\",\"ticks\":\"\"},\"bgcolor\":\"#E5ECF6\",\"caxis\":{\"gridcolor\":\"white\",\"linecolor\":\"white\",\"ticks\":\"\"}},\"title\":{\"x\":0.05},\"xaxis\":{\"automargin\":true,\"gridcolor\":\"white\",\"linecolor\":\"white\",\"ticks\":\"\",\"title\":{\"standoff\":15},\"zerolinecolor\":\"white\",\"zerolinewidth\":2},\"yaxis\":{\"automargin\":true,\"gridcolor\":\"white\",\"linecolor\":\"white\",\"ticks\":\"\",\"title\":{\"standoff\":15},\"zerolinecolor\":\"white\",\"zerolinewidth\":2}}},\"title\":{\"text\":\"Topic difference (one model) in ideal world\"},\"width\":950,\"xaxis\":{\"title\":{\"text\":\"topic\"}},\"yaxis\":{\"title\":{\"text\":\"topic\"}}},                        {\"responsive\": true}                    ).then(function(){\n",
       "                            \n",
       "var gd = document.getElementById('afe01a25-3ecb-4634-8c53-4911356326cc');\n",
       "var x = new MutationObserver(function (mutations, observer) {{\n",
       "        var display = window.getComputedStyle(gd).display;\n",
       "        if (!display || display === 'none') {{\n",
       "            console.log([gd, 'removed!']);\n",
       "            Plotly.purge(gd);\n",
       "            observer.disconnect();\n",
       "        }}\n",
       "}});\n",
       "\n",
       "// Listen for the removal of the full notebook cells\n",
       "var notebookContainer = gd.closest('#notebook-container');\n",
       "if (notebookContainer) {{\n",
       "    x.observe(notebookContainer, {childList: true});\n",
       "}}\n",
       "\n",
       "// Listen for the clearing of the current output cell\n",
       "var outputEl = gd.closest('.output');\n",
       "if (outputEl) {{\n",
       "    x.observe(outputEl, {childList: true});\n",
       "}}\n",
       "\n",
       "                        })                };                });            </script>        </div>"
      ]
     },
     "metadata": {},
     "output_type": "display_data"
    }
   ],
   "source": [
    "plot_difference(mdiff, title=\"Topic difference (one model) in ideal world\")"
   ]
  },
  {
   "cell_type": "markdown",
   "metadata": {},
   "source": [
    "Unfortunately, in real life, not everything is so good, and the matrix looks different."
   ]
  },
  {
   "cell_type": "markdown",
   "metadata": {},
   "source": [
    "Short description (interactive annotations only):\n",
    "\n",
    "* ``+++ make, world, well`` - words from the intersection of topics = present in both topics;\n",
    "* ``--- money, day, still`` - words from the symmetric difference of topics = present in one topic but not the other.\n",
    "\n",
    "\n"
   ]
  },
  {
   "cell_type": "code",
   "execution_count": 26,
   "metadata": {
    "collapsed": false,
    "jupyter": {
     "outputs_hidden": false
    }
   },
   "outputs": [],
   "source": [
    "mdiff, annotation = lda_fst.diff(lda_fst, distance='jaccard', num_words=50)"
   ]
  },
  {
   "cell_type": "code",
   "execution_count": 27,
   "metadata": {
    "collapsed": false,
    "jupyter": {
     "outputs_hidden": false
    }
   },
   "outputs": [
    {
     "data": {
      "application/vnd.plotly.v1+json": {
       "config": {
        "linkText": "Export to plot.ly",
        "plotlyServerURL": "https://plot.ly",
        "showLink": false
       },
       "data": [
        {
         "colorscale": [
          [
           0,
           "rgb(103,0,31)"
          ],
          [
           0.1,
           "rgb(178,24,43)"
          ],
          [
           0.2,
           "rgb(214,96,77)"
          ],
          [
           0.3,
           "rgb(244,165,130)"
          ],
          [
           0.4,
           "rgb(253,219,199)"
          ],
          [
           0.5,
           "rgb(247,247,247)"
          ],
          [
           0.6,
           "rgb(209,229,240)"
          ],
          [
           0.7,
           "rgb(146,197,222)"
          ],
          [
           0.8,
           "rgb(67,147,195)"
          ],
          [
           0.9,
           "rgb(33,102,172)"
          ],
          [
           1,
           "rgb(5,48,97)"
          ]
         ],
         "text": [
          [
           "+++ state, space, distribut, includ, good, think, repli, group, duke, look<br>--- ",
           "+++ new, distribut, comput, good, think, system, make, repli, world, look<br>--- space, duke, mil, american, anyon, 1993, gun, memori, pleas, buy",
           "+++ mail, state, new, distribut, comput, good, think, two, make, repli<br>--- michael, see, space, bank, duke, realli, american, anyon, 1993, gun",
           "+++ good, think, make, world, could, time, may, said, also<br>--- bibl, see, life, jesu, space, distribut, duke, look, differ, american",
           "+++ inform, mail, includ, distribut, new, comput, system, make, provid, file<br>--- user, space, phone, duke, look, american, 1993, gun, data, rochest",
           "+++ two, think, said, make, file, look, could, year, may, first<br>--- right, see, space, distribut, colorado, duke, american, 1993, come, gun",
           "+++ 1993, state, new, distribut, research, good, think, system, world, year<br>--- right, 000, space, duke, look, drink, american, gun, left, take",
           "+++ new, two, good, think, make, look, year, time, first, also<br>--- right, see, space, distribut, duke, goal, player, final, american, win",
           "+++ state, two, think, said, make, world, could, year, first, also<br>--- right, see, greek, nazi, space, distribut, duke, look, attack, american",
           "+++ year, good, think, time<br>--- space, distribut, 145, duke, look, player, 6um, win, g9v, american",
           "+++ distribut, comput, good, think, system, make, repli, world, look, could<br>--- right, see, space, dealer, duke, realli, american, anyon, 1993, gun",
           "+++ american, state, space, new, good, think, gun, system, said, make<br>--- right, distribut, hous, duke, look, 1993, drug, take, rochest, money",
           "+++ new, good, gun, think, system, make, look, could, year, may<br>--- right, see, space, distribut, duke, differ, caltech, realli, american, kill",
           "+++ mail, state, space, distribut, research, good, think, john, system, repli<br>--- pat, duke, peopl, mit, chang, thank, problem, institut, american, satellit",
           "+++ mail, includ, distribut, new, comput, system, repli, look, file, could<br>--- space, duke, american, 1993, gun, data, memori, pleas, rochest, appl"
          ],
          [
           "+++ new, distribut, comput, good, think, system, make, repli, world, look<br>--- space, duke, mil, american, 1993, anyon, gun, memori, pleas, buy",
           "+++ version, work, distribut, good, think, repli, look, mil, thank, problem<br>--- ",
           "+++ work, distribut, good, think, repli, look, anyon, well, pleas, want<br>--- michael, version, see, bank, peopl, mil, thank, problem, realli, even",
           "+++ seem, want, good, think, thing, make, world, read, well, also<br>--- bibl, see, life, jesu, distribut, look, mil, differ, anyon, come",
           "+++ work, want, need, new, distribut, comput, program, system, make, call<br>--- user, phone, look, mil, anyon, data, memori, pleas, buy, seem",
           "+++ want, need, program, think, thing, make, file, look, time, well<br>--- right, see, distribut, colorado, mil, anyon, come, output, take, memori",
           "+++ new, distribut, well, good, think, gov, system, call, help, world<br>--- right, 000, look, mil, drink, 1993, anyon, left, take, rider",
           "+++ new, good, think, run, make, look, time, well, also<br>--- right, see, distribut, goal, player, final, mil, win, last, anyon",
           "+++ want, think, make, call, world, time, well, also, tri<br>--- right, see, greek, nazi, distribut, look, mil, attack, kill, anyon",
           "+++ well, good, think, time<br>--- distribut, 145, look, mil, player, 6um, win, g9v, last, hall",
           "+++ work, distribut, good, think, repli, look, thank, anyon, call, world<br>--- right, version, see, better, dealer, peopl, news, mil, problem, engin",
           "+++ work, want, need, new, good, think, system, thing, program, make<br>--- right, space, distribut, hous, look, mil, american, anyon, gun, drug",
           "+++ seem, work, want, new, well, good, think, system, thing, make<br>--- right, see, distribut, mil, differ, caltech, realli, kill, anyon, gun",
           "+++ work, distribut, good, think, repli, look, thank, problem, anyon, file<br>--- version, state, space, pat, peopl, mit, chang, virginia, net, first",
           "+++ version, work, distribut, repli, look, thank, problem, file, card, window<br>--- much, mac, includ, good, think, avail, mil, screen, mail, anyon"
          ],
          [
           "+++ mail, state, new, distribut, comput, good, think, two, make, repli<br>--- michael, see, space, bank, duke, american, realli, 1993, anyon, gun",
           "+++ work, distribut, good, think, repli, look, anyon, well, pleas, want<br>--- version, michael, see, andrew, state, bank, peopl, mil, thank, problem",
           "+++ michael, see, work, state, distribut, good, think, bank, repli, look<br>--- ",
           "+++ see, want, say, way, well, good, even, think, thing, make<br>--- michael, bibl, life, jesu, distribut, bank, look, differ, realli, anyon",
           "+++ work, want, need, mail, new, distribut, comput, make, run, time<br>--- michael, user, see, phone, bank, look, realli, anyon, data, pleas",
           "+++ see, think, peopl, look, even, could, may, well, want, thing<br>--- right, michael, someth, colorado, distribut, good, bank, repli, realli, anyon",
           "+++ state, way, distribut, new, good, think, even, bike, year, time<br>--- right, michael, see, 000, bank, look, drink, realli, 1993, anyon",
           "+++ see, back, new, two, good, think, even, pittsburgh, run, make<br>--- right, michael, distribut, bank, goal, player, final, realli, win, last",
           "+++ see, want, say, state, way, two, even, think, make, org<br>--- right, michael, greek, nazi, distribut, armenian, good, arm, bank, repli",
           "+++ good, think, year, time, well<br>--- michael, see, distribut, 145, bank, look, player, 6um, win, g9v",
           "+++ see, work, distribut, good, think, repli, look, peopl, engin, realli<br>--- right, michael, andrew, better, state, bank, dealer, news, thank, dod",
           "+++ work, want, need, say, state, way, new, good, think, even<br>--- right, michael, see, space, distribut, hous, bank, repli, look, american",
           "+++ see, work, good, think, peopl, look, realli, even, could, may<br>--- right, michael, andrew, state, argument, someth, distribut, bank, repli, evid",
           "+++ work, need, anyon, state, mail, distribut, new, good, think, comput<br>--- michael, see, space, pat, bank, mit, chang, thank, problem, realli",
           "+++ work, want, need, mail, new, distribut, comput, run, repli, look<br>--- michael, see, bank, realli, anyon, data, memori, appl, pittsburgh, speed"
          ],
          [
           "+++ good, think, make, world, could, time, may, said, also<br>--- bibl, see, life, jesu, space, distribut, duke, look, differ, american",
           "+++ seem, want, good, think, thing, make, world, read, well, also<br>--- bibl, see, life, jesu, distribut, look, mil, differ, anyon, come",
           "+++ see, want, say, way, good, even, think, thing, make, peopl<br>--- michael, bibl, life, jesu, distribut, bank, look, differ, realli, anyon",
           "+++ must, bibl, see, life, faith, church, jesu, book, good, think<br>--- ",
           "+++ want, make, time, may, also<br>--- bibl, user, see, life, jesu, distribut, phone, differ, come, data",
           "+++ must, see, think, peopl, come, even, could, may, well, want<br>--- right, bibl, life, faith, church, jesu, book, someth, colorado, good",
           "+++ way, good, even, think, world, day, time, well, also<br>--- right, bibl, see, life, 000, jesu, distribut, differ, drink, 1993",
           "+++ see, point, good, think, even, make, time, well, also<br>--- right, bibl, life, jesu, look, goal, player, final, differ, win",
           "+++ see, want, say, way, live, even, think, make, mani, question<br>--- right, bibl, life, greek, jesu, nazi, attack, differ, kill, come",
           "+++ come, good, think, time, well<br>--- bibl, see, life, jesu, 145, player, differ, 6um, win, g9v",
           "+++ see, want, say, way, good, even, think, thing, make, world<br>--- right, bibl, life, jesu, distribut, dealer, look, differ, realli, anyon",
           "+++ want, say, way, point, good, think, even, thing, make, peopl<br>--- right, bibl, see, life, jesu, space, hous, differ, american, come",
           "+++ see, good, think, peopl, differ, point, even, person, mani, could<br>--- right, must, life, bibl, faith, work, church, jesu, argument, someth",
           "+++ point, good, think, question, peopl, could, may, also<br>--- bibl, see, life, jesu, space, distribut, pat, look, mit, differ",
           "+++ could, want, also, time<br>--- bibl, see, life, jesu, distribut, look, differ, come, data, word"
          ],
          [
           "+++ inform, mail, includ, distribut, new, comput, system, make, provid, file<br>--- user, space, phone, duke, look, american, 1993, gun, data, rochest",
           "+++ work, want, need, new, distribut, comput, program, system, run, call<br>--- user, phone, look, mil, anyon, data, memori, pleas, buy, seem",
           "+++ work, want, need, mail, new, distribut, comput, make, run, time<br>--- michael, see, user, phone, bank, look, realli, anyon, data, pleas",
           "+++ want, make, time, may, also<br>--- bibl, see, life, user, jesu, distribut, phone, differ, come, data",
           "+++ user, work, includ, distribut, server, phone, avail, applic, algorithm, gener<br>--- ",
           "+++ need, want, number, law, program, make, file, time, may, also<br>--- right, see, user, distribut, colorado, phone, look, come, output, data",
           "+++ number, new, distribut, bit, system, call, time, also<br>--- right, user, 000, phone, drink, 1993, data, left, take, rider",
           "+++ new, run, make, time, also<br>--- right, see, user, distribut, phone, look, goal, player, final, win",
           "+++ want, govern, make, call, time, also<br>--- right, see, greek, user, nazi, distribut, phone, attack, kill, palestinian",
           "+++ time<br>--- user, distribut, 145, phone, player, 6um, win, g9v, last, hall",
           "+++ work, want, need, distribut, comput, system, make, call, run, time<br>--- right, see, user, phone, dealer, look, realli, anyon, uiuc, data",
           "+++ public, work, want, need, govern, new, law, program, system, make<br>--- right, user, space, distribut, phone, hous, american, gun, data, drug",
           "+++ work, want, new, system, make, time, may, also<br>--- right, see, user, distribut, phone, look, differ, caltech, realli, kill",
           "+++ technolog, work, need, mail, new, distribut, comput, program, system, file<br>--- user, space, phone, pat, look, mit, anyon, data, alaska, find",
           "+++ work, includ, distribut, avail, mail, bit, data, file, window, want<br>--- version, user, mac, server, phone, repli, look, applic, thank, problem"
          ],
          [
           "+++ two, think, said, make, file, look, could, year, may, first<br>--- right, see, space, distribut, colorado, duke, american, 1993, come, gun",
           "+++ want, need, program, think, thing, make, file, look, time, well<br>--- right, see, distribut, colorado, mil, anyon, come, output, take, memori",
           "+++ see, think, look, peopl, even, could, may, well, want, thing<br>--- michael, right, distribut, someth, good, colorado, bank, repli, realli, anyon",
           "+++ must, see, think, peopl, come, even, could, well, may, want<br>--- bibl, life, faith, church, right, jesu, book, someth, colorado, good",
           "+++ need, want, number, law, program, make, file, time, may, also<br>--- right, user, see, distribut, colorado, phone, look, come, data, output",
           "+++ right, must, see, someth, colorado, think, ground, also, peopl, look<br>--- ",
           "+++ right, number, way, even, think, year, day, well, take, first<br>--- see, 000, distribut, colorado, look, drink, 1993, come, output, left",
           "+++ right, see, back, two, think, even, make, look, year, time<br>--- colorado, goal, player, final, win, last, shot, come, divis, output",
           "+++ right, see, want, say, way, two, think, even, make, question<br>--- greek, nazi, colorado, look, attack, kill, come, palestinian, output, take",
           "+++ come, think, year, time, well<br>--- right, see, colorado, 145, look, player, 6um, win, g9v, last",
           "+++ right, see, want, need, say, way, think, even, thing, make<br>--- distribut, colorado, dealer, realli, anyon, come, uiuc, output, take, buy",
           "+++ right, think, peopl, first, even, could, well, take, want, thing<br>--- must, see, work, state, space, talk, someth, good, tell, colorado",
           "+++ right, see, someth, think, peopl, look, even, could, may, well<br>--- must, work, argument, colorado, good, tell, ground, evid, rule, problem",
           "+++ need, program, think, question, file, peopl, look, could, may, first<br>--- right, see, space, distribut, colorado, pat, mit, anyon, come, output",
           "+++ want, need, program, file, look, could, time, also<br>--- right, see, distribut, colorado, come, data, output, take, memori, pleas"
          ],
          [
           "+++ 1993, state, new, distribut, research, good, think, system, world, year<br>--- right, 000, space, duke, look, american, drink, gun, left, take",
           "+++ new, distribut, well, good, think, gov, system, call, help, world<br>--- right, 000, look, mil, drink, anyon, 1993, left, take, memori",
           "+++ state, way, distribut, new, good, think, even, bike, year, time<br>--- michael, right, see, 000, bank, look, realli, drink, anyon, 1993",
           "+++ way, good, even, think, world, day, time, well, also<br>--- right, bibl, see, life, 000, jesu, distribut, differ, drink, 1993",
           "+++ number, new, distribut, bit, system, call, time, also<br>--- right, user, 000, phone, drink, 1993, data, left, take, rider",
           "+++ right, number, way, even, think, year, day, well, take, first<br>--- see, 000, distribut, colorado, look, drink, 1993, come, output, left",
           "+++ right, 000, diseas, state, distribut, good, think, air, april, problem<br>--- ",
           "+++ right, new, good, think, even, year, time, well, first, also<br>--- see, 000, distribut, look, goal, player, final, drink, win, last",
           "+++ right, state, way, even, think, call, world, year, time, well<br>--- see, greek, 000, nazi, distribut, attack, drink, kill, 1993, palestinian",
           "+++ good, think, chz, year, time, well<br>--- right, 000, distribut, 145, player, 6um, win, g9v, drink, last",
           "+++ right, way, distribut, gov, good, even, think, system, call, help<br>--- see, 000, dealer, look, realli, drink, anyon, 1993, uiuc, left",
           "+++ right, state, way, new, good, think, even, system, year, time<br>--- 000, space, distribut, hous, american, drink, 1993, gun, drug, left",
           "+++ right, caus, way, new, well, good, even, think, system, year<br>--- see, 000, distribut, look, differ, caltech, realli, drink, kill, 1993",
           "+++ state, research, distribut, gov, good, think, system, new, help, nasa<br>--- right, 000, space, pat, look, mit, drink, anyon, 1993, left",
           "+++ new, distribut, bit, ibm, help, system, time, problem, control, also<br>--- right, 000, look, drink, 1993, data, left, take, memori, rider"
          ],
          [
           "+++ new, two, good, think, make, look, year, time, first, also<br>--- right, see, space, distribut, duke, goal, player, final, american, win",
           "+++ new, good, think, run, make, look, time, well, also<br>--- right, see, distribut, mil, goal, player, final, win, last, anyon",
           "+++ see, back, new, two, good, even, think, pittsburgh, make, run<br>--- michael, right, distribut, bank, goal, player, final, realli, win, last",
           "+++ see, point, good, even, think, make, time, well, also<br>--- right, bibl, life, jesu, look, goal, player, final, differ, win",
           "+++ new, make, run, time, also<br>--- right, user, see, distribut, phone, look, goal, player, final, win",
           "+++ right, see, back, two, think, even, make, look, year, time<br>--- colorado, goal, player, final, win, last, come, shot, output, divis",
           "+++ right, new, good, even, think, year, time, well, first, also<br>--- see, 000, distribut, look, goal, player, final, drink, win, last",
           "+++ right, see, red, good, think, nhl, look, hard, goal, player<br>--- ",
           "+++ right, see, two, even, think, make, year, time, well, first<br>--- greek, nazi, look, goal, attack, player, final, win, kill, last",
           "+++ win, last, team, good, think, basebal, play, game, year, time<br>--- right, see, 145, look, goal, final, 6um, g9v, hall, come",
           "+++ right, see, got, good, think, even, make, run, power, look<br>--- distribut, dealer, goal, player, final, realli, win, last, anyon, shot",
           "+++ right, new, point, good, think, even, make, year, time, well<br>--- see, space, hous, look, goal, player, final, american, win, last",
           "+++ right, see, back, new, point, good, think, even, make, look<br>--- goal, player, final, differ, caltech, realli, win, kill, last, shot",
           "+++ new, point, good, think, look, first, also<br>--- right, see, space, distribut, pat, mit, goal, player, final, win",
           "+++ new, run, look, drive, time, also<br>--- right, see, distribut, goal, player, final, win, last, shot, data"
          ],
          [
           "+++ state, two, think, said, make, world, could, year, first, also<br>--- right, see, greek, space, distribut, nazi, duke, look, attack, american",
           "+++ want, think, make, call, world, time, well, also, tri<br>--- right, see, greek, nazi, distribut, look, mil, attack, kill, anyon",
           "+++ see, time, want, say, state, way, two, think, even, make<br>--- michael, right, greek, nazi, distribut, bank, look, attack, realli, kill",
           "+++ see, want, say, way, live, even, think, make, mani, question<br>--- right, bibl, life, greek, jesu, nazi, attack, differ, kill, come",
           "+++ want, govern, make, call, time, also<br>--- right, user, see, greek, nazi, distribut, phone, attack, kill, palestinian",
           "+++ right, see, want, say, way, two, think, even, make, question<br>--- greek, nazi, colorado, look, attack, kill, come, palestinian, output, take",
           "+++ right, state, way, even, think, call, world, year, time, well<br>--- see, greek, 000, nazi, distribut, attack, drink, kill, 1993, palestinian",
           "+++ right, see, two, think, even, make, year, time, well, first<br>--- greek, nazi, look, goal, player, final, attack, win, last, kill",
           "+++ right, see, greek, state, nazi, armenian, think, israel, arm, peopl<br>--- ",
           "+++ think, year, jewish, well, time<br>--- right, see, greek, nazi, 145, player, attack, 6um, win, g9v",
           "+++ right, see, want, say, way, even, think, make, call, world<br>--- greek, nazi, distribut, dealer, look, attack, realli, kill, anyon, palestinian",
           "+++ right, want, say, countri, state, govern, way, think, even, said<br>--- see, greek, space, nazi, hous, attack, american, kill, gun, palestinian",
           "+++ right, see, kill, want, say, way, think, even, make, mani<br>--- greek, nazi, look, attack, differ, caltech, realli, gun, palestinian, take",
           "+++ state, think, question, peopl, could, first, also, tri<br>--- right, see, greek, space, distribut, nazi, pat, look, mit, attack",
           "+++ could, want, also, time<br>--- right, see, greek, nazi, distribut, look, attack, kill, palestinian, data"
          ],
          [
           "+++ year, good, think, time<br>--- space, distribut, 145, duke, look, player, american, 6um, win, g9v",
           "+++ well, good, think, time<br>--- distribut, 145, look, mil, player, 6um, win, g9v, last, anyon",
           "+++ good, think, year, time, well<br>--- michael, see, distribut, 145, bank, look, player, realli, 6um, win",
           "+++ come, good, think, time, well<br>--- bibl, see, life, jesu, 145, player, differ, 6um, win, g9v",
           "+++ time<br>--- user, distribut, phone, 145, player, 6um, win, g9v, last, hall",
           "+++ come, think, year, time, well<br>--- right, see, colorado, 145, look, player, 6um, win, g9v, last",
           "+++ good, think, chz, year, time, well<br>--- right, 000, distribut, 145, player, drink, 6um, win, g9v, last",
           "+++ win, last, team, good, think, basebal, play, game, year, time<br>--- right, see, 145, look, goal, final, 6um, g9v, hall, shot",
           "+++ think, year, time, jewish, well<br>--- right, see, greek, nazi, 145, attack, player, 6um, win, g9v",
           "+++ 6ei, better, bxn, good, 145, think, a86, 7ez, rlk, player<br>--- ",
           "+++ better, good, think, year, time, well<br>--- right, see, distribut, 145, dealer, look, player, realli, 6um, win",
           "+++ good, think, year, time, well<br>--- right, space, 145, hous, player, american, 6um, win, g9v, last",
           "+++ good, think, year, time, well<br>--- right, see, 145, look, player, differ, caltech, realli, 6um, win",
           "+++ good, think<br>--- space, distribut, 145, pat, look, mit, player, 6um, win, g9v",
           "+++ time<br>--- distribut, 145, look, player, 6um, win, g9v, last, hall, come"
          ],
          [
           "+++ distribut, comput, good, think, system, make, repli, world, look, could<br>--- right, see, space, duke, dealer, american, realli, 1993, anyon, gun",
           "+++ work, distribut, good, think, repli, look, thank, anyon, call, world<br>--- version, right, see, better, dealer, peopl, mil, problem, news, engin",
           "+++ see, work, distribut, good, think, repli, look, peopl, engin, realli<br>--- michael, right, much, state, better, bank, dealer, news, thank, dod",
           "+++ see, want, say, way, good, even, think, thing, make, world<br>--- right, bibl, life, jesu, distribut, dealer, look, differ, realli, anyon",
           "+++ work, want, need, distribut, comput, system, make, call, run, time<br>--- right, user, see, phone, dealer, look, realli, anyon, uiuc, data",
           "+++ right, see, want, need, say, way, think, even, thing, make<br>--- distribut, colorado, dealer, realli, anyon, come, uiuc, output, take, buy",
           "+++ right, way, distribut, gov, good, even, think, system, call, help<br>--- see, 000, dealer, look, drink, realli, 1993, anyon, uiuc, left",
           "+++ right, see, got, good, think, even, run, make, power, look<br>--- distribut, dealer, goal, player, final, realli, win, last, anyon, shot",
           "+++ right, see, want, say, way, even, think, make, call, world<br>--- greek, nazi, distribut, dealer, look, attack, realli, kill, anyon, palestinian",
           "+++ better, good, think, year, time, well<br>--- right, see, distribut, 145, dealer, look, player, 6um, win, g9v",
           "+++ right, see, work, better, distribut, good, think, repli, dealer, look<br>--- ",
           "+++ right, work, good, think, peopl, even, could, well, want, system<br>--- see, space, distribut, hous, repli, dealer, look, thank, american, realli",
           "+++ right, see, work, good, think, peopl, look, realli, even, could<br>--- better, argument, someth, distribut, repli, dealer, evid, news, thank, problem",
           "+++ work, need, anyon, distribut, gov, good, think, system, help, repli<br>--- right, see, space, pat, dealer, mit, realli, uiuc, alaska, find",
           "+++ work, want, need, distribut, comput, help, system, run, repli, look<br>--- right, see, dealer, realli, anyon, uiuc, data, memori, pleas, buy"
          ],
          [
           "+++ american, state, space, new, good, think, gun, system, make, said<br>--- right, distribut, hous, duke, look, 1993, drug, take, rochest, money",
           "+++ work, want, need, new, good, think, system, thing, program, make<br>--- right, space, distribut, hous, look, mil, american, anyon, gun, drug",
           "+++ work, want, need, say, state, way, new, good, think, even<br>--- michael, right, see, space, distribut, bank, repli, hous, look, realli",
           "+++ want, say, way, point, good, even, think, thing, make, peopl<br>--- right, bibl, see, life, jesu, space, hous, differ, american, come",
           "+++ public, work, want, need, govern, new, law, program, system, make<br>--- right, user, space, distribut, phone, hous, american, gun, data, drug",
           "+++ right, think, peopl, first, even, could, well, take, want, thing<br>--- see, space, someth, colorado, good, hous, look, american, public, come",
           "+++ right, state, way, new, good, think, even, system, year, time<br>--- 000, space, distribut, hous, drink, american, 1993, gun, drug, left",
           "+++ right, new, point, good, think, even, make, year, time, well<br>--- see, space, hous, look, goal, player, final, american, win, last",
           "+++ right, want, say, countri, state, govern, way, think, even, make<br>--- see, greek, nazi, space, armenian, good, arm, hous, armenia, attack",
           "+++ good, think, year, time, well<br>--- right, space, 145, hous, player, 6um, win, g9v, american, last",
           "+++ right, work, good, think, peopl, even, could, well, want, system<br>--- see, space, distribut, repli, hous, dealer, look, thank, realli, american",
           "+++ right, work, state, space, talk, good, think, hous, peopl, first<br>--- ",
           "+++ right, work, good, think, peopl, point, even, gun, could, well<br>--- see, state, argument, someth, space, talk, hous, look, evid, problem",
           "+++ work, need, state, space, point, new, good, think, system, program<br>--- right, distribut, pat, hous, look, mit, american, anyon, gun, drug",
           "+++ work, want, need, new, support, program, system, could, time, also<br>--- right, space, distribut, hous, look, american, gun, data, drug, take"
          ],
          [
           "+++ new, good, gun, think, system, make, look, could, year, may<br>--- right, see, space, distribut, duke, differ, caltech, american, realli, kill",
           "+++ seem, work, want, new, well, good, think, system, thing, make<br>--- right, see, distribut, mil, differ, caltech, realli, kill, anyon, gun",
           "+++ see, work, good, think, look, peopl, realli, even, could, may<br>--- michael, right, much, state, argument, distribut, someth, bank, repli, evid",
           "+++ see, good, think, peopl, differ, point, even, person, mani, could<br>--- must, bibl, life, faith, church, right, jesu, work, much, book",
           "+++ work, want, new, system, make, time, may, also<br>--- right, user, see, distribut, phone, look, differ, caltech, realli, kill",
           "+++ right, see, someth, think, peopl, look, even, could, may, well<br>--- must, work, argument, colorado, good, ground, tell, evid, rule, problem",
           "+++ right, caus, way, new, well, good, even, think, system, year<br>--- see, 000, distribut, look, differ, caltech, drink, realli, kill, 1993",
           "+++ right, see, back, new, point, good, think, even, make, look<br>--- goal, player, final, differ, caltech, realli, win, last, kill, shot",
           "+++ right, see, kill, want, say, way, think, even, make, mani<br>--- greek, nazi, look, attack, differ, caltech, realli, gun, palestinian, take",
           "+++ good, think, year, time, well<br>--- right, see, 145, look, player, differ, caltech, 6um, win, g9v",
           "+++ right, see, work, good, think, look, peopl, realli, even, could<br>--- better, argument, distribut, someth, repli, dealer, evid, news, thank, problem",
           "+++ right, work, good, think, peopl, point, gun, even, could, well<br>--- see, state, space, talk, argument, someth, hous, look, evid, problem",
           "+++ right, see, work, argument, someth, good, think, peopl, look, evid<br>--- ",
           "+++ work, new, point, good, think, system, question, look, peopl, could<br>--- right, see, space, distribut, pat, mit, differ, caltech, realli, kill",
           "+++ work, want, new, system, look, could, time, problem, also<br>--- right, see, distribut, differ, caltech, realli, kill, gun, data, take"
          ],
          [
           "+++ mail, state, space, distribut, new, good, think, john, system, repli<br>--- pat, duke, peopl, mit, chang, thank, problem, institut, american, satellit",
           "+++ work, distribut, good, think, repli, look, thank, problem, anyon, file<br>--- version, state, space, pat, peopl, mit, mil, chang, virginia, net",
           "+++ work, need, anyon, state, mail, distribut, new, good, think, pleas<br>--- michael, see, space, pat, bank, mit, chang, thank, problem, realli",
           "+++ point, good, think, question, peopl, could, may, also<br>--- bibl, see, life, jesu, space, distribut, pat, look, mit, differ",
           "+++ technolog, work, need, mail, new, distribut, comput, program, system, file<br>--- user, space, phone, pat, look, mit, anyon, data, alaska, find",
           "+++ need, program, think, question, file, peopl, look, could, may, first<br>--- right, see, space, distribut, colorado, pat, mit, anyon, come, output",
           "+++ state, new, distribut, gov, good, think, system, research, help, nasa<br>--- right, 000, space, pat, look, mit, drink, 1993, anyon, left",
           "+++ new, point, good, think, look, first, also<br>--- right, see, space, distribut, pat, mit, goal, player, final, win",
           "+++ state, think, question, peopl, could, first, also, tri<br>--- right, see, greek, nazi, space, distribut, pat, look, mit, attack",
           "+++ good, think<br>--- space, distribut, 145, pat, look, mit, player, 6um, win, g9v",
           "+++ work, need, anyon, distribut, gov, good, think, system, comput, repli<br>--- right, see, space, pat, dealer, mit, realli, uiuc, alaska, find",
           "+++ work, need, state, space, point, new, good, think, system, program<br>--- right, distribut, pat, hous, look, mit, american, anyon, gun, drug",
           "+++ work, new, point, good, think, system, question, look, peopl, could<br>--- right, see, space, distribut, pat, mit, differ, caltech, realli, kill",
           "+++ work, state, space, distribut, good, think, pat, repli, peopl, mit<br>--- ",
           "+++ work, need, mail, new, distribut, comput, program, help, system, repli<br>--- space, pat, mit, anyon, data, alaska, memori, find, appl, speed"
          ],
          [
           "+++ mail, includ, distribut, new, comput, system, repli, look, file, could<br>--- space, duke, american, 1993, gun, data, memori, pleas, rochest, appl",
           "+++ version, work, distribut, repli, look, thank, problem, file, card, window<br>--- mac, includ, good, think, imag, avail, mil, screen, anyon, mail",
           "+++ work, want, need, mail, new, distribut, comput, run, repli, look<br>--- michael, see, bank, realli, anyon, data, memori, pittsburgh, appl, speed",
           "+++ also, want, could, time<br>--- bibl, see, life, jesu, distribut, look, differ, come, data, word",
           "+++ work, includ, distribut, avail, mail, bit, data, file, window, want<br>--- version, user, mac, server, phone, repli, look, applic, thank, problem",
           "+++ want, need, program, file, look, could, time, also<br>--- right, see, distribut, colorado, come, output, data, take, memori, pleas",
           "+++ new, distribut, bit, ibm, help, system, control, problem, also, time<br>--- right, 000, look, drink, 1993, data, left, take, rider, memori",
           "+++ new, run, look, drive, time, also<br>--- right, see, distribut, goal, player, final, win, last, shot, divis",
           "+++ also, want, could, time<br>--- right, see, greek, nazi, distribut, look, attack, kill, palestinian, data",
           "+++ time<br>--- distribut, 145, look, player, 6um, win, g9v, last, hall, come",
           "+++ work, want, need, distribut, comput, help, system, run, repli, look<br>--- right, see, dealer, realli, anyon, uiuc, data, memori, buy, pleas",
           "+++ work, want, need, new, program, system, could, support, also, time<br>--- right, space, distribut, hous, look, american, gun, data, drug, take",
           "+++ work, want, new, system, look, could, time, problem, also<br>--- right, see, distribut, differ, caltech, realli, kill, gun, data, take",
           "+++ work, need, mail, new, distribut, help, program, comput, system, repli<br>--- version, state, space, includ, mac, good, think, pat, peopl, mit",
           "+++ version, work, mac, distribut, includ, repli, scsi, look, avail, thank<br>--- "
          ]
         ],
         "type": "heatmap",
         "z": [
          [
           0,
           0.845752254390128,
           0.7884519661523146,
           0.9102937878448082,
           0.845752254390128,
           0.8724489795918368,
           0.8592540464461645,
           0.8979591836734693,
           0.8853473973859206,
           0.9681122448979592,
           0.8319327731092436,
           0.8177842565597667,
           0.8592540464461645,
           0.7884519661523146,
           0.8724489795918368
          ],
          [
           0.845752254390128,
           0,
           0.7732426303854876,
           0.8853473973859206,
           0.8319327731092436,
           0.8853473973859206,
           0.8592540464461645,
           0.9102937878448082,
           0.9102937878448082,
           0.9681122448979592,
           0.6552675124103695,
           0.845752254390128,
           0.8032948119006639,
           0.7252747252747253,
           0.6911922663802363
          ],
          [
           0.7884519661523146,
           0.7732426303854876,
           0,
           0.8319327731092436,
           0.8724489795918368,
           0.7732426303854876,
           0.8592540464461645,
           0.8177842565597667,
           0.8032948119006639,
           0.9570354457572503,
           0.6552675124103695,
           0.7884519661523146,
           0.7084548104956268,
           0.7884519661523146,
           0.8319327731092436
          ],
          [
           0.9102937878448082,
           0.8853473973859206,
           0.8319327731092436,
           0,
           0.9570354457572503,
           0.7732426303854876,
           0.9102937878448082,
           0.9102937878448082,
           0.8032948119006639,
           0.9570354457572503,
           0.8319327731092436,
           0.8319327731092436,
           0.6911922663802363,
           0.922360248447205,
           0.9681122448979592
          ],
          [
           0.845752254390128,
           0.8319327731092436,
           0.8724489795918368,
           0.9570354457572503,
           0,
           0.8979591836734693,
           0.922360248447205,
           0.9570354457572503,
           0.9457229700390795,
           1,
           0.8853473973859206,
           0.8724489795918368,
           0.922360248447205,
           0.845752254390128,
           0.7576530612244897
          ],
          [
           0.8724489795918368,
           0.8853473973859206,
           0.7732426303854876,
           0.7732426303854876,
           0.8979591836734693,
           0,
           0.8724489795918368,
           0.8592540464461645,
           0.7884519661523146,
           0.9570354457572503,
           0.8032948119006639,
           0.7576530612244897,
           0.7252747252747253,
           0.8853473973859206,
           0.922360248447205
          ],
          [
           0.8592540464461645,
           0.8592540464461645,
           0.8592540464461645,
           0.9102937878448082,
           0.922360248447205,
           0.8724489795918368,
           0,
           0.8979591836734693,
           0.8724489795918368,
           0.9457229700390795,
           0.8319327731092436,
           0.845752254390128,
           0.845752254390128,
           0.8592540464461645,
           0.8979591836734693
          ],
          [
           0.8979591836734693,
           0.9102937878448082,
           0.8177842565597667,
           0.9102937878448082,
           0.9570354457572503,
           0.8592540464461645,
           0.8979591836734693,
           0,
           0.8853473973859206,
           0.8592540464461645,
           0.845752254390128,
           0.8724489795918368,
           0.845752254390128,
           0.934167215273206,
           0.9457229700390795
          ],
          [
           0.8853473973859206,
           0.9102937878448082,
           0.8032948119006639,
           0.8032948119006639,
           0.9457229700390795,
           0.7884519661523146,
           0.8724489795918368,
           0.8853473973859206,
           0,
           0.9570354457572503,
           0.8032948119006639,
           0.7884519661523146,
           0.7884519661523146,
           0.922360248447205,
           0.9681122448979592
          ],
          [
           0.9681122448979592,
           0.9681122448979592,
           0.9570354457572503,
           0.9570354457572503,
           1,
           0.9570354457572503,
           0.9457229700390795,
           0.8592540464461645,
           0.9570354457572503,
           0,
           0.9457229700390795,
           0.9570354457572503,
           0.9570354457572503,
           0.9895876718034152,
           1
          ],
          [
           0.8319327731092436,
           0.6552675124103695,
           0.6552675124103695,
           0.8319327731092436,
           0.8853473973859206,
           0.8032948119006639,
           0.8319327731092436,
           0.845752254390128,
           0.8032948119006639,
           0.9457229700390795,
           0,
           0.7732426303854876,
           0.7084548104956268,
           0.8032948119006639,
           0.845752254390128
          ],
          [
           0.8177842565597667,
           0.845752254390128,
           0.7884519661523146,
           0.8319327731092436,
           0.8724489795918368,
           0.7576530612244897,
           0.845752254390128,
           0.8724489795918368,
           0.7884519661523146,
           0.9570354457572503,
           0.7732426303854876,
           0,
           0.7252747252747253,
           0.845752254390128,
           0.8979591836734693
          ],
          [
           0.8592540464461645,
           0.8032948119006639,
           0.7084548104956268,
           0.6911922663802363,
           0.922360248447205,
           0.7252747252747253,
           0.845752254390128,
           0.845752254390128,
           0.7884519661523146,
           0.9570354457572503,
           0.7084548104956268,
           0.7252747252747253,
           0,
           0.845752254390128,
           0.9102937878448082
          ],
          [
           0.7884519661523146,
           0.7252747252747253,
           0.7884519661523146,
           0.922360248447205,
           0.845752254390128,
           0.8853473973859206,
           0.8592540464461645,
           0.934167215273206,
           0.922360248447205,
           0.9895876718034152,
           0.8032948119006639,
           0.845752254390128,
           0.845752254390128,
           0,
           0.7884519661523146
          ],
          [
           0.8724489795918368,
           0.6911922663802363,
           0.8319327731092436,
           0.9681122448979592,
           0.7576530612244897,
           0.922360248447205,
           0.8979591836734693,
           0.9457229700390795,
           0.9681122448979592,
           1,
           0.845752254390128,
           0.8979591836734693,
           0.9102937878448082,
           0.7884519661523146,
           0
          ]
         ]
        }
       ],
       "layout": {
        "height": 950,
        "template": {
         "data": {
          "bar": [
           {
            "error_x": {
             "color": "#2a3f5f"
            },
            "error_y": {
             "color": "#2a3f5f"
            },
            "marker": {
             "line": {
              "color": "#E5ECF6",
              "width": 0.5
             },
             "pattern": {
              "fillmode": "overlay",
              "size": 10,
              "solidity": 0.2
             }
            },
            "type": "bar"
           }
          ],
          "barpolar": [
           {
            "marker": {
             "line": {
              "color": "#E5ECF6",
              "width": 0.5
             },
             "pattern": {
              "fillmode": "overlay",
              "size": 10,
              "solidity": 0.2
             }
            },
            "type": "barpolar"
           }
          ],
          "carpet": [
           {
            "aaxis": {
             "endlinecolor": "#2a3f5f",
             "gridcolor": "white",
             "linecolor": "white",
             "minorgridcolor": "white",
             "startlinecolor": "#2a3f5f"
            },
            "baxis": {
             "endlinecolor": "#2a3f5f",
             "gridcolor": "white",
             "linecolor": "white",
             "minorgridcolor": "white",
             "startlinecolor": "#2a3f5f"
            },
            "type": "carpet"
           }
          ],
          "choropleth": [
           {
            "colorbar": {
             "outlinewidth": 0,
             "ticks": ""
            },
            "type": "choropleth"
           }
          ],
          "contour": [
           {
            "colorbar": {
             "outlinewidth": 0,
             "ticks": ""
            },
            "colorscale": [
             [
              0,
              "#0d0887"
             ],
             [
              0.1111111111111111,
              "#46039f"
             ],
             [
              0.2222222222222222,
              "#7201a8"
             ],
             [
              0.3333333333333333,
              "#9c179e"
             ],
             [
              0.4444444444444444,
              "#bd3786"
             ],
             [
              0.5555555555555556,
              "#d8576b"
             ],
             [
              0.6666666666666666,
              "#ed7953"
             ],
             [
              0.7777777777777778,
              "#fb9f3a"
             ],
             [
              0.8888888888888888,
              "#fdca26"
             ],
             [
              1,
              "#f0f921"
             ]
            ],
            "type": "contour"
           }
          ],
          "contourcarpet": [
           {
            "colorbar": {
             "outlinewidth": 0,
             "ticks": ""
            },
            "type": "contourcarpet"
           }
          ],
          "heatmap": [
           {
            "colorbar": {
             "outlinewidth": 0,
             "ticks": ""
            },
            "colorscale": [
             [
              0,
              "#0d0887"
             ],
             [
              0.1111111111111111,
              "#46039f"
             ],
             [
              0.2222222222222222,
              "#7201a8"
             ],
             [
              0.3333333333333333,
              "#9c179e"
             ],
             [
              0.4444444444444444,
              "#bd3786"
             ],
             [
              0.5555555555555556,
              "#d8576b"
             ],
             [
              0.6666666666666666,
              "#ed7953"
             ],
             [
              0.7777777777777778,
              "#fb9f3a"
             ],
             [
              0.8888888888888888,
              "#fdca26"
             ],
             [
              1,
              "#f0f921"
             ]
            ],
            "type": "heatmap"
           }
          ],
          "heatmapgl": [
           {
            "colorbar": {
             "outlinewidth": 0,
             "ticks": ""
            },
            "colorscale": [
             [
              0,
              "#0d0887"
             ],
             [
              0.1111111111111111,
              "#46039f"
             ],
             [
              0.2222222222222222,
              "#7201a8"
             ],
             [
              0.3333333333333333,
              "#9c179e"
             ],
             [
              0.4444444444444444,
              "#bd3786"
             ],
             [
              0.5555555555555556,
              "#d8576b"
             ],
             [
              0.6666666666666666,
              "#ed7953"
             ],
             [
              0.7777777777777778,
              "#fb9f3a"
             ],
             [
              0.8888888888888888,
              "#fdca26"
             ],
             [
              1,
              "#f0f921"
             ]
            ],
            "type": "heatmapgl"
           }
          ],
          "histogram": [
           {
            "marker": {
             "pattern": {
              "fillmode": "overlay",
              "size": 10,
              "solidity": 0.2
             }
            },
            "type": "histogram"
           }
          ],
          "histogram2d": [
           {
            "colorbar": {
             "outlinewidth": 0,
             "ticks": ""
            },
            "colorscale": [
             [
              0,
              "#0d0887"
             ],
             [
              0.1111111111111111,
              "#46039f"
             ],
             [
              0.2222222222222222,
              "#7201a8"
             ],
             [
              0.3333333333333333,
              "#9c179e"
             ],
             [
              0.4444444444444444,
              "#bd3786"
             ],
             [
              0.5555555555555556,
              "#d8576b"
             ],
             [
              0.6666666666666666,
              "#ed7953"
             ],
             [
              0.7777777777777778,
              "#fb9f3a"
             ],
             [
              0.8888888888888888,
              "#fdca26"
             ],
             [
              1,
              "#f0f921"
             ]
            ],
            "type": "histogram2d"
           }
          ],
          "histogram2dcontour": [
           {
            "colorbar": {
             "outlinewidth": 0,
             "ticks": ""
            },
            "colorscale": [
             [
              0,
              "#0d0887"
             ],
             [
              0.1111111111111111,
              "#46039f"
             ],
             [
              0.2222222222222222,
              "#7201a8"
             ],
             [
              0.3333333333333333,
              "#9c179e"
             ],
             [
              0.4444444444444444,
              "#bd3786"
             ],
             [
              0.5555555555555556,
              "#d8576b"
             ],
             [
              0.6666666666666666,
              "#ed7953"
             ],
             [
              0.7777777777777778,
              "#fb9f3a"
             ],
             [
              0.8888888888888888,
              "#fdca26"
             ],
             [
              1,
              "#f0f921"
             ]
            ],
            "type": "histogram2dcontour"
           }
          ],
          "mesh3d": [
           {
            "colorbar": {
             "outlinewidth": 0,
             "ticks": ""
            },
            "type": "mesh3d"
           }
          ],
          "parcoords": [
           {
            "line": {
             "colorbar": {
              "outlinewidth": 0,
              "ticks": ""
             }
            },
            "type": "parcoords"
           }
          ],
          "pie": [
           {
            "automargin": true,
            "type": "pie"
           }
          ],
          "scatter": [
           {
            "fillpattern": {
             "fillmode": "overlay",
             "size": 10,
             "solidity": 0.2
            },
            "type": "scatter"
           }
          ],
          "scatter3d": [
           {
            "line": {
             "colorbar": {
              "outlinewidth": 0,
              "ticks": ""
             }
            },
            "marker": {
             "colorbar": {
              "outlinewidth": 0,
              "ticks": ""
             }
            },
            "type": "scatter3d"
           }
          ],
          "scattercarpet": [
           {
            "marker": {
             "colorbar": {
              "outlinewidth": 0,
              "ticks": ""
             }
            },
            "type": "scattercarpet"
           }
          ],
          "scattergeo": [
           {
            "marker": {
             "colorbar": {
              "outlinewidth": 0,
              "ticks": ""
             }
            },
            "type": "scattergeo"
           }
          ],
          "scattergl": [
           {
            "marker": {
             "colorbar": {
              "outlinewidth": 0,
              "ticks": ""
             }
            },
            "type": "scattergl"
           }
          ],
          "scattermapbox": [
           {
            "marker": {
             "colorbar": {
              "outlinewidth": 0,
              "ticks": ""
             }
            },
            "type": "scattermapbox"
           }
          ],
          "scatterpolar": [
           {
            "marker": {
             "colorbar": {
              "outlinewidth": 0,
              "ticks": ""
             }
            },
            "type": "scatterpolar"
           }
          ],
          "scatterpolargl": [
           {
            "marker": {
             "colorbar": {
              "outlinewidth": 0,
              "ticks": ""
             }
            },
            "type": "scatterpolargl"
           }
          ],
          "scatterternary": [
           {
            "marker": {
             "colorbar": {
              "outlinewidth": 0,
              "ticks": ""
             }
            },
            "type": "scatterternary"
           }
          ],
          "surface": [
           {
            "colorbar": {
             "outlinewidth": 0,
             "ticks": ""
            },
            "colorscale": [
             [
              0,
              "#0d0887"
             ],
             [
              0.1111111111111111,
              "#46039f"
             ],
             [
              0.2222222222222222,
              "#7201a8"
             ],
             [
              0.3333333333333333,
              "#9c179e"
             ],
             [
              0.4444444444444444,
              "#bd3786"
             ],
             [
              0.5555555555555556,
              "#d8576b"
             ],
             [
              0.6666666666666666,
              "#ed7953"
             ],
             [
              0.7777777777777778,
              "#fb9f3a"
             ],
             [
              0.8888888888888888,
              "#fdca26"
             ],
             [
              1,
              "#f0f921"
             ]
            ],
            "type": "surface"
           }
          ],
          "table": [
           {
            "cells": {
             "fill": {
              "color": "#EBF0F8"
             },
             "line": {
              "color": "white"
             }
            },
            "header": {
             "fill": {
              "color": "#C8D4E3"
             },
             "line": {
              "color": "white"
             }
            },
            "type": "table"
           }
          ]
         },
         "layout": {
          "annotationdefaults": {
           "arrowcolor": "#2a3f5f",
           "arrowhead": 0,
           "arrowwidth": 1
          },
          "autotypenumbers": "strict",
          "coloraxis": {
           "colorbar": {
            "outlinewidth": 0,
            "ticks": ""
           }
          },
          "colorscale": {
           "diverging": [
            [
             0,
             "#8e0152"
            ],
            [
             0.1,
             "#c51b7d"
            ],
            [
             0.2,
             "#de77ae"
            ],
            [
             0.3,
             "#f1b6da"
            ],
            [
             0.4,
             "#fde0ef"
            ],
            [
             0.5,
             "#f7f7f7"
            ],
            [
             0.6,
             "#e6f5d0"
            ],
            [
             0.7,
             "#b8e186"
            ],
            [
             0.8,
             "#7fbc41"
            ],
            [
             0.9,
             "#4d9221"
            ],
            [
             1,
             "#276419"
            ]
           ],
           "sequential": [
            [
             0,
             "#0d0887"
            ],
            [
             0.1111111111111111,
             "#46039f"
            ],
            [
             0.2222222222222222,
             "#7201a8"
            ],
            [
             0.3333333333333333,
             "#9c179e"
            ],
            [
             0.4444444444444444,
             "#bd3786"
            ],
            [
             0.5555555555555556,
             "#d8576b"
            ],
            [
             0.6666666666666666,
             "#ed7953"
            ],
            [
             0.7777777777777778,
             "#fb9f3a"
            ],
            [
             0.8888888888888888,
             "#fdca26"
            ],
            [
             1,
             "#f0f921"
            ]
           ],
           "sequentialminus": [
            [
             0,
             "#0d0887"
            ],
            [
             0.1111111111111111,
             "#46039f"
            ],
            [
             0.2222222222222222,
             "#7201a8"
            ],
            [
             0.3333333333333333,
             "#9c179e"
            ],
            [
             0.4444444444444444,
             "#bd3786"
            ],
            [
             0.5555555555555556,
             "#d8576b"
            ],
            [
             0.6666666666666666,
             "#ed7953"
            ],
            [
             0.7777777777777778,
             "#fb9f3a"
            ],
            [
             0.8888888888888888,
             "#fdca26"
            ],
            [
             1,
             "#f0f921"
            ]
           ]
          },
          "colorway": [
           "#636efa",
           "#EF553B",
           "#00cc96",
           "#ab63fa",
           "#FFA15A",
           "#19d3f3",
           "#FF6692",
           "#B6E880",
           "#FF97FF",
           "#FECB52"
          ],
          "font": {
           "color": "#2a3f5f"
          },
          "geo": {
           "bgcolor": "white",
           "lakecolor": "white",
           "landcolor": "#E5ECF6",
           "showlakes": true,
           "showland": true,
           "subunitcolor": "white"
          },
          "hoverlabel": {
           "align": "left"
          },
          "hovermode": "closest",
          "mapbox": {
           "style": "light"
          },
          "paper_bgcolor": "white",
          "plot_bgcolor": "#E5ECF6",
          "polar": {
           "angularaxis": {
            "gridcolor": "white",
            "linecolor": "white",
            "ticks": ""
           },
           "bgcolor": "#E5ECF6",
           "radialaxis": {
            "gridcolor": "white",
            "linecolor": "white",
            "ticks": ""
           }
          },
          "scene": {
           "xaxis": {
            "backgroundcolor": "#E5ECF6",
            "gridcolor": "white",
            "gridwidth": 2,
            "linecolor": "white",
            "showbackground": true,
            "ticks": "",
            "zerolinecolor": "white"
           },
           "yaxis": {
            "backgroundcolor": "#E5ECF6",
            "gridcolor": "white",
            "gridwidth": 2,
            "linecolor": "white",
            "showbackground": true,
            "ticks": "",
            "zerolinecolor": "white"
           },
           "zaxis": {
            "backgroundcolor": "#E5ECF6",
            "gridcolor": "white",
            "gridwidth": 2,
            "linecolor": "white",
            "showbackground": true,
            "ticks": "",
            "zerolinecolor": "white"
           }
          },
          "shapedefaults": {
           "line": {
            "color": "#2a3f5f"
           }
          },
          "ternary": {
           "aaxis": {
            "gridcolor": "white",
            "linecolor": "white",
            "ticks": ""
           },
           "baxis": {
            "gridcolor": "white",
            "linecolor": "white",
            "ticks": ""
           },
           "bgcolor": "#E5ECF6",
           "caxis": {
            "gridcolor": "white",
            "linecolor": "white",
            "ticks": ""
           }
          },
          "title": {
           "x": 0.05
          },
          "xaxis": {
           "automargin": true,
           "gridcolor": "white",
           "linecolor": "white",
           "ticks": "",
           "title": {
            "standoff": 15
           },
           "zerolinecolor": "white",
           "zerolinewidth": 2
          },
          "yaxis": {
           "automargin": true,
           "gridcolor": "white",
           "linecolor": "white",
           "ticks": "",
           "title": {
            "standoff": 15
           },
           "zerolinecolor": "white",
           "zerolinewidth": 2
          }
         }
        },
        "title": {
         "text": "Topic difference (one model) [jaccard distance]"
        },
        "width": 950,
        "xaxis": {
         "autorange": true,
         "range": [
          -0.5,
          14.5
         ],
         "title": {
          "text": "topic"
         }
        },
        "yaxis": {
         "autorange": true,
         "range": [
          -0.5,
          14.5
         ],
         "title": {
          "text": "topic"
         }
        }
       }
      },
      "image/png": "[encoded data removed]",
      "text/html": [
       "<div>                            <div id=\"66697f02-784c-4ebc-b4ed-77fe758076b2\" class=\"plotly-graph-div\" style=\"height:950px; width:950px;\"></div>            <script type=\"text/javascript\">                require([\"plotly\"], function(Plotly) {                    window.PLOTLYENV=window.PLOTLYENV || {};                                    if (document.getElementById(\"66697f02-784c-4ebc-b4ed-77fe758076b2\")) {                    Plotly.newPlot(                        \"66697f02-784c-4ebc-b4ed-77fe758076b2\",                        [{\"colorscale\":[[0.0,\"rgb(103,0,31)\"],[0.1,\"rgb(178,24,43)\"],[0.2,\"rgb(214,96,77)\"],[0.3,\"rgb(244,165,130)\"],[0.4,\"rgb(253,219,199)\"],[0.5,\"rgb(247,247,247)\"],[0.6,\"rgb(209,229,240)\"],[0.7,\"rgb(146,197,222)\"],[0.8,\"rgb(67,147,195)\"],[0.9,\"rgb(33,102,172)\"],[1.0,\"rgb(5,48,97)\"]],\"text\":[[\"+++ state, space, distribut, includ, good, think, repli, group, duke, look<br>--- \",\"+++ new, distribut, comput, good, think, system, make, repli, world, look<br>--- space, duke, mil, american, anyon, 1993, gun, memori, pleas, buy\",\"+++ mail, state, new, distribut, comput, good, think, two, make, repli<br>--- michael, see, space, bank, duke, realli, american, anyon, 1993, gun\",\"+++ good, think, make, world, could, time, may, said, also<br>--- bibl, see, life, jesu, space, distribut, duke, look, differ, american\",\"+++ inform, mail, includ, distribut, new, comput, system, make, provid, file<br>--- user, space, phone, duke, look, american, 1993, gun, data, rochest\",\"+++ two, think, said, make, file, look, could, year, may, first<br>--- right, see, space, distribut, colorado, duke, american, 1993, come, gun\",\"+++ 1993, state, new, distribut, research, good, think, system, world, year<br>--- right, 000, space, duke, look, drink, american, gun, left, take\",\"+++ new, two, good, think, make, look, year, time, first, also<br>--- right, see, space, distribut, duke, goal, player, final, american, win\",\"+++ state, two, think, said, make, world, could, year, first, also<br>--- right, see, greek, nazi, space, distribut, duke, look, attack, american\",\"+++ year, good, think, time<br>--- space, distribut, 145, duke, look, player, 6um, win, g9v, american\",\"+++ distribut, comput, good, think, system, make, repli, world, look, could<br>--- right, see, space, dealer, duke, realli, american, anyon, 1993, gun\",\"+++ american, state, space, new, good, think, gun, system, said, make<br>--- right, distribut, hous, duke, look, 1993, drug, take, rochest, money\",\"+++ new, good, gun, think, system, make, look, could, year, may<br>--- right, see, space, distribut, duke, differ, caltech, realli, american, kill\",\"+++ mail, state, space, distribut, research, good, think, john, system, repli<br>--- pat, duke, peopl, mit, chang, thank, problem, institut, american, satellit\",\"+++ mail, includ, distribut, new, comput, system, repli, look, file, could<br>--- space, duke, american, 1993, gun, data, memori, pleas, rochest, appl\"],[\"+++ new, distribut, comput, good, think, system, make, repli, world, look<br>--- space, duke, mil, american, 1993, anyon, gun, memori, pleas, buy\",\"+++ version, work, distribut, good, think, repli, look, mil, thank, problem<br>--- \",\"+++ work, distribut, good, think, repli, look, anyon, well, pleas, want<br>--- michael, version, see, bank, peopl, mil, thank, problem, realli, even\",\"+++ seem, want, good, think, thing, make, world, read, well, also<br>--- bibl, see, life, jesu, distribut, look, mil, differ, anyon, come\",\"+++ work, want, need, new, distribut, comput, program, system, make, call<br>--- user, phone, look, mil, anyon, data, memori, pleas, buy, seem\",\"+++ want, need, program, think, thing, make, file, look, time, well<br>--- right, see, distribut, colorado, mil, anyon, come, output, take, memori\",\"+++ new, distribut, well, good, think, gov, system, call, help, world<br>--- right, 000, look, mil, drink, 1993, anyon, left, take, rider\",\"+++ new, good, think, run, make, look, time, well, also<br>--- right, see, distribut, goal, player, final, mil, win, last, anyon\",\"+++ want, think, make, call, world, time, well, also, tri<br>--- right, see, greek, nazi, distribut, look, mil, attack, kill, anyon\",\"+++ well, good, think, time<br>--- distribut, 145, look, mil, player, 6um, win, g9v, last, hall\",\"+++ work, distribut, good, think, repli, look, thank, anyon, call, world<br>--- right, version, see, better, dealer, peopl, news, mil, problem, engin\",\"+++ work, want, need, new, good, think, system, thing, program, make<br>--- right, space, distribut, hous, look, mil, american, anyon, gun, drug\",\"+++ seem, work, want, new, well, good, think, system, thing, make<br>--- right, see, distribut, mil, differ, caltech, realli, kill, anyon, gun\",\"+++ work, distribut, good, think, repli, look, thank, problem, anyon, file<br>--- version, state, space, pat, peopl, mit, chang, virginia, net, first\",\"+++ version, work, distribut, repli, look, thank, problem, file, card, window<br>--- much, mac, includ, good, think, avail, mil, screen, mail, anyon\"],[\"+++ mail, state, new, distribut, comput, good, think, two, make, repli<br>--- michael, see, space, bank, duke, american, realli, 1993, anyon, gun\",\"+++ work, distribut, good, think, repli, look, anyon, well, pleas, want<br>--- version, michael, see, andrew, state, bank, peopl, mil, thank, problem\",\"+++ michael, see, work, state, distribut, good, think, bank, repli, look<br>--- \",\"+++ see, want, say, way, well, good, even, think, thing, make<br>--- michael, bibl, life, jesu, distribut, bank, look, differ, realli, anyon\",\"+++ work, want, need, mail, new, distribut, comput, make, run, time<br>--- michael, user, see, phone, bank, look, realli, anyon, data, pleas\",\"+++ see, think, peopl, look, even, could, may, well, want, thing<br>--- right, michael, someth, colorado, distribut, good, bank, repli, realli, anyon\",\"+++ state, way, distribut, new, good, think, even, bike, year, time<br>--- right, michael, see, 000, bank, look, drink, realli, 1993, anyon\",\"+++ see, back, new, two, good, think, even, pittsburgh, run, make<br>--- right, michael, distribut, bank, goal, player, final, realli, win, last\",\"+++ see, want, say, state, way, two, even, think, make, org<br>--- right, michael, greek, nazi, distribut, armenian, good, arm, bank, repli\",\"+++ good, think, year, time, well<br>--- michael, see, distribut, 145, bank, look, player, 6um, win, g9v\",\"+++ see, work, distribut, good, think, repli, look, peopl, engin, realli<br>--- right, michael, andrew, better, state, bank, dealer, news, thank, dod\",\"+++ work, want, need, say, state, way, new, good, think, even<br>--- right, michael, see, space, distribut, hous, bank, repli, look, american\",\"+++ see, work, good, think, peopl, look, realli, even, could, may<br>--- right, michael, andrew, state, argument, someth, distribut, bank, repli, evid\",\"+++ work, need, anyon, state, mail, distribut, new, good, think, comput<br>--- michael, see, space, pat, bank, mit, chang, thank, problem, realli\",\"+++ work, want, need, mail, new, distribut, comput, run, repli, look<br>--- michael, see, bank, realli, anyon, data, memori, appl, pittsburgh, speed\"],[\"+++ good, think, make, world, could, time, may, said, also<br>--- bibl, see, life, jesu, space, distribut, duke, look, differ, american\",\"+++ seem, want, good, think, thing, make, world, read, well, also<br>--- bibl, see, life, jesu, distribut, look, mil, differ, anyon, come\",\"+++ see, want, say, way, good, even, think, thing, make, peopl<br>--- michael, bibl, life, jesu, distribut, bank, look, differ, realli, anyon\",\"+++ must, bibl, see, life, faith, church, jesu, book, good, think<br>--- \",\"+++ want, make, time, may, also<br>--- bibl, user, see, life, jesu, distribut, phone, differ, come, data\",\"+++ must, see, think, peopl, come, even, could, may, well, want<br>--- right, bibl, life, faith, church, jesu, book, someth, colorado, good\",\"+++ way, good, even, think, world, day, time, well, also<br>--- right, bibl, see, life, 000, jesu, distribut, differ, drink, 1993\",\"+++ see, point, good, think, even, make, time, well, also<br>--- right, bibl, life, jesu, look, goal, player, final, differ, win\",\"+++ see, want, say, way, live, even, think, make, mani, question<br>--- right, bibl, life, greek, jesu, nazi, attack, differ, kill, come\",\"+++ come, good, think, time, well<br>--- bibl, see, life, jesu, 145, player, differ, 6um, win, g9v\",\"+++ see, want, say, way, good, even, think, thing, make, world<br>--- right, bibl, life, jesu, distribut, dealer, look, differ, realli, anyon\",\"+++ want, say, way, point, good, think, even, thing, make, peopl<br>--- right, bibl, see, life, jesu, space, hous, differ, american, come\",\"+++ see, good, think, peopl, differ, point, even, person, mani, could<br>--- right, must, life, bibl, faith, work, church, jesu, argument, someth\",\"+++ point, good, think, question, peopl, could, may, also<br>--- bibl, see, life, jesu, space, distribut, pat, look, mit, differ\",\"+++ could, want, also, time<br>--- bibl, see, life, jesu, distribut, look, differ, come, data, word\"],[\"+++ inform, mail, includ, distribut, new, comput, system, make, provid, file<br>--- user, space, phone, duke, look, american, 1993, gun, data, rochest\",\"+++ work, want, need, new, distribut, comput, program, system, run, call<br>--- user, phone, look, mil, anyon, data, memori, pleas, buy, seem\",\"+++ work, want, need, mail, new, distribut, comput, make, run, time<br>--- michael, see, user, phone, bank, look, realli, anyon, data, pleas\",\"+++ want, make, time, may, also<br>--- bibl, see, life, user, jesu, distribut, phone, differ, come, data\",\"+++ user, work, includ, distribut, server, phone, avail, applic, algorithm, gener<br>--- \",\"+++ need, want, number, law, program, make, file, time, may, also<br>--- right, see, user, distribut, colorado, phone, look, come, output, data\",\"+++ number, new, distribut, bit, system, call, time, also<br>--- right, user, 000, phone, drink, 1993, data, left, take, rider\",\"+++ new, run, make, time, also<br>--- right, see, user, distribut, phone, look, goal, player, final, win\",\"+++ want, govern, make, call, time, also<br>--- right, see, greek, user, nazi, distribut, phone, attack, kill, palestinian\",\"+++ time<br>--- user, distribut, 145, phone, player, 6um, win, g9v, last, hall\",\"+++ work, want, need, distribut, comput, system, make, call, run, time<br>--- right, see, user, phone, dealer, look, realli, anyon, uiuc, data\",\"+++ public, work, want, need, govern, new, law, program, system, make<br>--- right, user, space, distribut, phone, hous, american, gun, data, drug\",\"+++ work, want, new, system, make, time, may, also<br>--- right, see, user, distribut, phone, look, differ, caltech, realli, kill\",\"+++ technolog, work, need, mail, new, distribut, comput, program, system, file<br>--- user, space, phone, pat, look, mit, anyon, data, alaska, find\",\"+++ work, includ, distribut, avail, mail, bit, data, file, window, want<br>--- version, user, mac, server, phone, repli, look, applic, thank, problem\"],[\"+++ two, think, said, make, file, look, could, year, may, first<br>--- right, see, space, distribut, colorado, duke, american, 1993, come, gun\",\"+++ want, need, program, think, thing, make, file, look, time, well<br>--- right, see, distribut, colorado, mil, anyon, come, output, take, memori\",\"+++ see, think, look, peopl, even, could, may, well, want, thing<br>--- michael, right, distribut, someth, good, colorado, bank, repli, realli, anyon\",\"+++ must, see, think, peopl, come, even, could, well, may, want<br>--- bibl, life, faith, church, right, jesu, book, someth, colorado, good\",\"+++ need, want, number, law, program, make, file, time, may, also<br>--- right, user, see, distribut, colorado, phone, look, come, data, output\",\"+++ right, must, see, someth, colorado, think, ground, also, peopl, look<br>--- \",\"+++ right, number, way, even, think, year, day, well, take, first<br>--- see, 000, distribut, colorado, look, drink, 1993, come, output, left\",\"+++ right, see, back, two, think, even, make, look, year, time<br>--- colorado, goal, player, final, win, last, shot, come, divis, output\",\"+++ right, see, want, say, way, two, think, even, make, question<br>--- greek, nazi, colorado, look, attack, kill, come, palestinian, output, take\",\"+++ come, think, year, time, well<br>--- right, see, colorado, 145, look, player, 6um, win, g9v, last\",\"+++ right, see, want, need, say, way, think, even, thing, make<br>--- distribut, colorado, dealer, realli, anyon, come, uiuc, output, take, buy\",\"+++ right, think, peopl, first, even, could, well, take, want, thing<br>--- must, see, work, state, space, talk, someth, good, tell, colorado\",\"+++ right, see, someth, think, peopl, look, even, could, may, well<br>--- must, work, argument, colorado, good, tell, ground, evid, rule, problem\",\"+++ need, program, think, question, file, peopl, look, could, may, first<br>--- right, see, space, distribut, colorado, pat, mit, anyon, come, output\",\"+++ want, need, program, file, look, could, time, also<br>--- right, see, distribut, colorado, come, data, output, take, memori, pleas\"],[\"+++ 1993, state, new, distribut, research, good, think, system, world, year<br>--- right, 000, space, duke, look, american, drink, gun, left, take\",\"+++ new, distribut, well, good, think, gov, system, call, help, world<br>--- right, 000, look, mil, drink, anyon, 1993, left, take, memori\",\"+++ state, way, distribut, new, good, think, even, bike, year, time<br>--- michael, right, see, 000, bank, look, realli, drink, anyon, 1993\",\"+++ way, good, even, think, world, day, time, well, also<br>--- right, bibl, see, life, 000, jesu, distribut, differ, drink, 1993\",\"+++ number, new, distribut, bit, system, call, time, also<br>--- right, user, 000, phone, drink, 1993, data, left, take, rider\",\"+++ right, number, way, even, think, year, day, well, take, first<br>--- see, 000, distribut, colorado, look, drink, 1993, come, output, left\",\"+++ right, 000, diseas, state, distribut, good, think, air, april, problem<br>--- \",\"+++ right, new, good, think, even, year, time, well, first, also<br>--- see, 000, distribut, look, goal, player, final, drink, win, last\",\"+++ right, state, way, even, think, call, world, year, time, well<br>--- see, greek, 000, nazi, distribut, attack, drink, kill, 1993, palestinian\",\"+++ good, think, chz, year, time, well<br>--- right, 000, distribut, 145, player, 6um, win, g9v, drink, last\",\"+++ right, way, distribut, gov, good, even, think, system, call, help<br>--- see, 000, dealer, look, realli, drink, anyon, 1993, uiuc, left\",\"+++ right, state, way, new, good, think, even, system, year, time<br>--- 000, space, distribut, hous, american, drink, 1993, gun, drug, left\",\"+++ right, caus, way, new, well, good, even, think, system, year<br>--- see, 000, distribut, look, differ, caltech, realli, drink, kill, 1993\",\"+++ state, research, distribut, gov, good, think, system, new, help, nasa<br>--- right, 000, space, pat, look, mit, drink, anyon, 1993, left\",\"+++ new, distribut, bit, ibm, help, system, time, problem, control, also<br>--- right, 000, look, drink, 1993, data, left, take, memori, rider\"],[\"+++ new, two, good, think, make, look, year, time, first, also<br>--- right, see, space, distribut, duke, goal, player, final, american, win\",\"+++ new, good, think, run, make, look, time, well, also<br>--- right, see, distribut, mil, goal, player, final, win, last, anyon\",\"+++ see, back, new, two, good, even, think, pittsburgh, make, run<br>--- michael, right, distribut, bank, goal, player, final, realli, win, last\",\"+++ see, point, good, even, think, make, time, well, also<br>--- right, bibl, life, jesu, look, goal, player, final, differ, win\",\"+++ new, make, run, time, also<br>--- right, user, see, distribut, phone, look, goal, player, final, win\",\"+++ right, see, back, two, think, even, make, look, year, time<br>--- colorado, goal, player, final, win, last, come, shot, output, divis\",\"+++ right, new, good, even, think, year, time, well, first, also<br>--- see, 000, distribut, look, goal, player, final, drink, win, last\",\"+++ right, see, red, good, think, nhl, look, hard, goal, player<br>--- \",\"+++ right, see, two, even, think, make, year, time, well, first<br>--- greek, nazi, look, goal, attack, player, final, win, kill, last\",\"+++ win, last, team, good, think, basebal, play, game, year, time<br>--- right, see, 145, look, goal, final, 6um, g9v, hall, come\",\"+++ right, see, got, good, think, even, make, run, power, look<br>--- distribut, dealer, goal, player, final, realli, win, last, anyon, shot\",\"+++ right, new, point, good, think, even, make, year, time, well<br>--- see, space, hous, look, goal, player, final, american, win, last\",\"+++ right, see, back, new, point, good, think, even, make, look<br>--- goal, player, final, differ, caltech, realli, win, kill, last, shot\",\"+++ new, point, good, think, look, first, also<br>--- right, see, space, distribut, pat, mit, goal, player, final, win\",\"+++ new, run, look, drive, time, also<br>--- right, see, distribut, goal, player, final, win, last, shot, data\"],[\"+++ state, two, think, said, make, world, could, year, first, also<br>--- right, see, greek, space, distribut, nazi, duke, look, attack, american\",\"+++ want, think, make, call, world, time, well, also, tri<br>--- right, see, greek, nazi, distribut, look, mil, attack, kill, anyon\",\"+++ see, time, want, say, state, way, two, think, even, make<br>--- michael, right, greek, nazi, distribut, bank, look, attack, realli, kill\",\"+++ see, want, say, way, live, even, think, make, mani, question<br>--- right, bibl, life, greek, jesu, nazi, attack, differ, kill, come\",\"+++ want, govern, make, call, time, also<br>--- right, user, see, greek, nazi, distribut, phone, attack, kill, palestinian\",\"+++ right, see, want, say, way, two, think, even, make, question<br>--- greek, nazi, colorado, look, attack, kill, come, palestinian, output, take\",\"+++ right, state, way, even, think, call, world, year, time, well<br>--- see, greek, 000, nazi, distribut, attack, drink, kill, 1993, palestinian\",\"+++ right, see, two, think, even, make, year, time, well, first<br>--- greek, nazi, look, goal, player, final, attack, win, last, kill\",\"+++ right, see, greek, state, nazi, armenian, think, israel, arm, peopl<br>--- \",\"+++ think, year, jewish, well, time<br>--- right, see, greek, nazi, 145, player, attack, 6um, win, g9v\",\"+++ right, see, want, say, way, even, think, make, call, world<br>--- greek, nazi, distribut, dealer, look, attack, realli, kill, anyon, palestinian\",\"+++ right, want, say, countri, state, govern, way, think, even, said<br>--- see, greek, space, nazi, hous, attack, american, kill, gun, palestinian\",\"+++ right, see, kill, want, say, way, think, even, make, mani<br>--- greek, nazi, look, attack, differ, caltech, realli, gun, palestinian, take\",\"+++ state, think, question, peopl, could, first, also, tri<br>--- right, see, greek, space, distribut, nazi, pat, look, mit, attack\",\"+++ could, want, also, time<br>--- right, see, greek, nazi, distribut, look, attack, kill, palestinian, data\"],[\"+++ year, good, think, time<br>--- space, distribut, 145, duke, look, player, american, 6um, win, g9v\",\"+++ well, good, think, time<br>--- distribut, 145, look, mil, player, 6um, win, g9v, last, anyon\",\"+++ good, think, year, time, well<br>--- michael, see, distribut, 145, bank, look, player, realli, 6um, win\",\"+++ come, good, think, time, well<br>--- bibl, see, life, jesu, 145, player, differ, 6um, win, g9v\",\"+++ time<br>--- user, distribut, phone, 145, player, 6um, win, g9v, last, hall\",\"+++ come, think, year, time, well<br>--- right, see, colorado, 145, look, player, 6um, win, g9v, last\",\"+++ good, think, chz, year, time, well<br>--- right, 000, distribut, 145, player, drink, 6um, win, g9v, last\",\"+++ win, last, team, good, think, basebal, play, game, year, time<br>--- right, see, 145, look, goal, final, 6um, g9v, hall, shot\",\"+++ think, year, time, jewish, well<br>--- right, see, greek, nazi, 145, attack, player, 6um, win, g9v\",\"+++ 6ei, better, bxn, good, 145, think, a86, 7ez, rlk, player<br>--- \",\"+++ better, good, think, year, time, well<br>--- right, see, distribut, 145, dealer, look, player, realli, 6um, win\",\"+++ good, think, year, time, well<br>--- right, space, 145, hous, player, american, 6um, win, g9v, last\",\"+++ good, think, year, time, well<br>--- right, see, 145, look, player, differ, caltech, realli, 6um, win\",\"+++ good, think<br>--- space, distribut, 145, pat, look, mit, player, 6um, win, g9v\",\"+++ time<br>--- distribut, 145, look, player, 6um, win, g9v, last, hall, come\"],[\"+++ distribut, comput, good, think, system, make, repli, world, look, could<br>--- right, see, space, duke, dealer, american, realli, 1993, anyon, gun\",\"+++ work, distribut, good, think, repli, look, thank, anyon, call, world<br>--- version, right, see, better, dealer, peopl, mil, problem, news, engin\",\"+++ see, work, distribut, good, think, repli, look, peopl, engin, realli<br>--- michael, right, much, state, better, bank, dealer, news, thank, dod\",\"+++ see, want, say, way, good, even, think, thing, make, world<br>--- right, bibl, life, jesu, distribut, dealer, look, differ, realli, anyon\",\"+++ work, want, need, distribut, comput, system, make, call, run, time<br>--- right, user, see, phone, dealer, look, realli, anyon, uiuc, data\",\"+++ right, see, want, need, say, way, think, even, thing, make<br>--- distribut, colorado, dealer, realli, anyon, come, uiuc, output, take, buy\",\"+++ right, way, distribut, gov, good, even, think, system, call, help<br>--- see, 000, dealer, look, drink, realli, 1993, anyon, uiuc, left\",\"+++ right, see, got, good, think, even, run, make, power, look<br>--- distribut, dealer, goal, player, final, realli, win, last, anyon, shot\",\"+++ right, see, want, say, way, even, think, make, call, world<br>--- greek, nazi, distribut, dealer, look, attack, realli, kill, anyon, palestinian\",\"+++ better, good, think, year, time, well<br>--- right, see, distribut, 145, dealer, look, player, 6um, win, g9v\",\"+++ right, see, work, better, distribut, good, think, repli, dealer, look<br>--- \",\"+++ right, work, good, think, peopl, even, could, well, want, system<br>--- see, space, distribut, hous, repli, dealer, look, thank, american, realli\",\"+++ right, see, work, good, think, peopl, look, realli, even, could<br>--- better, argument, someth, distribut, repli, dealer, evid, news, thank, problem\",\"+++ work, need, anyon, distribut, gov, good, think, system, help, repli<br>--- right, see, space, pat, dealer, mit, realli, uiuc, alaska, find\",\"+++ work, want, need, distribut, comput, help, system, run, repli, look<br>--- right, see, dealer, realli, anyon, uiuc, data, memori, pleas, buy\"],[\"+++ american, state, space, new, good, think, gun, system, make, said<br>--- right, distribut, hous, duke, look, 1993, drug, take, rochest, money\",\"+++ work, want, need, new, good, think, system, thing, program, make<br>--- right, space, distribut, hous, look, mil, american, anyon, gun, drug\",\"+++ work, want, need, say, state, way, new, good, think, even<br>--- michael, right, see, space, distribut, bank, repli, hous, look, realli\",\"+++ want, say, way, point, good, even, think, thing, make, peopl<br>--- right, bibl, see, life, jesu, space, hous, differ, american, come\",\"+++ public, work, want, need, govern, new, law, program, system, make<br>--- right, user, space, distribut, phone, hous, american, gun, data, drug\",\"+++ right, think, peopl, first, even, could, well, take, want, thing<br>--- see, space, someth, colorado, good, hous, look, american, public, come\",\"+++ right, state, way, new, good, think, even, system, year, time<br>--- 000, space, distribut, hous, drink, american, 1993, gun, drug, left\",\"+++ right, new, point, good, think, even, make, year, time, well<br>--- see, space, hous, look, goal, player, final, american, win, last\",\"+++ right, want, say, countri, state, govern, way, think, even, make<br>--- see, greek, nazi, space, armenian, good, arm, hous, armenia, attack\",\"+++ good, think, year, time, well<br>--- right, space, 145, hous, player, 6um, win, g9v, american, last\",\"+++ right, work, good, think, peopl, even, could, well, want, system<br>--- see, space, distribut, repli, hous, dealer, look, thank, realli, american\",\"+++ right, work, state, space, talk, good, think, hous, peopl, first<br>--- \",\"+++ right, work, good, think, peopl, point, even, gun, could, well<br>--- see, state, argument, someth, space, talk, hous, look, evid, problem\",\"+++ work, need, state, space, point, new, good, think, system, program<br>--- right, distribut, pat, hous, look, mit, american, anyon, gun, drug\",\"+++ work, want, need, new, support, program, system, could, time, also<br>--- right, space, distribut, hous, look, american, gun, data, drug, take\"],[\"+++ new, good, gun, think, system, make, look, could, year, may<br>--- right, see, space, distribut, duke, differ, caltech, american, realli, kill\",\"+++ seem, work, want, new, well, good, think, system, thing, make<br>--- right, see, distribut, mil, differ, caltech, realli, kill, anyon, gun\",\"+++ see, work, good, think, look, peopl, realli, even, could, may<br>--- michael, right, much, state, argument, distribut, someth, bank, repli, evid\",\"+++ see, good, think, peopl, differ, point, even, person, mani, could<br>--- must, bibl, life, faith, church, right, jesu, work, much, book\",\"+++ work, want, new, system, make, time, may, also<br>--- right, user, see, distribut, phone, look, differ, caltech, realli, kill\",\"+++ right, see, someth, think, peopl, look, even, could, may, well<br>--- must, work, argument, colorado, good, ground, tell, evid, rule, problem\",\"+++ right, caus, way, new, well, good, even, think, system, year<br>--- see, 000, distribut, look, differ, caltech, drink, realli, kill, 1993\",\"+++ right, see, back, new, point, good, think, even, make, look<br>--- goal, player, final, differ, caltech, realli, win, last, kill, shot\",\"+++ right, see, kill, want, say, way, think, even, make, mani<br>--- greek, nazi, look, attack, differ, caltech, realli, gun, palestinian, take\",\"+++ good, think, year, time, well<br>--- right, see, 145, look, player, differ, caltech, 6um, win, g9v\",\"+++ right, see, work, good, think, look, peopl, realli, even, could<br>--- better, argument, distribut, someth, repli, dealer, evid, news, thank, problem\",\"+++ right, work, good, think, peopl, point, gun, even, could, well<br>--- see, state, space, talk, argument, someth, hous, look, evid, problem\",\"+++ right, see, work, argument, someth, good, think, peopl, look, evid<br>--- \",\"+++ work, new, point, good, think, system, question, look, peopl, could<br>--- right, see, space, distribut, pat, mit, differ, caltech, realli, kill\",\"+++ work, want, new, system, look, could, time, problem, also<br>--- right, see, distribut, differ, caltech, realli, kill, gun, data, take\"],[\"+++ mail, state, space, distribut, new, good, think, john, system, repli<br>--- pat, duke, peopl, mit, chang, thank, problem, institut, american, satellit\",\"+++ work, distribut, good, think, repli, look, thank, problem, anyon, file<br>--- version, state, space, pat, peopl, mit, mil, chang, virginia, net\",\"+++ work, need, anyon, state, mail, distribut, new, good, think, pleas<br>--- michael, see, space, pat, bank, mit, chang, thank, problem, realli\",\"+++ point, good, think, question, peopl, could, may, also<br>--- bibl, see, life, jesu, space, distribut, pat, look, mit, differ\",\"+++ technolog, work, need, mail, new, distribut, comput, program, system, file<br>--- user, space, phone, pat, look, mit, anyon, data, alaska, find\",\"+++ need, program, think, question, file, peopl, look, could, may, first<br>--- right, see, space, distribut, colorado, pat, mit, anyon, come, output\",\"+++ state, new, distribut, gov, good, think, system, research, help, nasa<br>--- right, 000, space, pat, look, mit, drink, 1993, anyon, left\",\"+++ new, point, good, think, look, first, also<br>--- right, see, space, distribut, pat, mit, goal, player, final, win\",\"+++ state, think, question, peopl, could, first, also, tri<br>--- right, see, greek, nazi, space, distribut, pat, look, mit, attack\",\"+++ good, think<br>--- space, distribut, 145, pat, look, mit, player, 6um, win, g9v\",\"+++ work, need, anyon, distribut, gov, good, think, system, comput, repli<br>--- right, see, space, pat, dealer, mit, realli, uiuc, alaska, find\",\"+++ work, need, state, space, point, new, good, think, system, program<br>--- right, distribut, pat, hous, look, mit, american, anyon, gun, drug\",\"+++ work, new, point, good, think, system, question, look, peopl, could<br>--- right, see, space, distribut, pat, mit, differ, caltech, realli, kill\",\"+++ work, state, space, distribut, good, think, pat, repli, peopl, mit<br>--- \",\"+++ work, need, mail, new, distribut, comput, program, help, system, repli<br>--- space, pat, mit, anyon, data, alaska, memori, find, appl, speed\"],[\"+++ mail, includ, distribut, new, comput, system, repli, look, file, could<br>--- space, duke, american, 1993, gun, data, memori, pleas, rochest, appl\",\"+++ version, work, distribut, repli, look, thank, problem, file, card, window<br>--- mac, includ, good, think, imag, avail, mil, screen, anyon, mail\",\"+++ work, want, need, mail, new, distribut, comput, run, repli, look<br>--- michael, see, bank, realli, anyon, data, memori, pittsburgh, appl, speed\",\"+++ also, want, could, time<br>--- bibl, see, life, jesu, distribut, look, differ, come, data, word\",\"+++ work, includ, distribut, avail, mail, bit, data, file, window, want<br>--- version, user, mac, server, phone, repli, look, applic, thank, problem\",\"+++ want, need, program, file, look, could, time, also<br>--- right, see, distribut, colorado, come, output, data, take, memori, pleas\",\"+++ new, distribut, bit, ibm, help, system, control, problem, also, time<br>--- right, 000, look, drink, 1993, data, left, take, rider, memori\",\"+++ new, run, look, drive, time, also<br>--- right, see, distribut, goal, player, final, win, last, shot, divis\",\"+++ also, want, could, time<br>--- right, see, greek, nazi, distribut, look, attack, kill, palestinian, data\",\"+++ time<br>--- distribut, 145, look, player, 6um, win, g9v, last, hall, come\",\"+++ work, want, need, distribut, comput, help, system, run, repli, look<br>--- right, see, dealer, realli, anyon, uiuc, data, memori, buy, pleas\",\"+++ work, want, need, new, program, system, could, support, also, time<br>--- right, space, distribut, hous, look, american, gun, data, drug, take\",\"+++ work, want, new, system, look, could, time, problem, also<br>--- right, see, distribut, differ, caltech, realli, kill, gun, data, take\",\"+++ work, need, mail, new, distribut, help, program, comput, system, repli<br>--- version, state, space, includ, mac, good, think, pat, peopl, mit\",\"+++ version, work, mac, distribut, includ, repli, scsi, look, avail, thank<br>--- \"]],\"z\":[[0.0,0.845752254390128,0.7884519661523146,0.9102937878448082,0.845752254390128,0.8724489795918368,0.8592540464461645,0.8979591836734693,0.8853473973859206,0.9681122448979592,0.8319327731092436,0.8177842565597667,0.8592540464461645,0.7884519661523146,0.8724489795918368],[0.845752254390128,0.0,0.7732426303854876,0.8853473973859206,0.8319327731092436,0.8853473973859206,0.8592540464461645,0.9102937878448082,0.9102937878448082,0.9681122448979592,0.6552675124103695,0.845752254390128,0.8032948119006639,0.7252747252747253,0.6911922663802363],[0.7884519661523146,0.7732426303854876,0.0,0.8319327731092436,0.8724489795918368,0.7732426303854876,0.8592540464461645,0.8177842565597667,0.8032948119006639,0.9570354457572503,0.6552675124103695,0.7884519661523146,0.7084548104956268,0.7884519661523146,0.8319327731092436],[0.9102937878448082,0.8853473973859206,0.8319327731092436,0.0,0.9570354457572503,0.7732426303854876,0.9102937878448082,0.9102937878448082,0.8032948119006639,0.9570354457572503,0.8319327731092436,0.8319327731092436,0.6911922663802363,0.922360248447205,0.9681122448979592],[0.845752254390128,0.8319327731092436,0.8724489795918368,0.9570354457572503,0.0,0.8979591836734693,0.922360248447205,0.9570354457572503,0.9457229700390795,1.0,0.8853473973859206,0.8724489795918368,0.922360248447205,0.845752254390128,0.7576530612244897],[0.8724489795918368,0.8853473973859206,0.7732426303854876,0.7732426303854876,0.8979591836734693,0.0,0.8724489795918368,0.8592540464461645,0.7884519661523146,0.9570354457572503,0.8032948119006639,0.7576530612244897,0.7252747252747253,0.8853473973859206,0.922360248447205],[0.8592540464461645,0.8592540464461645,0.8592540464461645,0.9102937878448082,0.922360248447205,0.8724489795918368,0.0,0.8979591836734693,0.8724489795918368,0.9457229700390795,0.8319327731092436,0.845752254390128,0.845752254390128,0.8592540464461645,0.8979591836734693],[0.8979591836734693,0.9102937878448082,0.8177842565597667,0.9102937878448082,0.9570354457572503,0.8592540464461645,0.8979591836734693,0.0,0.8853473973859206,0.8592540464461645,0.845752254390128,0.8724489795918368,0.845752254390128,0.934167215273206,0.9457229700390795],[0.8853473973859206,0.9102937878448082,0.8032948119006639,0.8032948119006639,0.9457229700390795,0.7884519661523146,0.8724489795918368,0.8853473973859206,0.0,0.9570354457572503,0.8032948119006639,0.7884519661523146,0.7884519661523146,0.922360248447205,0.9681122448979592],[0.9681122448979592,0.9681122448979592,0.9570354457572503,0.9570354457572503,1.0,0.9570354457572503,0.9457229700390795,0.8592540464461645,0.9570354457572503,0.0,0.9457229700390795,0.9570354457572503,0.9570354457572503,0.9895876718034152,1.0],[0.8319327731092436,0.6552675124103695,0.6552675124103695,0.8319327731092436,0.8853473973859206,0.8032948119006639,0.8319327731092436,0.845752254390128,0.8032948119006639,0.9457229700390795,0.0,0.7732426303854876,0.7084548104956268,0.8032948119006639,0.845752254390128],[0.8177842565597667,0.845752254390128,0.7884519661523146,0.8319327731092436,0.8724489795918368,0.7576530612244897,0.845752254390128,0.8724489795918368,0.7884519661523146,0.9570354457572503,0.7732426303854876,0.0,0.7252747252747253,0.845752254390128,0.8979591836734693],[0.8592540464461645,0.8032948119006639,0.7084548104956268,0.6911922663802363,0.922360248447205,0.7252747252747253,0.845752254390128,0.845752254390128,0.7884519661523146,0.9570354457572503,0.7084548104956268,0.7252747252747253,0.0,0.845752254390128,0.9102937878448082],[0.7884519661523146,0.7252747252747253,0.7884519661523146,0.922360248447205,0.845752254390128,0.8853473973859206,0.8592540464461645,0.934167215273206,0.922360248447205,0.9895876718034152,0.8032948119006639,0.845752254390128,0.845752254390128,0.0,0.7884519661523146],[0.8724489795918368,0.6911922663802363,0.8319327731092436,0.9681122448979592,0.7576530612244897,0.922360248447205,0.8979591836734693,0.9457229700390795,0.9681122448979592,1.0,0.845752254390128,0.8979591836734693,0.9102937878448082,0.7884519661523146,0.0]],\"type\":\"heatmap\"}],                        {\"height\":950,\"template\":{\"data\":{\"barpolar\":[{\"marker\":{\"line\":{\"color\":\"#E5ECF6\",\"width\":0.5},\"pattern\":{\"fillmode\":\"overlay\",\"size\":10,\"solidity\":0.2}},\"type\":\"barpolar\"}],\"bar\":[{\"error_x\":{\"color\":\"#2a3f5f\"},\"error_y\":{\"color\":\"#2a3f5f\"},\"marker\":{\"line\":{\"color\":\"#E5ECF6\",\"width\":0.5},\"pattern\":{\"fillmode\":\"overlay\",\"size\":10,\"solidity\":0.2}},\"type\":\"bar\"}],\"carpet\":[{\"aaxis\":{\"endlinecolor\":\"#2a3f5f\",\"gridcolor\":\"white\",\"linecolor\":\"white\",\"minorgridcolor\":\"white\",\"startlinecolor\":\"#2a3f5f\"},\"baxis\":{\"endlinecolor\":\"#2a3f5f\",\"gridcolor\":\"white\",\"linecolor\":\"white\",\"minorgridcolor\":\"white\",\"startlinecolor\":\"#2a3f5f\"},\"type\":\"carpet\"}],\"choropleth\":[{\"colorbar\":{\"outlinewidth\":0,\"ticks\":\"\"},\"type\":\"choropleth\"}],\"contourcarpet\":[{\"colorbar\":{\"outlinewidth\":0,\"ticks\":\"\"},\"type\":\"contourcarpet\"}],\"contour\":[{\"colorbar\":{\"outlinewidth\":0,\"ticks\":\"\"},\"colorscale\":[[0.0,\"#0d0887\"],[0.1111111111111111,\"#46039f\"],[0.2222222222222222,\"#7201a8\"],[0.3333333333333333,\"#9c179e\"],[0.4444444444444444,\"#bd3786\"],[0.5555555555555556,\"#d8576b\"],[0.6666666666666666,\"#ed7953\"],[0.7777777777777778,\"#fb9f3a\"],[0.8888888888888888,\"#fdca26\"],[1.0,\"#f0f921\"]],\"type\":\"contour\"}],\"heatmapgl\":[{\"colorbar\":{\"outlinewidth\":0,\"ticks\":\"\"},\"colorscale\":[[0.0,\"#0d0887\"],[0.1111111111111111,\"#46039f\"],[0.2222222222222222,\"#7201a8\"],[0.3333333333333333,\"#9c179e\"],[0.4444444444444444,\"#bd3786\"],[0.5555555555555556,\"#d8576b\"],[0.6666666666666666,\"#ed7953\"],[0.7777777777777778,\"#fb9f3a\"],[0.8888888888888888,\"#fdca26\"],[1.0,\"#f0f921\"]],\"type\":\"heatmapgl\"}],\"heatmap\":[{\"colorbar\":{\"outlinewidth\":0,\"ticks\":\"\"},\"colorscale\":[[0.0,\"#0d0887\"],[0.1111111111111111,\"#46039f\"],[0.2222222222222222,\"#7201a8\"],[0.3333333333333333,\"#9c179e\"],[0.4444444444444444,\"#bd3786\"],[0.5555555555555556,\"#d8576b\"],[0.6666666666666666,\"#ed7953\"],[0.7777777777777778,\"#fb9f3a\"],[0.8888888888888888,\"#fdca26\"],[1.0,\"#f0f921\"]],\"type\":\"heatmap\"}],\"histogram2dcontour\":[{\"colorbar\":{\"outlinewidth\":0,\"ticks\":\"\"},\"colorscale\":[[0.0,\"#0d0887\"],[0.1111111111111111,\"#46039f\"],[0.2222222222222222,\"#7201a8\"],[0.3333333333333333,\"#9c179e\"],[0.4444444444444444,\"#bd3786\"],[0.5555555555555556,\"#d8576b\"],[0.6666666666666666,\"#ed7953\"],[0.7777777777777778,\"#fb9f3a\"],[0.8888888888888888,\"#fdca26\"],[1.0,\"#f0f921\"]],\"type\":\"histogram2dcontour\"}],\"histogram2d\":[{\"colorbar\":{\"outlinewidth\":0,\"ticks\":\"\"},\"colorscale\":[[0.0,\"#0d0887\"],[0.1111111111111111,\"#46039f\"],[0.2222222222222222,\"#7201a8\"],[0.3333333333333333,\"#9c179e\"],[0.4444444444444444,\"#bd3786\"],[0.5555555555555556,\"#d8576b\"],[0.6666666666666666,\"#ed7953\"],[0.7777777777777778,\"#fb9f3a\"],[0.8888888888888888,\"#fdca26\"],[1.0,\"#f0f921\"]],\"type\":\"histogram2d\"}],\"histogram\":[{\"marker\":{\"pattern\":{\"fillmode\":\"overlay\",\"size\":10,\"solidity\":0.2}},\"type\":\"histogram\"}],\"mesh3d\":[{\"colorbar\":{\"outlinewidth\":0,\"ticks\":\"\"},\"type\":\"mesh3d\"}],\"parcoords\":[{\"line\":{\"colorbar\":{\"outlinewidth\":0,\"ticks\":\"\"}},\"type\":\"parcoords\"}],\"pie\":[{\"automargin\":true,\"type\":\"pie\"}],\"scatter3d\":[{\"line\":{\"colorbar\":{\"outlinewidth\":0,\"ticks\":\"\"}},\"marker\":{\"colorbar\":{\"outlinewidth\":0,\"ticks\":\"\"}},\"type\":\"scatter3d\"}],\"scattercarpet\":[{\"marker\":{\"colorbar\":{\"outlinewidth\":0,\"ticks\":\"\"}},\"type\":\"scattercarpet\"}],\"scattergeo\":[{\"marker\":{\"colorbar\":{\"outlinewidth\":0,\"ticks\":\"\"}},\"type\":\"scattergeo\"}],\"scattergl\":[{\"marker\":{\"colorbar\":{\"outlinewidth\":0,\"ticks\":\"\"}},\"type\":\"scattergl\"}],\"scattermapbox\":[{\"marker\":{\"colorbar\":{\"outlinewidth\":0,\"ticks\":\"\"}},\"type\":\"scattermapbox\"}],\"scatterpolargl\":[{\"marker\":{\"colorbar\":{\"outlinewidth\":0,\"ticks\":\"\"}},\"type\":\"scatterpolargl\"}],\"scatterpolar\":[{\"marker\":{\"colorbar\":{\"outlinewidth\":0,\"ticks\":\"\"}},\"type\":\"scatterpolar\"}],\"scatter\":[{\"fillpattern\":{\"fillmode\":\"overlay\",\"size\":10,\"solidity\":0.2},\"type\":\"scatter\"}],\"scatterternary\":[{\"marker\":{\"colorbar\":{\"outlinewidth\":0,\"ticks\":\"\"}},\"type\":\"scatterternary\"}],\"surface\":[{\"colorbar\":{\"outlinewidth\":0,\"ticks\":\"\"},\"colorscale\":[[0.0,\"#0d0887\"],[0.1111111111111111,\"#46039f\"],[0.2222222222222222,\"#7201a8\"],[0.3333333333333333,\"#9c179e\"],[0.4444444444444444,\"#bd3786\"],[0.5555555555555556,\"#d8576b\"],[0.6666666666666666,\"#ed7953\"],[0.7777777777777778,\"#fb9f3a\"],[0.8888888888888888,\"#fdca26\"],[1.0,\"#f0f921\"]],\"type\":\"surface\"}],\"table\":[{\"cells\":{\"fill\":{\"color\":\"#EBF0F8\"},\"line\":{\"color\":\"white\"}},\"header\":{\"fill\":{\"color\":\"#C8D4E3\"},\"line\":{\"color\":\"white\"}},\"type\":\"table\"}]},\"layout\":{\"annotationdefaults\":{\"arrowcolor\":\"#2a3f5f\",\"arrowhead\":0,\"arrowwidth\":1},\"autotypenumbers\":\"strict\",\"coloraxis\":{\"colorbar\":{\"outlinewidth\":0,\"ticks\":\"\"}},\"colorscale\":{\"diverging\":[[0,\"#8e0152\"],[0.1,\"#c51b7d\"],[0.2,\"#de77ae\"],[0.3,\"#f1b6da\"],[0.4,\"#fde0ef\"],[0.5,\"#f7f7f7\"],[0.6,\"#e6f5d0\"],[0.7,\"#b8e186\"],[0.8,\"#7fbc41\"],[0.9,\"#4d9221\"],[1,\"#276419\"]],\"sequential\":[[0.0,\"#0d0887\"],[0.1111111111111111,\"#46039f\"],[0.2222222222222222,\"#7201a8\"],[0.3333333333333333,\"#9c179e\"],[0.4444444444444444,\"#bd3786\"],[0.5555555555555556,\"#d8576b\"],[0.6666666666666666,\"#ed7953\"],[0.7777777777777778,\"#fb9f3a\"],[0.8888888888888888,\"#fdca26\"],[1.0,\"#f0f921\"]],\"sequentialminus\":[[0.0,\"#0d0887\"],[0.1111111111111111,\"#46039f\"],[0.2222222222222222,\"#7201a8\"],[0.3333333333333333,\"#9c179e\"],[0.4444444444444444,\"#bd3786\"],[0.5555555555555556,\"#d8576b\"],[0.6666666666666666,\"#ed7953\"],[0.7777777777777778,\"#fb9f3a\"],[0.8888888888888888,\"#fdca26\"],[1.0,\"#f0f921\"]]},\"colorway\":[\"#636efa\",\"#EF553B\",\"#00cc96\",\"#ab63fa\",\"#FFA15A\",\"#19d3f3\",\"#FF6692\",\"#B6E880\",\"#FF97FF\",\"#FECB52\"],\"font\":{\"color\":\"#2a3f5f\"},\"geo\":{\"bgcolor\":\"white\",\"lakecolor\":\"white\",\"landcolor\":\"#E5ECF6\",\"showlakes\":true,\"showland\":true,\"subunitcolor\":\"white\"},\"hoverlabel\":{\"align\":\"left\"},\"hovermode\":\"closest\",\"mapbox\":{\"style\":\"light\"},\"paper_bgcolor\":\"white\",\"plot_bgcolor\":\"#E5ECF6\",\"polar\":{\"angularaxis\":{\"gridcolor\":\"white\",\"linecolor\":\"white\",\"ticks\":\"\"},\"bgcolor\":\"#E5ECF6\",\"radialaxis\":{\"gridcolor\":\"white\",\"linecolor\":\"white\",\"ticks\":\"\"}},\"scene\":{\"xaxis\":{\"backgroundcolor\":\"#E5ECF6\",\"gridcolor\":\"white\",\"gridwidth\":2,\"linecolor\":\"white\",\"showbackground\":true,\"ticks\":\"\",\"zerolinecolor\":\"white\"},\"yaxis\":{\"backgroundcolor\":\"#E5ECF6\",\"gridcolor\":\"white\",\"gridwidth\":2,\"linecolor\":\"white\",\"showbackground\":true,\"ticks\":\"\",\"zerolinecolor\":\"white\"},\"zaxis\":{\"backgroundcolor\":\"#E5ECF6\",\"gridcolor\":\"white\",\"gridwidth\":2,\"linecolor\":\"white\",\"showbackground\":true,\"ticks\":\"\",\"zerolinecolor\":\"white\"}},\"shapedefaults\":{\"line\":{\"color\":\"#2a3f5f\"}},\"ternary\":{\"aaxis\":{\"gridcolor\":\"white\",\"linecolor\":\"white\",\"ticks\":\"\"},\"baxis\":{\"gridcolor\":\"white\",\"linecolor\":\"white\",\"ticks\":\"\"},\"bgcolor\":\"#E5ECF6\",\"caxis\":{\"gridcolor\":\"white\",\"linecolor\":\"white\",\"ticks\":\"\"}},\"title\":{\"x\":0.05},\"xaxis\":{\"automargin\":true,\"gridcolor\":\"white\",\"linecolor\":\"white\",\"ticks\":\"\",\"title\":{\"standoff\":15},\"zerolinecolor\":\"white\",\"zerolinewidth\":2},\"yaxis\":{\"automargin\":true,\"gridcolor\":\"white\",\"linecolor\":\"white\",\"ticks\":\"\",\"title\":{\"standoff\":15},\"zerolinecolor\":\"white\",\"zerolinewidth\":2}}},\"title\":{\"text\":\"Topic difference (one model) [jaccard distance]\"},\"width\":950,\"xaxis\":{\"title\":{\"text\":\"topic\"}},\"yaxis\":{\"title\":{\"text\":\"topic\"}}},                        {\"responsive\": true}                    ).then(function(){\n",
       "                            \n",
       "var gd = document.getElementById('66697f02-784c-4ebc-b4ed-77fe758076b2');\n",
       "var x = new MutationObserver(function (mutations, observer) {{\n",
       "        var display = window.getComputedStyle(gd).display;\n",
       "        if (!display || display === 'none') {{\n",
       "            console.log([gd, 'removed!']);\n",
       "            Plotly.purge(gd);\n",
       "            observer.disconnect();\n",
       "        }}\n",
       "}});\n",
       "\n",
       "// Listen for the removal of the full notebook cells\n",
       "var notebookContainer = gd.closest('#notebook-container');\n",
       "if (notebookContainer) {{\n",
       "    x.observe(notebookContainer, {childList: true});\n",
       "}}\n",
       "\n",
       "// Listen for the clearing of the current output cell\n",
       "var outputEl = gd.closest('.output');\n",
       "if (outputEl) {{\n",
       "    x.observe(outputEl, {childList: true});\n",
       "}}\n",
       "\n",
       "                        })                };                });            </script>        </div>"
      ]
     },
     "metadata": {},
     "output_type": "display_data"
    }
   ],
   "source": [
    "plot_difference(mdiff, title=\"Topic difference (one model) [jaccard distance]\", annotation=annotation)"
   ]
  },
  {
   "cell_type": "markdown",
   "metadata": {},
   "source": [
    "If you compare a model with itself, you want to see as many red elements as\n",
    "possible (except on the diagonal). With this picture, you can look at the\n",
    "\"not very red elements\" and understand which topics in the model are very\n",
    "similar and why (you can read annotation if you move your pointer to cell).\n",
    "\n",
    "Jaccard is a stable and robust distance function, but sometimes not sensitive\n",
    "enough. Let's try to use the Hellinger distance instead.\n",
    "\n",
    "\n"
   ]
  },
  {
   "cell_type": "code",
   "execution_count": 28,
   "metadata": {
    "collapsed": false,
    "jupyter": {
     "outputs_hidden": false
    }
   },
   "outputs": [
    {
     "data": {
      "application/vnd.plotly.v1+json": {
       "config": {
        "linkText": "Export to plot.ly",
        "plotlyServerURL": "https://plot.ly",
        "showLink": false
       },
       "data": [
        {
         "colorscale": [
          [
           0,
           "rgb(103,0,31)"
          ],
          [
           0.1,
           "rgb(178,24,43)"
          ],
          [
           0.2,
           "rgb(214,96,77)"
          ],
          [
           0.3,
           "rgb(244,165,130)"
          ],
          [
           0.4,
           "rgb(253,219,199)"
          ],
          [
           0.5,
           "rgb(247,247,247)"
          ],
          [
           0.6,
           "rgb(209,229,240)"
          ],
          [
           0.7,
           "rgb(146,197,222)"
          ],
          [
           0.8,
           "rgb(67,147,195)"
          ],
          [
           0.9,
           "rgb(33,102,172)"
          ],
          [
           1,
           "rgb(5,48,97)"
          ]
         ],
         "text": [
          [
           "+++ state, space, distribut, includ, good, think, repli, group, duke, look<br>--- ",
           "+++ new, distribut, comput, good, think, system, make, repli, world, look<br>--- space, duke, mil, american, anyon, 1993, gun, memori, pleas, buy",
           "+++ mail, state, new, distribut, comput, good, think, two, make, repli<br>--- michael, see, space, bank, duke, realli, american, anyon, 1993, gun",
           "+++ good, think, make, world, could, time, may, said, also<br>--- bibl, see, life, jesu, space, distribut, duke, look, differ, american",
           "+++ inform, mail, includ, distribut, new, comput, system, make, provid, file<br>--- user, space, phone, duke, look, american, 1993, gun, data, rochest",
           "+++ two, think, said, make, file, look, could, year, may, first<br>--- right, see, space, distribut, colorado, duke, american, 1993, come, gun",
           "+++ 1993, state, new, distribut, research, good, think, system, world, year<br>--- right, 000, space, duke, look, drink, american, gun, left, take",
           "+++ new, two, good, think, make, look, year, time, first, also<br>--- right, see, space, distribut, duke, goal, player, final, american, win",
           "+++ state, two, think, said, make, world, could, year, first, also<br>--- right, see, greek, nazi, space, distribut, duke, look, attack, american",
           "+++ year, good, think, time<br>--- space, distribut, 145, duke, look, player, 6um, win, g9v, american",
           "+++ distribut, comput, good, think, system, make, repli, world, look, could<br>--- right, see, space, dealer, duke, realli, american, anyon, 1993, gun",
           "+++ american, state, space, new, good, think, gun, system, said, make<br>--- right, distribut, hous, duke, look, 1993, drug, take, rochest, money",
           "+++ new, good, gun, think, system, make, look, could, year, may<br>--- right, see, space, distribut, duke, differ, caltech, realli, american, kill",
           "+++ mail, state, space, distribut, research, good, think, john, system, repli<br>--- pat, duke, peopl, mit, chang, thank, problem, institut, american, satellit",
           "+++ mail, includ, distribut, new, comput, system, repli, look, file, could<br>--- space, duke, american, 1993, gun, data, memori, pleas, rochest, appl"
          ],
          [
           "+++ new, distribut, comput, good, think, system, make, repli, world, look<br>--- space, duke, mil, american, 1993, anyon, gun, memori, pleas, buy",
           "+++ version, work, distribut, good, think, repli, look, mil, thank, problem<br>--- ",
           "+++ work, distribut, good, think, repli, look, anyon, well, pleas, want<br>--- michael, version, see, bank, peopl, mil, thank, problem, realli, even",
           "+++ seem, want, good, think, thing, make, world, read, well, also<br>--- bibl, see, life, jesu, distribut, look, mil, differ, anyon, come",
           "+++ work, want, need, new, distribut, comput, program, system, make, call<br>--- user, phone, look, mil, anyon, data, memori, pleas, buy, seem",
           "+++ want, need, program, think, thing, make, file, look, time, well<br>--- right, see, distribut, colorado, mil, anyon, come, output, take, memori",
           "+++ new, distribut, well, good, think, gov, system, call, help, world<br>--- right, 000, look, mil, drink, 1993, anyon, left, take, rider",
           "+++ new, good, think, run, make, look, time, well, also<br>--- right, see, distribut, goal, player, final, mil, win, last, anyon",
           "+++ want, think, make, call, world, time, well, also, tri<br>--- right, see, greek, nazi, distribut, look, mil, attack, kill, anyon",
           "+++ well, good, think, time<br>--- distribut, 145, look, mil, player, 6um, win, g9v, last, hall",
           "+++ work, distribut, good, think, repli, look, thank, anyon, call, world<br>--- right, version, see, better, dealer, peopl, news, mil, problem, engin",
           "+++ work, want, need, new, good, think, system, thing, program, make<br>--- right, space, distribut, hous, look, mil, american, anyon, gun, drug",
           "+++ seem, work, want, new, well, good, think, system, thing, make<br>--- right, see, distribut, mil, differ, caltech, realli, kill, anyon, gun",
           "+++ work, distribut, good, think, repli, look, thank, problem, anyon, file<br>--- version, state, space, pat, peopl, mit, chang, virginia, net, first",
           "+++ version, work, distribut, repli, look, thank, problem, file, card, window<br>--- much, mac, includ, good, think, avail, mil, screen, mail, anyon"
          ],
          [
           "+++ mail, state, new, distribut, comput, good, think, two, make, repli<br>--- michael, see, space, bank, duke, american, realli, 1993, anyon, gun",
           "+++ work, distribut, good, think, repli, look, anyon, well, pleas, want<br>--- version, michael, see, andrew, state, bank, peopl, mil, thank, problem",
           "+++ michael, see, work, state, distribut, good, think, bank, repli, look<br>--- ",
           "+++ see, want, say, way, well, good, even, think, thing, make<br>--- michael, bibl, life, jesu, distribut, bank, look, differ, realli, anyon",
           "+++ work, want, need, mail, new, distribut, comput, make, run, time<br>--- michael, user, see, phone, bank, look, realli, anyon, data, pleas",
           "+++ see, think, peopl, look, even, could, may, well, want, thing<br>--- right, michael, someth, colorado, distribut, good, bank, repli, realli, anyon",
           "+++ state, way, distribut, new, good, think, even, bike, year, time<br>--- right, michael, see, 000, bank, look, drink, realli, 1993, anyon",
           "+++ see, back, new, two, good, think, even, pittsburgh, run, make<br>--- right, michael, distribut, bank, goal, player, final, realli, win, last",
           "+++ see, want, say, state, way, two, even, think, make, org<br>--- right, michael, greek, nazi, distribut, armenian, good, arm, bank, repli",
           "+++ good, think, year, time, well<br>--- michael, see, distribut, 145, bank, look, player, 6um, win, g9v",
           "+++ see, work, distribut, good, think, repli, look, peopl, engin, realli<br>--- right, michael, andrew, better, state, bank, dealer, news, thank, dod",
           "+++ work, want, need, say, state, way, new, good, think, even<br>--- right, michael, see, space, distribut, hous, bank, repli, look, american",
           "+++ see, work, good, think, peopl, look, realli, even, could, may<br>--- right, michael, andrew, state, argument, someth, distribut, bank, repli, evid",
           "+++ work, need, anyon, state, mail, distribut, new, good, think, comput<br>--- michael, see, space, pat, bank, mit, chang, thank, problem, realli",
           "+++ work, want, need, mail, new, distribut, comput, run, repli, look<br>--- michael, see, bank, realli, anyon, data, memori, appl, pittsburgh, speed"
          ],
          [
           "+++ good, think, make, world, could, time, may, said, also<br>--- bibl, see, life, jesu, space, distribut, duke, look, differ, american",
           "+++ seem, want, good, think, thing, make, world, read, well, also<br>--- bibl, see, life, jesu, distribut, look, mil, differ, anyon, come",
           "+++ see, want, say, way, good, even, think, thing, make, peopl<br>--- michael, bibl, life, jesu, distribut, bank, look, differ, realli, anyon",
           "+++ must, bibl, see, life, faith, church, jesu, book, good, think<br>--- ",
           "+++ want, make, time, may, also<br>--- bibl, user, see, life, jesu, distribut, phone, differ, come, data",
           "+++ must, see, think, peopl, come, even, could, may, well, want<br>--- right, bibl, life, faith, church, jesu, book, someth, colorado, good",
           "+++ way, good, even, think, world, day, time, well, also<br>--- right, bibl, see, life, 000, jesu, distribut, differ, drink, 1993",
           "+++ see, point, good, think, even, make, time, well, also<br>--- right, bibl, life, jesu, look, goal, player, final, differ, win",
           "+++ see, want, say, way, live, even, think, make, mani, question<br>--- right, bibl, life, greek, jesu, nazi, attack, differ, kill, come",
           "+++ come, good, think, time, well<br>--- bibl, see, life, jesu, 145, player, differ, 6um, win, g9v",
           "+++ see, want, say, way, good, even, think, thing, make, world<br>--- right, bibl, life, jesu, distribut, dealer, look, differ, realli, anyon",
           "+++ want, say, way, point, good, think, even, thing, make, peopl<br>--- right, bibl, see, life, jesu, space, hous, differ, american, come",
           "+++ see, good, think, peopl, differ, point, even, person, mani, could<br>--- right, must, life, bibl, faith, work, church, jesu, argument, someth",
           "+++ point, good, think, question, peopl, could, may, also<br>--- bibl, see, life, jesu, space, distribut, pat, look, mit, differ",
           "+++ could, want, also, time<br>--- bibl, see, life, jesu, distribut, look, differ, come, data, word"
          ],
          [
           "+++ inform, mail, includ, distribut, new, comput, system, make, provid, file<br>--- user, space, phone, duke, look, american, 1993, gun, data, rochest",
           "+++ work, want, need, new, distribut, comput, program, system, run, call<br>--- user, phone, look, mil, anyon, data, memori, pleas, buy, seem",
           "+++ work, want, need, mail, new, distribut, comput, make, run, time<br>--- michael, see, user, phone, bank, look, realli, anyon, data, pleas",
           "+++ want, make, time, may, also<br>--- bibl, see, life, user, jesu, distribut, phone, differ, come, data",
           "+++ user, work, includ, distribut, server, phone, avail, applic, algorithm, gener<br>--- ",
           "+++ need, want, number, law, program, make, file, time, may, also<br>--- right, see, user, distribut, colorado, phone, look, come, output, data",
           "+++ number, new, distribut, bit, system, call, time, also<br>--- right, user, 000, phone, drink, 1993, data, left, take, rider",
           "+++ new, run, make, time, also<br>--- right, see, user, distribut, phone, look, goal, player, final, win",
           "+++ want, govern, make, call, time, also<br>--- right, see, greek, user, nazi, distribut, phone, attack, kill, palestinian",
           "+++ time<br>--- user, distribut, 145, phone, player, 6um, win, g9v, last, hall",
           "+++ work, want, need, distribut, comput, system, make, call, run, time<br>--- right, see, user, phone, dealer, look, realli, anyon, uiuc, data",
           "+++ public, work, want, need, govern, new, law, program, system, make<br>--- right, user, space, distribut, phone, hous, american, gun, data, drug",
           "+++ work, want, new, system, make, time, may, also<br>--- right, see, user, distribut, phone, look, differ, caltech, realli, kill",
           "+++ technolog, work, need, mail, new, distribut, comput, program, system, file<br>--- user, space, phone, pat, look, mit, anyon, data, alaska, find",
           "+++ work, includ, distribut, avail, mail, bit, data, file, window, want<br>--- version, user, mac, server, phone, repli, look, applic, thank, problem"
          ],
          [
           "+++ two, think, said, make, file, look, could, year, may, first<br>--- right, see, space, distribut, colorado, duke, american, 1993, come, gun",
           "+++ want, need, program, think, thing, make, file, look, time, well<br>--- right, see, distribut, colorado, mil, anyon, come, output, take, memori",
           "+++ see, think, look, peopl, even, could, may, well, want, thing<br>--- michael, right, distribut, someth, good, colorado, bank, repli, realli, anyon",
           "+++ must, see, think, peopl, come, even, could, well, may, want<br>--- bibl, life, faith, church, right, jesu, book, someth, colorado, good",
           "+++ need, want, number, law, program, make, file, time, may, also<br>--- right, user, see, distribut, colorado, phone, look, come, data, output",
           "+++ right, must, see, someth, colorado, think, ground, also, peopl, look<br>--- ",
           "+++ right, number, way, even, think, year, day, well, take, first<br>--- see, 000, distribut, colorado, look, drink, 1993, come, output, left",
           "+++ right, see, back, two, think, even, make, look, year, time<br>--- colorado, goal, player, final, win, last, shot, come, divis, output",
           "+++ right, see, want, say, way, two, think, even, make, question<br>--- greek, nazi, colorado, look, attack, kill, come, palestinian, output, take",
           "+++ come, think, year, time, well<br>--- right, see, colorado, 145, look, player, 6um, win, g9v, last",
           "+++ right, see, want, need, say, way, think, even, thing, make<br>--- distribut, colorado, dealer, realli, anyon, come, uiuc, output, take, buy",
           "+++ right, think, peopl, first, even, could, well, take, want, thing<br>--- must, see, work, state, space, talk, someth, good, tell, colorado",
           "+++ right, see, someth, think, peopl, look, even, could, may, well<br>--- must, work, argument, colorado, good, tell, ground, evid, rule, problem",
           "+++ need, program, think, question, file, peopl, look, could, may, first<br>--- right, see, space, distribut, colorado, pat, mit, anyon, come, output",
           "+++ want, need, program, file, look, could, time, also<br>--- right, see, distribut, colorado, come, data, output, take, memori, pleas"
          ],
          [
           "+++ 1993, state, new, distribut, research, good, think, system, world, year<br>--- right, 000, space, duke, look, american, drink, gun, left, take",
           "+++ new, distribut, well, good, think, gov, system, call, help, world<br>--- right, 000, look, mil, drink, anyon, 1993, left, take, memori",
           "+++ state, way, distribut, new, good, think, even, bike, year, time<br>--- michael, right, see, 000, bank, look, realli, drink, anyon, 1993",
           "+++ way, good, even, think, world, day, time, well, also<br>--- right, bibl, see, life, 000, jesu, distribut, differ, drink, 1993",
           "+++ number, new, distribut, bit, system, call, time, also<br>--- right, user, 000, phone, drink, 1993, data, left, take, rider",
           "+++ right, number, way, even, think, year, day, well, take, first<br>--- see, 000, distribut, colorado, look, drink, 1993, come, output, left",
           "+++ right, 000, diseas, state, distribut, good, think, air, april, problem<br>--- ",
           "+++ right, new, good, think, even, year, time, well, first, also<br>--- see, 000, distribut, look, goal, player, final, drink, win, last",
           "+++ right, state, way, even, think, call, world, year, time, well<br>--- see, greek, 000, nazi, distribut, attack, drink, kill, 1993, palestinian",
           "+++ good, think, chz, year, time, well<br>--- right, 000, distribut, 145, player, 6um, win, g9v, drink, last",
           "+++ right, way, distribut, gov, good, even, think, system, call, help<br>--- see, 000, dealer, look, realli, drink, anyon, 1993, uiuc, left",
           "+++ right, state, way, new, good, think, even, system, year, time<br>--- 000, space, distribut, hous, american, drink, 1993, gun, drug, left",
           "+++ right, caus, way, new, well, good, even, think, system, year<br>--- see, 000, distribut, look, differ, caltech, realli, drink, kill, 1993",
           "+++ state, research, distribut, gov, good, think, system, new, help, nasa<br>--- right, 000, space, pat, look, mit, drink, anyon, 1993, left",
           "+++ new, distribut, bit, ibm, help, system, time, problem, control, also<br>--- right, 000, look, drink, 1993, data, left, take, memori, rider"
          ],
          [
           "+++ new, two, good, think, make, look, year, time, first, also<br>--- right, see, space, distribut, duke, goal, player, final, american, win",
           "+++ new, good, think, run, make, look, time, well, also<br>--- right, see, distribut, mil, goal, player, final, win, last, anyon",
           "+++ see, back, new, two, good, even, think, pittsburgh, make, run<br>--- michael, right, distribut, bank, goal, player, final, realli, win, last",
           "+++ see, point, good, even, think, make, time, well, also<br>--- right, bibl, life, jesu, look, goal, player, final, differ, win",
           "+++ new, make, run, time, also<br>--- right, user, see, distribut, phone, look, goal, player, final, win",
           "+++ right, see, back, two, think, even, make, look, year, time<br>--- colorado, goal, player, final, win, last, come, shot, output, divis",
           "+++ right, new, good, even, think, year, time, well, first, also<br>--- see, 000, distribut, look, goal, player, final, drink, win, last",
           "+++ right, see, red, good, think, nhl, look, hard, goal, player<br>--- ",
           "+++ right, see, two, even, think, make, year, time, well, first<br>--- greek, nazi, look, goal, attack, player, final, win, kill, last",
           "+++ win, last, team, good, think, basebal, play, game, year, time<br>--- right, see, 145, look, goal, final, 6um, g9v, hall, come",
           "+++ right, see, got, good, think, even, make, run, power, look<br>--- distribut, dealer, goal, player, final, realli, win, last, anyon, shot",
           "+++ right, new, point, good, think, even, make, year, time, well<br>--- see, space, hous, look, goal, player, final, american, win, last",
           "+++ right, see, back, new, point, good, think, even, make, look<br>--- goal, player, final, differ, caltech, realli, win, kill, last, shot",
           "+++ new, point, good, think, look, first, also<br>--- right, see, space, distribut, pat, mit, goal, player, final, win",
           "+++ new, run, look, drive, time, also<br>--- right, see, distribut, goal, player, final, win, last, shot, data"
          ],
          [
           "+++ state, two, think, said, make, world, could, year, first, also<br>--- right, see, greek, space, distribut, nazi, duke, look, attack, american",
           "+++ want, think, make, call, world, time, well, also, tri<br>--- right, see, greek, nazi, distribut, look, mil, attack, kill, anyon",
           "+++ see, time, want, say, state, way, two, think, even, make<br>--- michael, right, greek, nazi, distribut, bank, look, attack, realli, kill",
           "+++ see, want, say, way, live, even, think, make, mani, question<br>--- right, bibl, life, greek, jesu, nazi, attack, differ, kill, come",
           "+++ want, govern, make, call, time, also<br>--- right, user, see, greek, nazi, distribut, phone, attack, kill, palestinian",
           "+++ right, see, want, say, way, two, think, even, make, question<br>--- greek, nazi, colorado, look, attack, kill, come, palestinian, output, take",
           "+++ right, state, way, even, think, call, world, year, time, well<br>--- see, greek, 000, nazi, distribut, attack, drink, kill, 1993, palestinian",
           "+++ right, see, two, think, even, make, year, time, well, first<br>--- greek, nazi, look, goal, player, final, attack, win, last, kill",
           "+++ right, see, greek, state, nazi, armenian, think, israel, arm, peopl<br>--- ",
           "+++ think, year, jewish, well, time<br>--- right, see, greek, nazi, 145, player, attack, 6um, win, g9v",
           "+++ right, see, want, say, way, even, think, make, call, world<br>--- greek, nazi, distribut, dealer, look, attack, realli, kill, anyon, palestinian",
           "+++ right, want, say, countri, state, govern, way, think, even, said<br>--- see, greek, space, nazi, hous, attack, american, kill, gun, palestinian",
           "+++ right, see, kill, want, say, way, think, even, make, mani<br>--- greek, nazi, look, attack, differ, caltech, realli, gun, palestinian, take",
           "+++ state, think, question, peopl, could, first, also, tri<br>--- right, see, greek, space, distribut, nazi, pat, look, mit, attack",
           "+++ could, want, also, time<br>--- right, see, greek, nazi, distribut, look, attack, kill, palestinian, data"
          ],
          [
           "+++ year, good, think, time<br>--- space, distribut, 145, duke, look, player, american, 6um, win, g9v",
           "+++ well, good, think, time<br>--- distribut, 145, look, mil, player, 6um, win, g9v, last, anyon",
           "+++ good, think, year, time, well<br>--- michael, see, distribut, 145, bank, look, player, realli, 6um, win",
           "+++ come, good, think, time, well<br>--- bibl, see, life, jesu, 145, player, differ, 6um, win, g9v",
           "+++ time<br>--- user, distribut, phone, 145, player, 6um, win, g9v, last, hall",
           "+++ come, think, year, time, well<br>--- right, see, colorado, 145, look, player, 6um, win, g9v, last",
           "+++ good, think, chz, year, time, well<br>--- right, 000, distribut, 145, player, drink, 6um, win, g9v, last",
           "+++ win, last, team, good, think, basebal, play, game, year, time<br>--- right, see, 145, look, goal, final, 6um, g9v, hall, shot",
           "+++ think, year, time, jewish, well<br>--- right, see, greek, nazi, 145, attack, player, 6um, win, g9v",
           "+++ 6ei, better, bxn, good, 145, think, a86, 7ez, rlk, player<br>--- ",
           "+++ better, good, think, year, time, well<br>--- right, see, distribut, 145, dealer, look, player, realli, 6um, win",
           "+++ good, think, year, time, well<br>--- right, space, 145, hous, player, american, 6um, win, g9v, last",
           "+++ good, think, year, time, well<br>--- right, see, 145, look, player, differ, caltech, realli, 6um, win",
           "+++ good, think<br>--- space, distribut, 145, pat, look, mit, player, 6um, win, g9v",
           "+++ time<br>--- distribut, 145, look, player, 6um, win, g9v, last, hall, come"
          ],
          [
           "+++ distribut, comput, good, think, system, make, repli, world, look, could<br>--- right, see, space, duke, dealer, american, realli, 1993, anyon, gun",
           "+++ work, distribut, good, think, repli, look, thank, anyon, call, world<br>--- version, right, see, better, dealer, peopl, mil, problem, news, engin",
           "+++ see, work, distribut, good, think, repli, look, peopl, engin, realli<br>--- michael, right, much, state, better, bank, dealer, news, thank, dod",
           "+++ see, want, say, way, good, even, think, thing, make, world<br>--- right, bibl, life, jesu, distribut, dealer, look, differ, realli, anyon",
           "+++ work, want, need, distribut, comput, system, make, call, run, time<br>--- right, user, see, phone, dealer, look, realli, anyon, uiuc, data",
           "+++ right, see, want, need, say, way, think, even, thing, make<br>--- distribut, colorado, dealer, realli, anyon, come, uiuc, output, take, buy",
           "+++ right, way, distribut, gov, good, even, think, system, call, help<br>--- see, 000, dealer, look, drink, realli, 1993, anyon, uiuc, left",
           "+++ right, see, got, good, think, even, run, make, power, look<br>--- distribut, dealer, goal, player, final, realli, win, last, anyon, shot",
           "+++ right, see, want, say, way, even, think, make, call, world<br>--- greek, nazi, distribut, dealer, look, attack, realli, kill, anyon, palestinian",
           "+++ better, good, think, year, time, well<br>--- right, see, distribut, 145, dealer, look, player, 6um, win, g9v",
           "+++ right, see, work, better, distribut, good, think, repli, dealer, look<br>--- ",
           "+++ right, work, good, think, peopl, even, could, well, want, system<br>--- see, space, distribut, hous, repli, dealer, look, thank, american, realli",
           "+++ right, see, work, good, think, peopl, look, realli, even, could<br>--- better, argument, someth, distribut, repli, dealer, evid, news, thank, problem",
           "+++ work, need, anyon, distribut, gov, good, think, system, help, repli<br>--- right, see, space, pat, dealer, mit, realli, uiuc, alaska, find",
           "+++ work, want, need, distribut, comput, help, system, run, repli, look<br>--- right, see, dealer, realli, anyon, uiuc, data, memori, pleas, buy"
          ],
          [
           "+++ american, state, space, new, good, think, gun, system, make, said<br>--- right, distribut, hous, duke, look, 1993, drug, take, rochest, money",
           "+++ work, want, need, new, good, think, system, thing, program, make<br>--- right, space, distribut, hous, look, mil, american, anyon, gun, drug",
           "+++ work, want, need, say, state, way, new, good, think, even<br>--- michael, right, see, space, distribut, bank, repli, hous, look, realli",
           "+++ want, say, way, point, good, even, think, thing, make, peopl<br>--- right, bibl, see, life, jesu, space, hous, differ, american, come",
           "+++ public, work, want, need, govern, new, law, program, system, make<br>--- right, user, space, distribut, phone, hous, american, gun, data, drug",
           "+++ right, think, peopl, first, even, could, well, take, want, thing<br>--- see, space, someth, colorado, good, hous, look, american, public, come",
           "+++ right, state, way, new, good, think, even, system, year, time<br>--- 000, space, distribut, hous, drink, american, 1993, gun, drug, left",
           "+++ right, new, point, good, think, even, make, year, time, well<br>--- see, space, hous, look, goal, player, final, american, win, last",
           "+++ right, want, say, countri, state, govern, way, think, even, make<br>--- see, greek, nazi, space, armenian, good, arm, hous, armenia, attack",
           "+++ good, think, year, time, well<br>--- right, space, 145, hous, player, 6um, win, g9v, american, last",
           "+++ right, work, good, think, peopl, even, could, well, want, system<br>--- see, space, distribut, repli, hous, dealer, look, thank, realli, american",
           "+++ right, work, state, space, talk, good, think, hous, peopl, first<br>--- ",
           "+++ right, work, good, think, peopl, point, even, gun, could, well<br>--- see, state, argument, someth, space, talk, hous, look, evid, problem",
           "+++ work, need, state, space, point, new, good, think, system, program<br>--- right, distribut, pat, hous, look, mit, american, anyon, gun, drug",
           "+++ work, want, need, new, support, program, system, could, time, also<br>--- right, space, distribut, hous, look, american, gun, data, drug, take"
          ],
          [
           "+++ new, good, gun, think, system, make, look, could, year, may<br>--- right, see, space, distribut, duke, differ, caltech, american, realli, kill",
           "+++ seem, work, want, new, well, good, think, system, thing, make<br>--- right, see, distribut, mil, differ, caltech, realli, kill, anyon, gun",
           "+++ see, work, good, think, look, peopl, realli, even, could, may<br>--- michael, right, much, state, argument, distribut, someth, bank, repli, evid",
           "+++ see, good, think, peopl, differ, point, even, person, mani, could<br>--- must, bibl, life, faith, church, right, jesu, work, much, book",
           "+++ work, want, new, system, make, time, may, also<br>--- right, user, see, distribut, phone, look, differ, caltech, realli, kill",
           "+++ right, see, someth, think, peopl, look, even, could, may, well<br>--- must, work, argument, colorado, good, ground, tell, evid, rule, problem",
           "+++ right, caus, way, new, well, good, even, think, system, year<br>--- see, 000, distribut, look, differ, caltech, drink, realli, kill, 1993",
           "+++ right, see, back, new, point, good, think, even, make, look<br>--- goal, player, final, differ, caltech, realli, win, last, kill, shot",
           "+++ right, see, kill, want, say, way, think, even, make, mani<br>--- greek, nazi, look, attack, differ, caltech, realli, gun, palestinian, take",
           "+++ good, think, year, time, well<br>--- right, see, 145, look, player, differ, caltech, 6um, win, g9v",
           "+++ right, see, work, good, think, look, peopl, realli, even, could<br>--- better, argument, distribut, someth, repli, dealer, evid, news, thank, problem",
           "+++ right, work, good, think, peopl, point, gun, even, could, well<br>--- see, state, space, talk, argument, someth, hous, look, evid, problem",
           "+++ right, see, work, argument, someth, good, think, peopl, look, evid<br>--- ",
           "+++ work, new, point, good, think, system, question, look, peopl, could<br>--- right, see, space, distribut, pat, mit, differ, caltech, realli, kill",
           "+++ work, want, new, system, look, could, time, problem, also<br>--- right, see, distribut, differ, caltech, realli, kill, gun, data, take"
          ],
          [
           "+++ mail, state, space, distribut, new, good, think, john, system, repli<br>--- pat, duke, peopl, mit, chang, thank, problem, institut, american, satellit",
           "+++ work, distribut, good, think, repli, look, thank, problem, anyon, file<br>--- version, state, space, pat, peopl, mit, mil, chang, virginia, net",
           "+++ work, need, anyon, state, mail, distribut, new, good, think, pleas<br>--- michael, see, space, pat, bank, mit, chang, thank, problem, realli",
           "+++ point, good, think, question, peopl, could, may, also<br>--- bibl, see, life, jesu, space, distribut, pat, look, mit, differ",
           "+++ technolog, work, need, mail, new, distribut, comput, program, system, file<br>--- user, space, phone, pat, look, mit, anyon, data, alaska, find",
           "+++ need, program, think, question, file, peopl, look, could, may, first<br>--- right, see, space, distribut, colorado, pat, mit, anyon, come, output",
           "+++ state, new, distribut, gov, good, think, system, research, help, nasa<br>--- right, 000, space, pat, look, mit, drink, 1993, anyon, left",
           "+++ new, point, good, think, look, first, also<br>--- right, see, space, distribut, pat, mit, goal, player, final, win",
           "+++ state, think, question, peopl, could, first, also, tri<br>--- right, see, greek, nazi, space, distribut, pat, look, mit, attack",
           "+++ good, think<br>--- space, distribut, 145, pat, look, mit, player, 6um, win, g9v",
           "+++ work, need, anyon, distribut, gov, good, think, system, comput, repli<br>--- right, see, space, pat, dealer, mit, realli, uiuc, alaska, find",
           "+++ work, need, state, space, point, new, good, think, system, program<br>--- right, distribut, pat, hous, look, mit, american, anyon, gun, drug",
           "+++ work, new, point, good, think, system, question, look, peopl, could<br>--- right, see, space, distribut, pat, mit, differ, caltech, realli, kill",
           "+++ work, state, space, distribut, good, think, pat, repli, peopl, mit<br>--- ",
           "+++ work, need, mail, new, distribut, comput, program, help, system, repli<br>--- space, pat, mit, anyon, data, alaska, memori, find, appl, speed"
          ],
          [
           "+++ mail, includ, distribut, new, comput, system, repli, look, file, could<br>--- space, duke, american, 1993, gun, data, memori, pleas, rochest, appl",
           "+++ version, work, distribut, repli, look, thank, problem, file, card, window<br>--- mac, includ, good, think, imag, avail, mil, screen, anyon, mail",
           "+++ work, want, need, mail, new, distribut, comput, run, repli, look<br>--- michael, see, bank, realli, anyon, data, memori, pittsburgh, appl, speed",
           "+++ also, want, could, time<br>--- bibl, see, life, jesu, distribut, look, differ, come, data, word",
           "+++ work, includ, distribut, avail, mail, bit, data, file, window, want<br>--- version, user, mac, server, phone, repli, look, applic, thank, problem",
           "+++ want, need, program, file, look, could, time, also<br>--- right, see, distribut, colorado, come, output, data, take, memori, pleas",
           "+++ new, distribut, bit, ibm, help, system, control, problem, also, time<br>--- right, 000, look, drink, 1993, data, left, take, rider, memori",
           "+++ new, run, look, drive, time, also<br>--- right, see, distribut, goal, player, final, win, last, shot, divis",
           "+++ also, want, could, time<br>--- right, see, greek, nazi, distribut, look, attack, kill, palestinian, data",
           "+++ time<br>--- distribut, 145, look, player, 6um, win, g9v, last, hall, come",
           "+++ work, want, need, distribut, comput, help, system, run, repli, look<br>--- right, see, dealer, realli, anyon, uiuc, data, memori, buy, pleas",
           "+++ work, want, need, new, program, system, could, support, also, time<br>--- right, space, distribut, hous, look, american, gun, data, drug, take",
           "+++ work, want, new, system, look, could, time, problem, also<br>--- right, see, distribut, differ, caltech, realli, kill, gun, data, take",
           "+++ work, need, mail, new, distribut, help, program, comput, system, repli<br>--- version, state, space, includ, mac, good, think, pat, peopl, mit",
           "+++ version, work, mac, distribut, includ, repli, scsi, look, avail, thank<br>--- "
          ]
         ],
         "type": "heatmap",
         "z": [
          [
           0,
           0.7799331347325715,
           0.743624804761332,
           0.7915192864108441,
           0.7085628314236602,
           0.7468602274386101,
           0.784189797726551,
           0.7950530431567722,
           0.791833587254951,
           0.9506681839712136,
           0.7225870258552453,
           0.7142200754062881,
           0.7434702325370185,
           0.7427707071208639,
           0.7811932617185283
          ],
          [
           0.7799331347325715,
           0,
           0.7226586102424215,
           0.8242193109326199,
           0.7113683961855635,
           0.7700667313670024,
           0.7649919542648848,
           0.8093184884961141,
           0.867242461050041,
           0.9573360248473438,
           0.70098219297048,
           0.8047577355635108,
           0.7559918365073935,
           0.7153175729779199,
           0.6383797613924975
          ],
          [
           0.743624804761332,
           0.7226586102424215,
           0,
           0.7302182719672604,
           0.7269580356347559,
           0.7105744287491039,
           0.7161185992581037,
           0.7754806713930146,
           0.7968218226027138,
           0.9484293626791335,
           0.6671864133314158,
           0.735207992482111,
           0.6661438098622374,
           0.7224076516169321,
           0.7450825000523692
          ],
          [
           0.7915192864108441,
           0.8242193109326199,
           0.7302182719672604,
           0,
           0.766952698293433,
           0.6475024342404503,
           0.8177134706622695,
           0.830825435332059,
           0.6843415399699566,
           0.949469669286265,
           0.7570537838029872,
           0.6935347260924206,
           0.5940615699589957,
           0.7979450150761176,
           0.8589305363012185
          ],
          [
           0.7085628314236602,
           0.7113683961855635,
           0.7269580356347559,
           0.766952698293433,
           0,
           0.694402349441731,
           0.7655439023255423,
           0.8523529373424472,
           0.7799133473415938,
           0.9833735163798288,
           0.7036034030457998,
           0.6936764972377151,
           0.7097242844726964,
           0.6885834650168452,
           0.6443791718242465
          ],
          [
           0.7468602274386101,
           0.7700667313670024,
           0.7105744287491039,
           0.6475024342404503,
           0.694402349441731,
           0,
           0.7713367321478694,
           0.7864259128436847,
           0.7133280830468129,
           0.9384604620110379,
           0.6966880279045161,
           0.6589887424258574,
           0.6281891411351933,
           0.7571722352904326,
           0.7924704486678907
          ],
          [
           0.784189797726551,
           0.7649919542648848,
           0.7161185992581037,
           0.8177134706622695,
           0.7655439023255423,
           0.7713367321478694,
           0,
           0.8214043097645163,
           0.8496519896359443,
           0.9213658051575054,
           0.7311788512855992,
           0.777770939735035,
           0.7333990091830608,
           0.7664714587494388,
           0.7917398526254503
          ],
          [
           0.7950530431567722,
           0.8093184884961141,
           0.7754806713930146,
           0.830825435332059,
           0.8523529373424472,
           0.7864259128436847,
           0.8214043097645163,
           0,
           0.8665886789296782,
           0.8833069008096192,
           0.770275596052243,
           0.8122230150858234,
           0.8081436031720013,
           0.829691840810196,
           0.8468937395620328
          ],
          [
           0.791833587254951,
           0.867242461050041,
           0.7968218226027138,
           0.6843415399699566,
           0.7799133473415938,
           0.7133280830468129,
           0.8496519896359443,
           0.8665886789296782,
           0,
           0.988067391217654,
           0.8049274872687766,
           0.6909929903888572,
           0.6950239997242419,
           0.8335160526037857,
           0.8812477332027499
          ],
          [
           0.9506681839712136,
           0.9573360248473438,
           0.9484293626791335,
           0.949469669286265,
           0.9833735163798288,
           0.9384604620110379,
           0.9213658051575054,
           0.8833069008096192,
           0.988067391217654,
           0,
           0.9221413617582851,
           0.9476088835457588,
           0.9442655129554223,
           0.9694118610085904,
           1
          ],
          [
           0.7225870258552453,
           0.70098219297048,
           0.6671864133314158,
           0.7570537838029872,
           0.7036034030457998,
           0.6966880279045161,
           0.7311788512855992,
           0.770275596052243,
           0.8049274872687766,
           0.9221413617582851,
           0,
           0.7109003481411824,
           0.6635168052976902,
           0.71915633315554,
           0.7237966816235729
          ],
          [
           0.7142200754062881,
           0.8047577355635108,
           0.735207992482111,
           0.6935347260924206,
           0.6936764972377151,
           0.6589887424258574,
           0.777770939735035,
           0.8122230150858234,
           0.6909929903888572,
           0.9476088835457588,
           0.7109003481411824,
           0,
           0.6300338569297833,
           0.7504950772691201,
           0.8270102991809065
          ],
          [
           0.7434702325370185,
           0.7559918365073935,
           0.6661438098622374,
           0.5940615699589957,
           0.7097242844726964,
           0.6281891411351933,
           0.7333990091830608,
           0.8081436031720013,
           0.6950239997242419,
           0.9442655129554223,
           0.6635168052976902,
           0.6300338569297833,
           0,
           0.7496800750899579,
           0.7901847728350542
          ],
          [
           0.7427707071208639,
           0.7153175729779199,
           0.7224076516169321,
           0.7979450150761176,
           0.6885834650168452,
           0.7571722352904326,
           0.7664714587494388,
           0.829691840810196,
           0.8335160526037857,
           0.9694118610085904,
           0.71915633315554,
           0.7504950772691201,
           0.7496800750899579,
           0,
           0.7230009793604588
          ],
          [
           0.7811932617185283,
           0.6383797613924975,
           0.7450825000523692,
           0.8589305363012185,
           0.6443791718242465,
           0.7924704486678907,
           0.7917398526254503,
           0.8468937395620328,
           0.8812477332027499,
           1,
           0.7237966816235729,
           0.8270102991809065,
           0.7901847728350542,
           0.7230009793604588,
           0
          ]
         ]
        }
       ],
       "layout": {
        "height": 950,
        "template": {
         "data": {
          "bar": [
           {
            "error_x": {
             "color": "#2a3f5f"
            },
            "error_y": {
             "color": "#2a3f5f"
            },
            "marker": {
             "line": {
              "color": "#E5ECF6",
              "width": 0.5
             },
             "pattern": {
              "fillmode": "overlay",
              "size": 10,
              "solidity": 0.2
             }
            },
            "type": "bar"
           }
          ],
          "barpolar": [
           {
            "marker": {
             "line": {
              "color": "#E5ECF6",
              "width": 0.5
             },
             "pattern": {
              "fillmode": "overlay",
              "size": 10,
              "solidity": 0.2
             }
            },
            "type": "barpolar"
           }
          ],
          "carpet": [
           {
            "aaxis": {
             "endlinecolor": "#2a3f5f",
             "gridcolor": "white",
             "linecolor": "white",
             "minorgridcolor": "white",
             "startlinecolor": "#2a3f5f"
            },
            "baxis": {
             "endlinecolor": "#2a3f5f",
             "gridcolor": "white",
             "linecolor": "white",
             "minorgridcolor": "white",
             "startlinecolor": "#2a3f5f"
            },
            "type": "carpet"
           }
          ],
          "choropleth": [
           {
            "colorbar": {
             "outlinewidth": 0,
             "ticks": ""
            },
            "type": "choropleth"
           }
          ],
          "contour": [
           {
            "colorbar": {
             "outlinewidth": 0,
             "ticks": ""
            },
            "colorscale": [
             [
              0,
              "#0d0887"
             ],
             [
              0.1111111111111111,
              "#46039f"
             ],
             [
              0.2222222222222222,
              "#7201a8"
             ],
             [
              0.3333333333333333,
              "#9c179e"
             ],
             [
              0.4444444444444444,
              "#bd3786"
             ],
             [
              0.5555555555555556,
              "#d8576b"
             ],
             [
              0.6666666666666666,
              "#ed7953"
             ],
             [
              0.7777777777777778,
              "#fb9f3a"
             ],
             [
              0.8888888888888888,
              "#fdca26"
             ],
             [
              1,
              "#f0f921"
             ]
            ],
            "type": "contour"
           }
          ],
          "contourcarpet": [
           {
            "colorbar": {
             "outlinewidth": 0,
             "ticks": ""
            },
            "type": "contourcarpet"
           }
          ],
          "heatmap": [
           {
            "colorbar": {
             "outlinewidth": 0,
             "ticks": ""
            },
            "colorscale": [
             [
              0,
              "#0d0887"
             ],
             [
              0.1111111111111111,
              "#46039f"
             ],
             [
              0.2222222222222222,
              "#7201a8"
             ],
             [
              0.3333333333333333,
              "#9c179e"
             ],
             [
              0.4444444444444444,
              "#bd3786"
             ],
             [
              0.5555555555555556,
              "#d8576b"
             ],
             [
              0.6666666666666666,
              "#ed7953"
             ],
             [
              0.7777777777777778,
              "#fb9f3a"
             ],
             [
              0.8888888888888888,
              "#fdca26"
             ],
             [
              1,
              "#f0f921"
             ]
            ],
            "type": "heatmap"
           }
          ],
          "heatmapgl": [
           {
            "colorbar": {
             "outlinewidth": 0,
             "ticks": ""
            },
            "colorscale": [
             [
              0,
              "#0d0887"
             ],
             [
              0.1111111111111111,
              "#46039f"
             ],
             [
              0.2222222222222222,
              "#7201a8"
             ],
             [
              0.3333333333333333,
              "#9c179e"
             ],
             [
              0.4444444444444444,
              "#bd3786"
             ],
             [
              0.5555555555555556,
              "#d8576b"
             ],
             [
              0.6666666666666666,
              "#ed7953"
             ],
             [
              0.7777777777777778,
              "#fb9f3a"
             ],
             [
              0.8888888888888888,
              "#fdca26"
             ],
             [
              1,
              "#f0f921"
             ]
            ],
            "type": "heatmapgl"
           }
          ],
          "histogram": [
           {
            "marker": {
             "pattern": {
              "fillmode": "overlay",
              "size": 10,
              "solidity": 0.2
             }
            },
            "type": "histogram"
           }
          ],
          "histogram2d": [
           {
            "colorbar": {
             "outlinewidth": 0,
             "ticks": ""
            },
            "colorscale": [
             [
              0,
              "#0d0887"
             ],
             [
              0.1111111111111111,
              "#46039f"
             ],
             [
              0.2222222222222222,
              "#7201a8"
             ],
             [
              0.3333333333333333,
              "#9c179e"
             ],
             [
              0.4444444444444444,
              "#bd3786"
             ],
             [
              0.5555555555555556,
              "#d8576b"
             ],
             [
              0.6666666666666666,
              "#ed7953"
             ],
             [
              0.7777777777777778,
              "#fb9f3a"
             ],
             [
              0.8888888888888888,
              "#fdca26"
             ],
             [
              1,
              "#f0f921"
             ]
            ],
            "type": "histogram2d"
           }
          ],
          "histogram2dcontour": [
           {
            "colorbar": {
             "outlinewidth": 0,
             "ticks": ""
            },
            "colorscale": [
             [
              0,
              "#0d0887"
             ],
             [
              0.1111111111111111,
              "#46039f"
             ],
             [
              0.2222222222222222,
              "#7201a8"
             ],
             [
              0.3333333333333333,
              "#9c179e"
             ],
             [
              0.4444444444444444,
              "#bd3786"
             ],
             [
              0.5555555555555556,
              "#d8576b"
             ],
             [
              0.6666666666666666,
              "#ed7953"
             ],
             [
              0.7777777777777778,
              "#fb9f3a"
             ],
             [
              0.8888888888888888,
              "#fdca26"
             ],
             [
              1,
              "#f0f921"
             ]
            ],
            "type": "histogram2dcontour"
           }
          ],
          "mesh3d": [
           {
            "colorbar": {
             "outlinewidth": 0,
             "ticks": ""
            },
            "type": "mesh3d"
           }
          ],
          "parcoords": [
           {
            "line": {
             "colorbar": {
              "outlinewidth": 0,
              "ticks": ""
             }
            },
            "type": "parcoords"
           }
          ],
          "pie": [
           {
            "automargin": true,
            "type": "pie"
           }
          ],
          "scatter": [
           {
            "fillpattern": {
             "fillmode": "overlay",
             "size": 10,
             "solidity": 0.2
            },
            "type": "scatter"
           }
          ],
          "scatter3d": [
           {
            "line": {
             "colorbar": {
              "outlinewidth": 0,
              "ticks": ""
             }
            },
            "marker": {
             "colorbar": {
              "outlinewidth": 0,
              "ticks": ""
             }
            },
            "type": "scatter3d"
           }
          ],
          "scattercarpet": [
           {
            "marker": {
             "colorbar": {
              "outlinewidth": 0,
              "ticks": ""
             }
            },
            "type": "scattercarpet"
           }
          ],
          "scattergeo": [
           {
            "marker": {
             "colorbar": {
              "outlinewidth": 0,
              "ticks": ""
             }
            },
            "type": "scattergeo"
           }
          ],
          "scattergl": [
           {
            "marker": {
             "colorbar": {
              "outlinewidth": 0,
              "ticks": ""
             }
            },
            "type": "scattergl"
           }
          ],
          "scattermapbox": [
           {
            "marker": {
             "colorbar": {
              "outlinewidth": 0,
              "ticks": ""
             }
            },
            "type": "scattermapbox"
           }
          ],
          "scatterpolar": [
           {
            "marker": {
             "colorbar": {
              "outlinewidth": 0,
              "ticks": ""
             }
            },
            "type": "scatterpolar"
           }
          ],
          "scatterpolargl": [
           {
            "marker": {
             "colorbar": {
              "outlinewidth": 0,
              "ticks": ""
             }
            },
            "type": "scatterpolargl"
           }
          ],
          "scatterternary": [
           {
            "marker": {
             "colorbar": {
              "outlinewidth": 0,
              "ticks": ""
             }
            },
            "type": "scatterternary"
           }
          ],
          "surface": [
           {
            "colorbar": {
             "outlinewidth": 0,
             "ticks": ""
            },
            "colorscale": [
             [
              0,
              "#0d0887"
             ],
             [
              0.1111111111111111,
              "#46039f"
             ],
             [
              0.2222222222222222,
              "#7201a8"
             ],
             [
              0.3333333333333333,
              "#9c179e"
             ],
             [
              0.4444444444444444,
              "#bd3786"
             ],
             [
              0.5555555555555556,
              "#d8576b"
             ],
             [
              0.6666666666666666,
              "#ed7953"
             ],
             [
              0.7777777777777778,
              "#fb9f3a"
             ],
             [
              0.8888888888888888,
              "#fdca26"
             ],
             [
              1,
              "#f0f921"
             ]
            ],
            "type": "surface"
           }
          ],
          "table": [
           {
            "cells": {
             "fill": {
              "color": "#EBF0F8"
             },
             "line": {
              "color": "white"
             }
            },
            "header": {
             "fill": {
              "color": "#C8D4E3"
             },
             "line": {
              "color": "white"
             }
            },
            "type": "table"
           }
          ]
         },
         "layout": {
          "annotationdefaults": {
           "arrowcolor": "#2a3f5f",
           "arrowhead": 0,
           "arrowwidth": 1
          },
          "autotypenumbers": "strict",
          "coloraxis": {
           "colorbar": {
            "outlinewidth": 0,
            "ticks": ""
           }
          },
          "colorscale": {
           "diverging": [
            [
             0,
             "#8e0152"
            ],
            [
             0.1,
             "#c51b7d"
            ],
            [
             0.2,
             "#de77ae"
            ],
            [
             0.3,
             "#f1b6da"
            ],
            [
             0.4,
             "#fde0ef"
            ],
            [
             0.5,
             "#f7f7f7"
            ],
            [
             0.6,
             "#e6f5d0"
            ],
            [
             0.7,
             "#b8e186"
            ],
            [
             0.8,
             "#7fbc41"
            ],
            [
             0.9,
             "#4d9221"
            ],
            [
             1,
             "#276419"
            ]
           ],
           "sequential": [
            [
             0,
             "#0d0887"
            ],
            [
             0.1111111111111111,
             "#46039f"
            ],
            [
             0.2222222222222222,
             "#7201a8"
            ],
            [
             0.3333333333333333,
             "#9c179e"
            ],
            [
             0.4444444444444444,
             "#bd3786"
            ],
            [
             0.5555555555555556,
             "#d8576b"
            ],
            [
             0.6666666666666666,
             "#ed7953"
            ],
            [
             0.7777777777777778,
             "#fb9f3a"
            ],
            [
             0.8888888888888888,
             "#fdca26"
            ],
            [
             1,
             "#f0f921"
            ]
           ],
           "sequentialminus": [
            [
             0,
             "#0d0887"
            ],
            [
             0.1111111111111111,
             "#46039f"
            ],
            [
             0.2222222222222222,
             "#7201a8"
            ],
            [
             0.3333333333333333,
             "#9c179e"
            ],
            [
             0.4444444444444444,
             "#bd3786"
            ],
            [
             0.5555555555555556,
             "#d8576b"
            ],
            [
             0.6666666666666666,
             "#ed7953"
            ],
            [
             0.7777777777777778,
             "#fb9f3a"
            ],
            [
             0.8888888888888888,
             "#fdca26"
            ],
            [
             1,
             "#f0f921"
            ]
           ]
          },
          "colorway": [
           "#636efa",
           "#EF553B",
           "#00cc96",
           "#ab63fa",
           "#FFA15A",
           "#19d3f3",
           "#FF6692",
           "#B6E880",
           "#FF97FF",
           "#FECB52"
          ],
          "font": {
           "color": "#2a3f5f"
          },
          "geo": {
           "bgcolor": "white",
           "lakecolor": "white",
           "landcolor": "#E5ECF6",
           "showlakes": true,
           "showland": true,
           "subunitcolor": "white"
          },
          "hoverlabel": {
           "align": "left"
          },
          "hovermode": "closest",
          "mapbox": {
           "style": "light"
          },
          "paper_bgcolor": "white",
          "plot_bgcolor": "#E5ECF6",
          "polar": {
           "angularaxis": {
            "gridcolor": "white",
            "linecolor": "white",
            "ticks": ""
           },
           "bgcolor": "#E5ECF6",
           "radialaxis": {
            "gridcolor": "white",
            "linecolor": "white",
            "ticks": ""
           }
          },
          "scene": {
           "xaxis": {
            "backgroundcolor": "#E5ECF6",
            "gridcolor": "white",
            "gridwidth": 2,
            "linecolor": "white",
            "showbackground": true,
            "ticks": "",
            "zerolinecolor": "white"
           },
           "yaxis": {
            "backgroundcolor": "#E5ECF6",
            "gridcolor": "white",
            "gridwidth": 2,
            "linecolor": "white",
            "showbackground": true,
            "ticks": "",
            "zerolinecolor": "white"
           },
           "zaxis": {
            "backgroundcolor": "#E5ECF6",
            "gridcolor": "white",
            "gridwidth": 2,
            "linecolor": "white",
            "showbackground": true,
            "ticks": "",
            "zerolinecolor": "white"
           }
          },
          "shapedefaults": {
           "line": {
            "color": "#2a3f5f"
           }
          },
          "ternary": {
           "aaxis": {
            "gridcolor": "white",
            "linecolor": "white",
            "ticks": ""
           },
           "baxis": {
            "gridcolor": "white",
            "linecolor": "white",
            "ticks": ""
           },
           "bgcolor": "#E5ECF6",
           "caxis": {
            "gridcolor": "white",
            "linecolor": "white",
            "ticks": ""
           }
          },
          "title": {
           "x": 0.05
          },
          "xaxis": {
           "automargin": true,
           "gridcolor": "white",
           "linecolor": "white",
           "ticks": "",
           "title": {
            "standoff": 15
           },
           "zerolinecolor": "white",
           "zerolinewidth": 2
          },
          "yaxis": {
           "automargin": true,
           "gridcolor": "white",
           "linecolor": "white",
           "ticks": "",
           "title": {
            "standoff": 15
           },
           "zerolinecolor": "white",
           "zerolinewidth": 2
          }
         }
        },
        "title": {
         "text": "Topic difference (one model)[hellinger distance]"
        },
        "width": 950,
        "xaxis": {
         "autorange": true,
         "range": [
          -0.5,
          14.5
         ],
         "title": {
          "text": "topic"
         }
        },
        "yaxis": {
         "autorange": true,
         "range": [
          -0.5,
          14.5
         ],
         "title": {
          "text": "topic"
         }
        }
       }
      },
      "image/png": "[encoded data removed]",
      "text/html": [
       "<div>                            <div id=\"bdc0a702-a5ec-42da-b0a8-99211ad8e357\" class=\"plotly-graph-div\" style=\"height:950px; width:950px;\"></div>            <script type=\"text/javascript\">                require([\"plotly\"], function(Plotly) {                    window.PLOTLYENV=window.PLOTLYENV || {};                                    if (document.getElementById(\"bdc0a702-a5ec-42da-b0a8-99211ad8e357\")) {                    Plotly.newPlot(                        \"bdc0a702-a5ec-42da-b0a8-99211ad8e357\",                        [{\"colorscale\":[[0.0,\"rgb(103,0,31)\"],[0.1,\"rgb(178,24,43)\"],[0.2,\"rgb(214,96,77)\"],[0.3,\"rgb(244,165,130)\"],[0.4,\"rgb(253,219,199)\"],[0.5,\"rgb(247,247,247)\"],[0.6,\"rgb(209,229,240)\"],[0.7,\"rgb(146,197,222)\"],[0.8,\"rgb(67,147,195)\"],[0.9,\"rgb(33,102,172)\"],[1.0,\"rgb(5,48,97)\"]],\"text\":[[\"+++ state, space, distribut, includ, good, think, repli, group, duke, look<br>--- \",\"+++ new, distribut, comput, good, think, system, make, repli, world, look<br>--- space, duke, mil, american, anyon, 1993, gun, memori, pleas, buy\",\"+++ mail, state, new, distribut, comput, good, think, two, make, repli<br>--- michael, see, space, bank, duke, realli, american, anyon, 1993, gun\",\"+++ good, think, make, world, could, time, may, said, also<br>--- bibl, see, life, jesu, space, distribut, duke, look, differ, american\",\"+++ inform, mail, includ, distribut, new, comput, system, make, provid, file<br>--- user, space, phone, duke, look, american, 1993, gun, data, rochest\",\"+++ two, think, said, make, file, look, could, year, may, first<br>--- right, see, space, distribut, colorado, duke, american, 1993, come, gun\",\"+++ 1993, state, new, distribut, research, good, think, system, world, year<br>--- right, 000, space, duke, look, drink, american, gun, left, take\",\"+++ new, two, good, think, make, look, year, time, first, also<br>--- right, see, space, distribut, duke, goal, player, final, american, win\",\"+++ state, two, think, said, make, world, could, year, first, also<br>--- right, see, greek, nazi, space, distribut, duke, look, attack, american\",\"+++ year, good, think, time<br>--- space, distribut, 145, duke, look, player, 6um, win, g9v, american\",\"+++ distribut, comput, good, think, system, make, repli, world, look, could<br>--- right, see, space, dealer, duke, realli, american, anyon, 1993, gun\",\"+++ american, state, space, new, good, think, gun, system, said, make<br>--- right, distribut, hous, duke, look, 1993, drug, take, rochest, money\",\"+++ new, good, gun, think, system, make, look, could, year, may<br>--- right, see, space, distribut, duke, differ, caltech, realli, american, kill\",\"+++ mail, state, space, distribut, research, good, think, john, system, repli<br>--- pat, duke, peopl, mit, chang, thank, problem, institut, american, satellit\",\"+++ mail, includ, distribut, new, comput, system, repli, look, file, could<br>--- space, duke, american, 1993, gun, data, memori, pleas, rochest, appl\"],[\"+++ new, distribut, comput, good, think, system, make, repli, world, look<br>--- space, duke, mil, american, 1993, anyon, gun, memori, pleas, buy\",\"+++ version, work, distribut, good, think, repli, look, mil, thank, problem<br>--- \",\"+++ work, distribut, good, think, repli, look, anyon, well, pleas, want<br>--- michael, version, see, bank, peopl, mil, thank, problem, realli, even\",\"+++ seem, want, good, think, thing, make, world, read, well, also<br>--- bibl, see, life, jesu, distribut, look, mil, differ, anyon, come\",\"+++ work, want, need, new, distribut, comput, program, system, make, call<br>--- user, phone, look, mil, anyon, data, memori, pleas, buy, seem\",\"+++ want, need, program, think, thing, make, file, look, time, well<br>--- right, see, distribut, colorado, mil, anyon, come, output, take, memori\",\"+++ new, distribut, well, good, think, gov, system, call, help, world<br>--- right, 000, look, mil, drink, 1993, anyon, left, take, rider\",\"+++ new, good, think, run, make, look, time, well, also<br>--- right, see, distribut, goal, player, final, mil, win, last, anyon\",\"+++ want, think, make, call, world, time, well, also, tri<br>--- right, see, greek, nazi, distribut, look, mil, attack, kill, anyon\",\"+++ well, good, think, time<br>--- distribut, 145, look, mil, player, 6um, win, g9v, last, hall\",\"+++ work, distribut, good, think, repli, look, thank, anyon, call, world<br>--- right, version, see, better, dealer, peopl, news, mil, problem, engin\",\"+++ work, want, need, new, good, think, system, thing, program, make<br>--- right, space, distribut, hous, look, mil, american, anyon, gun, drug\",\"+++ seem, work, want, new, well, good, think, system, thing, make<br>--- right, see, distribut, mil, differ, caltech, realli, kill, anyon, gun\",\"+++ work, distribut, good, think, repli, look, thank, problem, anyon, file<br>--- version, state, space, pat, peopl, mit, chang, virginia, net, first\",\"+++ version, work, distribut, repli, look, thank, problem, file, card, window<br>--- much, mac, includ, good, think, avail, mil, screen, mail, anyon\"],[\"+++ mail, state, new, distribut, comput, good, think, two, make, repli<br>--- michael, see, space, bank, duke, american, realli, 1993, anyon, gun\",\"+++ work, distribut, good, think, repli, look, anyon, well, pleas, want<br>--- version, michael, see, andrew, state, bank, peopl, mil, thank, problem\",\"+++ michael, see, work, state, distribut, good, think, bank, repli, look<br>--- \",\"+++ see, want, say, way, well, good, even, think, thing, make<br>--- michael, bibl, life, jesu, distribut, bank, look, differ, realli, anyon\",\"+++ work, want, need, mail, new, distribut, comput, make, run, time<br>--- michael, user, see, phone, bank, look, realli, anyon, data, pleas\",\"+++ see, think, peopl, look, even, could, may, well, want, thing<br>--- right, michael, someth, colorado, distribut, good, bank, repli, realli, anyon\",\"+++ state, way, distribut, new, good, think, even, bike, year, time<br>--- right, michael, see, 000, bank, look, drink, realli, 1993, anyon\",\"+++ see, back, new, two, good, think, even, pittsburgh, run, make<br>--- right, michael, distribut, bank, goal, player, final, realli, win, last\",\"+++ see, want, say, state, way, two, even, think, make, org<br>--- right, michael, greek, nazi, distribut, armenian, good, arm, bank, repli\",\"+++ good, think, year, time, well<br>--- michael, see, distribut, 145, bank, look, player, 6um, win, g9v\",\"+++ see, work, distribut, good, think, repli, look, peopl, engin, realli<br>--- right, michael, andrew, better, state, bank, dealer, news, thank, dod\",\"+++ work, want, need, say, state, way, new, good, think, even<br>--- right, michael, see, space, distribut, hous, bank, repli, look, american\",\"+++ see, work, good, think, peopl, look, realli, even, could, may<br>--- right, michael, andrew, state, argument, someth, distribut, bank, repli, evid\",\"+++ work, need, anyon, state, mail, distribut, new, good, think, comput<br>--- michael, see, space, pat, bank, mit, chang, thank, problem, realli\",\"+++ work, want, need, mail, new, distribut, comput, run, repli, look<br>--- michael, see, bank, realli, anyon, data, memori, appl, pittsburgh, speed\"],[\"+++ good, think, make, world, could, time, may, said, also<br>--- bibl, see, life, jesu, space, distribut, duke, look, differ, american\",\"+++ seem, want, good, think, thing, make, world, read, well, also<br>--- bibl, see, life, jesu, distribut, look, mil, differ, anyon, come\",\"+++ see, want, say, way, good, even, think, thing, make, peopl<br>--- michael, bibl, life, jesu, distribut, bank, look, differ, realli, anyon\",\"+++ must, bibl, see, life, faith, church, jesu, book, good, think<br>--- \",\"+++ want, make, time, may, also<br>--- bibl, user, see, life, jesu, distribut, phone, differ, come, data\",\"+++ must, see, think, peopl, come, even, could, may, well, want<br>--- right, bibl, life, faith, church, jesu, book, someth, colorado, good\",\"+++ way, good, even, think, world, day, time, well, also<br>--- right, bibl, see, life, 000, jesu, distribut, differ, drink, 1993\",\"+++ see, point, good, think, even, make, time, well, also<br>--- right, bibl, life, jesu, look, goal, player, final, differ, win\",\"+++ see, want, say, way, live, even, think, make, mani, question<br>--- right, bibl, life, greek, jesu, nazi, attack, differ, kill, come\",\"+++ come, good, think, time, well<br>--- bibl, see, life, jesu, 145, player, differ, 6um, win, g9v\",\"+++ see, want, say, way, good, even, think, thing, make, world<br>--- right, bibl, life, jesu, distribut, dealer, look, differ, realli, anyon\",\"+++ want, say, way, point, good, think, even, thing, make, peopl<br>--- right, bibl, see, life, jesu, space, hous, differ, american, come\",\"+++ see, good, think, peopl, differ, point, even, person, mani, could<br>--- right, must, life, bibl, faith, work, church, jesu, argument, someth\",\"+++ point, good, think, question, peopl, could, may, also<br>--- bibl, see, life, jesu, space, distribut, pat, look, mit, differ\",\"+++ could, want, also, time<br>--- bibl, see, life, jesu, distribut, look, differ, come, data, word\"],[\"+++ inform, mail, includ, distribut, new, comput, system, make, provid, file<br>--- user, space, phone, duke, look, american, 1993, gun, data, rochest\",\"+++ work, want, need, new, distribut, comput, program, system, run, call<br>--- user, phone, look, mil, anyon, data, memori, pleas, buy, seem\",\"+++ work, want, need, mail, new, distribut, comput, make, run, time<br>--- michael, see, user, phone, bank, look, realli, anyon, data, pleas\",\"+++ want, make, time, may, also<br>--- bibl, see, life, user, jesu, distribut, phone, differ, come, data\",\"+++ user, work, includ, distribut, server, phone, avail, applic, algorithm, gener<br>--- \",\"+++ need, want, number, law, program, make, file, time, may, also<br>--- right, see, user, distribut, colorado, phone, look, come, output, data\",\"+++ number, new, distribut, bit, system, call, time, also<br>--- right, user, 000, phone, drink, 1993, data, left, take, rider\",\"+++ new, run, make, time, also<br>--- right, see, user, distribut, phone, look, goal, player, final, win\",\"+++ want, govern, make, call, time, also<br>--- right, see, greek, user, nazi, distribut, phone, attack, kill, palestinian\",\"+++ time<br>--- user, distribut, 145, phone, player, 6um, win, g9v, last, hall\",\"+++ work, want, need, distribut, comput, system, make, call, run, time<br>--- right, see, user, phone, dealer, look, realli, anyon, uiuc, data\",\"+++ public, work, want, need, govern, new, law, program, system, make<br>--- right, user, space, distribut, phone, hous, american, gun, data, drug\",\"+++ work, want, new, system, make, time, may, also<br>--- right, see, user, distribut, phone, look, differ, caltech, realli, kill\",\"+++ technolog, work, need, mail, new, distribut, comput, program, system, file<br>--- user, space, phone, pat, look, mit, anyon, data, alaska, find\",\"+++ work, includ, distribut, avail, mail, bit, data, file, window, want<br>--- version, user, mac, server, phone, repli, look, applic, thank, problem\"],[\"+++ two, think, said, make, file, look, could, year, may, first<br>--- right, see, space, distribut, colorado, duke, american, 1993, come, gun\",\"+++ want, need, program, think, thing, make, file, look, time, well<br>--- right, see, distribut, colorado, mil, anyon, come, output, take, memori\",\"+++ see, think, look, peopl, even, could, may, well, want, thing<br>--- michael, right, distribut, someth, good, colorado, bank, repli, realli, anyon\",\"+++ must, see, think, peopl, come, even, could, well, may, want<br>--- bibl, life, faith, church, right, jesu, book, someth, colorado, good\",\"+++ need, want, number, law, program, make, file, time, may, also<br>--- right, user, see, distribut, colorado, phone, look, come, data, output\",\"+++ right, must, see, someth, colorado, think, ground, also, peopl, look<br>--- \",\"+++ right, number, way, even, think, year, day, well, take, first<br>--- see, 000, distribut, colorado, look, drink, 1993, come, output, left\",\"+++ right, see, back, two, think, even, make, look, year, time<br>--- colorado, goal, player, final, win, last, shot, come, divis, output\",\"+++ right, see, want, say, way, two, think, even, make, question<br>--- greek, nazi, colorado, look, attack, kill, come, palestinian, output, take\",\"+++ come, think, year, time, well<br>--- right, see, colorado, 145, look, player, 6um, win, g9v, last\",\"+++ right, see, want, need, say, way, think, even, thing, make<br>--- distribut, colorado, dealer, realli, anyon, come, uiuc, output, take, buy\",\"+++ right, think, peopl, first, even, could, well, take, want, thing<br>--- must, see, work, state, space, talk, someth, good, tell, colorado\",\"+++ right, see, someth, think, peopl, look, even, could, may, well<br>--- must, work, argument, colorado, good, tell, ground, evid, rule, problem\",\"+++ need, program, think, question, file, peopl, look, could, may, first<br>--- right, see, space, distribut, colorado, pat, mit, anyon, come, output\",\"+++ want, need, program, file, look, could, time, also<br>--- right, see, distribut, colorado, come, data, output, take, memori, pleas\"],[\"+++ 1993, state, new, distribut, research, good, think, system, world, year<br>--- right, 000, space, duke, look, american, drink, gun, left, take\",\"+++ new, distribut, well, good, think, gov, system, call, help, world<br>--- right, 000, look, mil, drink, anyon, 1993, left, take, memori\",\"+++ state, way, distribut, new, good, think, even, bike, year, time<br>--- michael, right, see, 000, bank, look, realli, drink, anyon, 1993\",\"+++ way, good, even, think, world, day, time, well, also<br>--- right, bibl, see, life, 000, jesu, distribut, differ, drink, 1993\",\"+++ number, new, distribut, bit, system, call, time, also<br>--- right, user, 000, phone, drink, 1993, data, left, take, rider\",\"+++ right, number, way, even, think, year, day, well, take, first<br>--- see, 000, distribut, colorado, look, drink, 1993, come, output, left\",\"+++ right, 000, diseas, state, distribut, good, think, air, april, problem<br>--- \",\"+++ right, new, good, think, even, year, time, well, first, also<br>--- see, 000, distribut, look, goal, player, final, drink, win, last\",\"+++ right, state, way, even, think, call, world, year, time, well<br>--- see, greek, 000, nazi, distribut, attack, drink, kill, 1993, palestinian\",\"+++ good, think, chz, year, time, well<br>--- right, 000, distribut, 145, player, 6um, win, g9v, drink, last\",\"+++ right, way, distribut, gov, good, even, think, system, call, help<br>--- see, 000, dealer, look, realli, drink, anyon, 1993, uiuc, left\",\"+++ right, state, way, new, good, think, even, system, year, time<br>--- 000, space, distribut, hous, american, drink, 1993, gun, drug, left\",\"+++ right, caus, way, new, well, good, even, think, system, year<br>--- see, 000, distribut, look, differ, caltech, realli, drink, kill, 1993\",\"+++ state, research, distribut, gov, good, think, system, new, help, nasa<br>--- right, 000, space, pat, look, mit, drink, anyon, 1993, left\",\"+++ new, distribut, bit, ibm, help, system, time, problem, control, also<br>--- right, 000, look, drink, 1993, data, left, take, memori, rider\"],[\"+++ new, two, good, think, make, look, year, time, first, also<br>--- right, see, space, distribut, duke, goal, player, final, american, win\",\"+++ new, good, think, run, make, look, time, well, also<br>--- right, see, distribut, mil, goal, player, final, win, last, anyon\",\"+++ see, back, new, two, good, even, think, pittsburgh, make, run<br>--- michael, right, distribut, bank, goal, player, final, realli, win, last\",\"+++ see, point, good, even, think, make, time, well, also<br>--- right, bibl, life, jesu, look, goal, player, final, differ, win\",\"+++ new, make, run, time, also<br>--- right, user, see, distribut, phone, look, goal, player, final, win\",\"+++ right, see, back, two, think, even, make, look, year, time<br>--- colorado, goal, player, final, win, last, come, shot, output, divis\",\"+++ right, new, good, even, think, year, time, well, first, also<br>--- see, 000, distribut, look, goal, player, final, drink, win, last\",\"+++ right, see, red, good, think, nhl, look, hard, goal, player<br>--- \",\"+++ right, see, two, even, think, make, year, time, well, first<br>--- greek, nazi, look, goal, attack, player, final, win, kill, last\",\"+++ win, last, team, good, think, basebal, play, game, year, time<br>--- right, see, 145, look, goal, final, 6um, g9v, hall, come\",\"+++ right, see, got, good, think, even, make, run, power, look<br>--- distribut, dealer, goal, player, final, realli, win, last, anyon, shot\",\"+++ right, new, point, good, think, even, make, year, time, well<br>--- see, space, hous, look, goal, player, final, american, win, last\",\"+++ right, see, back, new, point, good, think, even, make, look<br>--- goal, player, final, differ, caltech, realli, win, kill, last, shot\",\"+++ new, point, good, think, look, first, also<br>--- right, see, space, distribut, pat, mit, goal, player, final, win\",\"+++ new, run, look, drive, time, also<br>--- right, see, distribut, goal, player, final, win, last, shot, data\"],[\"+++ state, two, think, said, make, world, could, year, first, also<br>--- right, see, greek, space, distribut, nazi, duke, look, attack, american\",\"+++ want, think, make, call, world, time, well, also, tri<br>--- right, see, greek, nazi, distribut, look, mil, attack, kill, anyon\",\"+++ see, time, want, say, state, way, two, think, even, make<br>--- michael, right, greek, nazi, distribut, bank, look, attack, realli, kill\",\"+++ see, want, say, way, live, even, think, make, mani, question<br>--- right, bibl, life, greek, jesu, nazi, attack, differ, kill, come\",\"+++ want, govern, make, call, time, also<br>--- right, user, see, greek, nazi, distribut, phone, attack, kill, palestinian\",\"+++ right, see, want, say, way, two, think, even, make, question<br>--- greek, nazi, colorado, look, attack, kill, come, palestinian, output, take\",\"+++ right, state, way, even, think, call, world, year, time, well<br>--- see, greek, 000, nazi, distribut, attack, drink, kill, 1993, palestinian\",\"+++ right, see, two, think, even, make, year, time, well, first<br>--- greek, nazi, look, goal, player, final, attack, win, last, kill\",\"+++ right, see, greek, state, nazi, armenian, think, israel, arm, peopl<br>--- \",\"+++ think, year, jewish, well, time<br>--- right, see, greek, nazi, 145, player, attack, 6um, win, g9v\",\"+++ right, see, want, say, way, even, think, make, call, world<br>--- greek, nazi, distribut, dealer, look, attack, realli, kill, anyon, palestinian\",\"+++ right, want, say, countri, state, govern, way, think, even, said<br>--- see, greek, space, nazi, hous, attack, american, kill, gun, palestinian\",\"+++ right, see, kill, want, say, way, think, even, make, mani<br>--- greek, nazi, look, attack, differ, caltech, realli, gun, palestinian, take\",\"+++ state, think, question, peopl, could, first, also, tri<br>--- right, see, greek, space, distribut, nazi, pat, look, mit, attack\",\"+++ could, want, also, time<br>--- right, see, greek, nazi, distribut, look, attack, kill, palestinian, data\"],[\"+++ year, good, think, time<br>--- space, distribut, 145, duke, look, player, american, 6um, win, g9v\",\"+++ well, good, think, time<br>--- distribut, 145, look, mil, player, 6um, win, g9v, last, anyon\",\"+++ good, think, year, time, well<br>--- michael, see, distribut, 145, bank, look, player, realli, 6um, win\",\"+++ come, good, think, time, well<br>--- bibl, see, life, jesu, 145, player, differ, 6um, win, g9v\",\"+++ time<br>--- user, distribut, phone, 145, player, 6um, win, g9v, last, hall\",\"+++ come, think, year, time, well<br>--- right, see, colorado, 145, look, player, 6um, win, g9v, last\",\"+++ good, think, chz, year, time, well<br>--- right, 000, distribut, 145, player, drink, 6um, win, g9v, last\",\"+++ win, last, team, good, think, basebal, play, game, year, time<br>--- right, see, 145, look, goal, final, 6um, g9v, hall, shot\",\"+++ think, year, time, jewish, well<br>--- right, see, greek, nazi, 145, attack, player, 6um, win, g9v\",\"+++ 6ei, better, bxn, good, 145, think, a86, 7ez, rlk, player<br>--- \",\"+++ better, good, think, year, time, well<br>--- right, see, distribut, 145, dealer, look, player, realli, 6um, win\",\"+++ good, think, year, time, well<br>--- right, space, 145, hous, player, american, 6um, win, g9v, last\",\"+++ good, think, year, time, well<br>--- right, see, 145, look, player, differ, caltech, realli, 6um, win\",\"+++ good, think<br>--- space, distribut, 145, pat, look, mit, player, 6um, win, g9v\",\"+++ time<br>--- distribut, 145, look, player, 6um, win, g9v, last, hall, come\"],[\"+++ distribut, comput, good, think, system, make, repli, world, look, could<br>--- right, see, space, duke, dealer, american, realli, 1993, anyon, gun\",\"+++ work, distribut, good, think, repli, look, thank, anyon, call, world<br>--- version, right, see, better, dealer, peopl, mil, problem, news, engin\",\"+++ see, work, distribut, good, think, repli, look, peopl, engin, realli<br>--- michael, right, much, state, better, bank, dealer, news, thank, dod\",\"+++ see, want, say, way, good, even, think, thing, make, world<br>--- right, bibl, life, jesu, distribut, dealer, look, differ, realli, anyon\",\"+++ work, want, need, distribut, comput, system, make, call, run, time<br>--- right, user, see, phone, dealer, look, realli, anyon, uiuc, data\",\"+++ right, see, want, need, say, way, think, even, thing, make<br>--- distribut, colorado, dealer, realli, anyon, come, uiuc, output, take, buy\",\"+++ right, way, distribut, gov, good, even, think, system, call, help<br>--- see, 000, dealer, look, drink, realli, 1993, anyon, uiuc, left\",\"+++ right, see, got, good, think, even, run, make, power, look<br>--- distribut, dealer, goal, player, final, realli, win, last, anyon, shot\",\"+++ right, see, want, say, way, even, think, make, call, world<br>--- greek, nazi, distribut, dealer, look, attack, realli, kill, anyon, palestinian\",\"+++ better, good, think, year, time, well<br>--- right, see, distribut, 145, dealer, look, player, 6um, win, g9v\",\"+++ right, see, work, better, distribut, good, think, repli, dealer, look<br>--- \",\"+++ right, work, good, think, peopl, even, could, well, want, system<br>--- see, space, distribut, hous, repli, dealer, look, thank, american, realli\",\"+++ right, see, work, good, think, peopl, look, realli, even, could<br>--- better, argument, someth, distribut, repli, dealer, evid, news, thank, problem\",\"+++ work, need, anyon, distribut, gov, good, think, system, help, repli<br>--- right, see, space, pat, dealer, mit, realli, uiuc, alaska, find\",\"+++ work, want, need, distribut, comput, help, system, run, repli, look<br>--- right, see, dealer, realli, anyon, uiuc, data, memori, pleas, buy\"],[\"+++ american, state, space, new, good, think, gun, system, make, said<br>--- right, distribut, hous, duke, look, 1993, drug, take, rochest, money\",\"+++ work, want, need, new, good, think, system, thing, program, make<br>--- right, space, distribut, hous, look, mil, american, anyon, gun, drug\",\"+++ work, want, need, say, state, way, new, good, think, even<br>--- michael, right, see, space, distribut, bank, repli, hous, look, realli\",\"+++ want, say, way, point, good, even, think, thing, make, peopl<br>--- right, bibl, see, life, jesu, space, hous, differ, american, come\",\"+++ public, work, want, need, govern, new, law, program, system, make<br>--- right, user, space, distribut, phone, hous, american, gun, data, drug\",\"+++ right, think, peopl, first, even, could, well, take, want, thing<br>--- see, space, someth, colorado, good, hous, look, american, public, come\",\"+++ right, state, way, new, good, think, even, system, year, time<br>--- 000, space, distribut, hous, drink, american, 1993, gun, drug, left\",\"+++ right, new, point, good, think, even, make, year, time, well<br>--- see, space, hous, look, goal, player, final, american, win, last\",\"+++ right, want, say, countri, state, govern, way, think, even, make<br>--- see, greek, nazi, space, armenian, good, arm, hous, armenia, attack\",\"+++ good, think, year, time, well<br>--- right, space, 145, hous, player, 6um, win, g9v, american, last\",\"+++ right, work, good, think, peopl, even, could, well, want, system<br>--- see, space, distribut, repli, hous, dealer, look, thank, realli, american\",\"+++ right, work, state, space, talk, good, think, hous, peopl, first<br>--- \",\"+++ right, work, good, think, peopl, point, even, gun, could, well<br>--- see, state, argument, someth, space, talk, hous, look, evid, problem\",\"+++ work, need, state, space, point, new, good, think, system, program<br>--- right, distribut, pat, hous, look, mit, american, anyon, gun, drug\",\"+++ work, want, need, new, support, program, system, could, time, also<br>--- right, space, distribut, hous, look, american, gun, data, drug, take\"],[\"+++ new, good, gun, think, system, make, look, could, year, may<br>--- right, see, space, distribut, duke, differ, caltech, american, realli, kill\",\"+++ seem, work, want, new, well, good, think, system, thing, make<br>--- right, see, distribut, mil, differ, caltech, realli, kill, anyon, gun\",\"+++ see, work, good, think, look, peopl, realli, even, could, may<br>--- michael, right, much, state, argument, distribut, someth, bank, repli, evid\",\"+++ see, good, think, peopl, differ, point, even, person, mani, could<br>--- must, bibl, life, faith, church, right, jesu, work, much, book\",\"+++ work, want, new, system, make, time, may, also<br>--- right, user, see, distribut, phone, look, differ, caltech, realli, kill\",\"+++ right, see, someth, think, peopl, look, even, could, may, well<br>--- must, work, argument, colorado, good, ground, tell, evid, rule, problem\",\"+++ right, caus, way, new, well, good, even, think, system, year<br>--- see, 000, distribut, look, differ, caltech, drink, realli, kill, 1993\",\"+++ right, see, back, new, point, good, think, even, make, look<br>--- goal, player, final, differ, caltech, realli, win, last, kill, shot\",\"+++ right, see, kill, want, say, way, think, even, make, mani<br>--- greek, nazi, look, attack, differ, caltech, realli, gun, palestinian, take\",\"+++ good, think, year, time, well<br>--- right, see, 145, look, player, differ, caltech, 6um, win, g9v\",\"+++ right, see, work, good, think, look, peopl, realli, even, could<br>--- better, argument, distribut, someth, repli, dealer, evid, news, thank, problem\",\"+++ right, work, good, think, peopl, point, gun, even, could, well<br>--- see, state, space, talk, argument, someth, hous, look, evid, problem\",\"+++ right, see, work, argument, someth, good, think, peopl, look, evid<br>--- \",\"+++ work, new, point, good, think, system, question, look, peopl, could<br>--- right, see, space, distribut, pat, mit, differ, caltech, realli, kill\",\"+++ work, want, new, system, look, could, time, problem, also<br>--- right, see, distribut, differ, caltech, realli, kill, gun, data, take\"],[\"+++ mail, state, space, distribut, new, good, think, john, system, repli<br>--- pat, duke, peopl, mit, chang, thank, problem, institut, american, satellit\",\"+++ work, distribut, good, think, repli, look, thank, problem, anyon, file<br>--- version, state, space, pat, peopl, mit, mil, chang, virginia, net\",\"+++ work, need, anyon, state, mail, distribut, new, good, think, pleas<br>--- michael, see, space, pat, bank, mit, chang, thank, problem, realli\",\"+++ point, good, think, question, peopl, could, may, also<br>--- bibl, see, life, jesu, space, distribut, pat, look, mit, differ\",\"+++ technolog, work, need, mail, new, distribut, comput, program, system, file<br>--- user, space, phone, pat, look, mit, anyon, data, alaska, find\",\"+++ need, program, think, question, file, peopl, look, could, may, first<br>--- right, see, space, distribut, colorado, pat, mit, anyon, come, output\",\"+++ state, new, distribut, gov, good, think, system, research, help, nasa<br>--- right, 000, space, pat, look, mit, drink, 1993, anyon, left\",\"+++ new, point, good, think, look, first, also<br>--- right, see, space, distribut, pat, mit, goal, player, final, win\",\"+++ state, think, question, peopl, could, first, also, tri<br>--- right, see, greek, nazi, space, distribut, pat, look, mit, attack\",\"+++ good, think<br>--- space, distribut, 145, pat, look, mit, player, 6um, win, g9v\",\"+++ work, need, anyon, distribut, gov, good, think, system, comput, repli<br>--- right, see, space, pat, dealer, mit, realli, uiuc, alaska, find\",\"+++ work, need, state, space, point, new, good, think, system, program<br>--- right, distribut, pat, hous, look, mit, american, anyon, gun, drug\",\"+++ work, new, point, good, think, system, question, look, peopl, could<br>--- right, see, space, distribut, pat, mit, differ, caltech, realli, kill\",\"+++ work, state, space, distribut, good, think, pat, repli, peopl, mit<br>--- \",\"+++ work, need, mail, new, distribut, comput, program, help, system, repli<br>--- space, pat, mit, anyon, data, alaska, memori, find, appl, speed\"],[\"+++ mail, includ, distribut, new, comput, system, repli, look, file, could<br>--- space, duke, american, 1993, gun, data, memori, pleas, rochest, appl\",\"+++ version, work, distribut, repli, look, thank, problem, file, card, window<br>--- mac, includ, good, think, imag, avail, mil, screen, anyon, mail\",\"+++ work, want, need, mail, new, distribut, comput, run, repli, look<br>--- michael, see, bank, realli, anyon, data, memori, pittsburgh, appl, speed\",\"+++ also, want, could, time<br>--- bibl, see, life, jesu, distribut, look, differ, come, data, word\",\"+++ work, includ, distribut, avail, mail, bit, data, file, window, want<br>--- version, user, mac, server, phone, repli, look, applic, thank, problem\",\"+++ want, need, program, file, look, could, time, also<br>--- right, see, distribut, colorado, come, output, data, take, memori, pleas\",\"+++ new, distribut, bit, ibm, help, system, control, problem, also, time<br>--- right, 000, look, drink, 1993, data, left, take, rider, memori\",\"+++ new, run, look, drive, time, also<br>--- right, see, distribut, goal, player, final, win, last, shot, divis\",\"+++ also, want, could, time<br>--- right, see, greek, nazi, distribut, look, attack, kill, palestinian, data\",\"+++ time<br>--- distribut, 145, look, player, 6um, win, g9v, last, hall, come\",\"+++ work, want, need, distribut, comput, help, system, run, repli, look<br>--- right, see, dealer, realli, anyon, uiuc, data, memori, buy, pleas\",\"+++ work, want, need, new, program, system, could, support, also, time<br>--- right, space, distribut, hous, look, american, gun, data, drug, take\",\"+++ work, want, new, system, look, could, time, problem, also<br>--- right, see, distribut, differ, caltech, realli, kill, gun, data, take\",\"+++ work, need, mail, new, distribut, help, program, comput, system, repli<br>--- version, state, space, includ, mac, good, think, pat, peopl, mit\",\"+++ version, work, mac, distribut, includ, repli, scsi, look, avail, thank<br>--- \"]],\"z\":[[0.0,0.7799331347325715,0.743624804761332,0.7915192864108441,0.7085628314236602,0.7468602274386101,0.784189797726551,0.7950530431567722,0.791833587254951,0.9506681839712136,0.7225870258552453,0.7142200754062881,0.7434702325370185,0.7427707071208639,0.7811932617185283],[0.7799331347325715,0.0,0.7226586102424215,0.8242193109326199,0.7113683961855635,0.7700667313670024,0.7649919542648848,0.8093184884961141,0.867242461050041,0.9573360248473438,0.70098219297048,0.8047577355635108,0.7559918365073935,0.7153175729779199,0.6383797613924975],[0.743624804761332,0.7226586102424215,0.0,0.7302182719672604,0.7269580356347559,0.7105744287491039,0.7161185992581037,0.7754806713930146,0.7968218226027138,0.9484293626791335,0.6671864133314158,0.735207992482111,0.6661438098622374,0.7224076516169321,0.7450825000523692],[0.7915192864108441,0.8242193109326199,0.7302182719672604,0.0,0.766952698293433,0.6475024342404503,0.8177134706622695,0.830825435332059,0.6843415399699566,0.949469669286265,0.7570537838029872,0.6935347260924206,0.5940615699589957,0.7979450150761176,0.8589305363012185],[0.7085628314236602,0.7113683961855635,0.7269580356347559,0.766952698293433,0.0,0.694402349441731,0.7655439023255423,0.8523529373424472,0.7799133473415938,0.9833735163798288,0.7036034030457998,0.6936764972377151,0.7097242844726964,0.6885834650168452,0.6443791718242465],[0.7468602274386101,0.7700667313670024,0.7105744287491039,0.6475024342404503,0.694402349441731,0.0,0.7713367321478694,0.7864259128436847,0.7133280830468129,0.9384604620110379,0.6966880279045161,0.6589887424258574,0.6281891411351933,0.7571722352904326,0.7924704486678907],[0.784189797726551,0.7649919542648848,0.7161185992581037,0.8177134706622695,0.7655439023255423,0.7713367321478694,0.0,0.8214043097645163,0.8496519896359443,0.9213658051575054,0.7311788512855992,0.777770939735035,0.7333990091830608,0.7664714587494388,0.7917398526254503],[0.7950530431567722,0.8093184884961141,0.7754806713930146,0.830825435332059,0.8523529373424472,0.7864259128436847,0.8214043097645163,0.0,0.8665886789296782,0.8833069008096192,0.770275596052243,0.8122230150858234,0.8081436031720013,0.829691840810196,0.8468937395620328],[0.791833587254951,0.867242461050041,0.7968218226027138,0.6843415399699566,0.7799133473415938,0.7133280830468129,0.8496519896359443,0.8665886789296782,0.0,0.988067391217654,0.8049274872687766,0.6909929903888572,0.6950239997242419,0.8335160526037857,0.8812477332027499],[0.9506681839712136,0.9573360248473438,0.9484293626791335,0.949469669286265,0.9833735163798288,0.9384604620110379,0.9213658051575054,0.8833069008096192,0.988067391217654,0.0,0.9221413617582851,0.9476088835457588,0.9442655129554223,0.9694118610085904,1.0],[0.7225870258552453,0.70098219297048,0.6671864133314158,0.7570537838029872,0.7036034030457998,0.6966880279045161,0.7311788512855992,0.770275596052243,0.8049274872687766,0.9221413617582851,0.0,0.7109003481411824,0.6635168052976902,0.71915633315554,0.7237966816235729],[0.7142200754062881,0.8047577355635108,0.735207992482111,0.6935347260924206,0.6936764972377151,0.6589887424258574,0.777770939735035,0.8122230150858234,0.6909929903888572,0.9476088835457588,0.7109003481411824,0.0,0.6300338569297833,0.7504950772691201,0.8270102991809065],[0.7434702325370185,0.7559918365073935,0.6661438098622374,0.5940615699589957,0.7097242844726964,0.6281891411351933,0.7333990091830608,0.8081436031720013,0.6950239997242419,0.9442655129554223,0.6635168052976902,0.6300338569297833,0.0,0.7496800750899579,0.7901847728350542],[0.7427707071208639,0.7153175729779199,0.7224076516169321,0.7979450150761176,0.6885834650168452,0.7571722352904326,0.7664714587494388,0.829691840810196,0.8335160526037857,0.9694118610085904,0.71915633315554,0.7504950772691201,0.7496800750899579,0.0,0.7230009793604588],[0.7811932617185283,0.6383797613924975,0.7450825000523692,0.8589305363012185,0.6443791718242465,0.7924704486678907,0.7917398526254503,0.8468937395620328,0.8812477332027499,1.0,0.7237966816235729,0.8270102991809065,0.7901847728350542,0.7230009793604588,0.0]],\"type\":\"heatmap\"}],                        {\"height\":950,\"template\":{\"data\":{\"barpolar\":[{\"marker\":{\"line\":{\"color\":\"#E5ECF6\",\"width\":0.5},\"pattern\":{\"fillmode\":\"overlay\",\"size\":10,\"solidity\":0.2}},\"type\":\"barpolar\"}],\"bar\":[{\"error_x\":{\"color\":\"#2a3f5f\"},\"error_y\":{\"color\":\"#2a3f5f\"},\"marker\":{\"line\":{\"color\":\"#E5ECF6\",\"width\":0.5},\"pattern\":{\"fillmode\":\"overlay\",\"size\":10,\"solidity\":0.2}},\"type\":\"bar\"}],\"carpet\":[{\"aaxis\":{\"endlinecolor\":\"#2a3f5f\",\"gridcolor\":\"white\",\"linecolor\":\"white\",\"minorgridcolor\":\"white\",\"startlinecolor\":\"#2a3f5f\"},\"baxis\":{\"endlinecolor\":\"#2a3f5f\",\"gridcolor\":\"white\",\"linecolor\":\"white\",\"minorgridcolor\":\"white\",\"startlinecolor\":\"#2a3f5f\"},\"type\":\"carpet\"}],\"choropleth\":[{\"colorbar\":{\"outlinewidth\":0,\"ticks\":\"\"},\"type\":\"choropleth\"}],\"contourcarpet\":[{\"colorbar\":{\"outlinewidth\":0,\"ticks\":\"\"},\"type\":\"contourcarpet\"}],\"contour\":[{\"colorbar\":{\"outlinewidth\":0,\"ticks\":\"\"},\"colorscale\":[[0.0,\"#0d0887\"],[0.1111111111111111,\"#46039f\"],[0.2222222222222222,\"#7201a8\"],[0.3333333333333333,\"#9c179e\"],[0.4444444444444444,\"#bd3786\"],[0.5555555555555556,\"#d8576b\"],[0.6666666666666666,\"#ed7953\"],[0.7777777777777778,\"#fb9f3a\"],[0.8888888888888888,\"#fdca26\"],[1.0,\"#f0f921\"]],\"type\":\"contour\"}],\"heatmapgl\":[{\"colorbar\":{\"outlinewidth\":0,\"ticks\":\"\"},\"colorscale\":[[0.0,\"#0d0887\"],[0.1111111111111111,\"#46039f\"],[0.2222222222222222,\"#7201a8\"],[0.3333333333333333,\"#9c179e\"],[0.4444444444444444,\"#bd3786\"],[0.5555555555555556,\"#d8576b\"],[0.6666666666666666,\"#ed7953\"],[0.7777777777777778,\"#fb9f3a\"],[0.8888888888888888,\"#fdca26\"],[1.0,\"#f0f921\"]],\"type\":\"heatmapgl\"}],\"heatmap\":[{\"colorbar\":{\"outlinewidth\":0,\"ticks\":\"\"},\"colorscale\":[[0.0,\"#0d0887\"],[0.1111111111111111,\"#46039f\"],[0.2222222222222222,\"#7201a8\"],[0.3333333333333333,\"#9c179e\"],[0.4444444444444444,\"#bd3786\"],[0.5555555555555556,\"#d8576b\"],[0.6666666666666666,\"#ed7953\"],[0.7777777777777778,\"#fb9f3a\"],[0.8888888888888888,\"#fdca26\"],[1.0,\"#f0f921\"]],\"type\":\"heatmap\"}],\"histogram2dcontour\":[{\"colorbar\":{\"outlinewidth\":0,\"ticks\":\"\"},\"colorscale\":[[0.0,\"#0d0887\"],[0.1111111111111111,\"#46039f\"],[0.2222222222222222,\"#7201a8\"],[0.3333333333333333,\"#9c179e\"],[0.4444444444444444,\"#bd3786\"],[0.5555555555555556,\"#d8576b\"],[0.6666666666666666,\"#ed7953\"],[0.7777777777777778,\"#fb9f3a\"],[0.8888888888888888,\"#fdca26\"],[1.0,\"#f0f921\"]],\"type\":\"histogram2dcontour\"}],\"histogram2d\":[{\"colorbar\":{\"outlinewidth\":0,\"ticks\":\"\"},\"colorscale\":[[0.0,\"#0d0887\"],[0.1111111111111111,\"#46039f\"],[0.2222222222222222,\"#7201a8\"],[0.3333333333333333,\"#9c179e\"],[0.4444444444444444,\"#bd3786\"],[0.5555555555555556,\"#d8576b\"],[0.6666666666666666,\"#ed7953\"],[0.7777777777777778,\"#fb9f3a\"],[0.8888888888888888,\"#fdca26\"],[1.0,\"#f0f921\"]],\"type\":\"histogram2d\"}],\"histogram\":[{\"marker\":{\"pattern\":{\"fillmode\":\"overlay\",\"size\":10,\"solidity\":0.2}},\"type\":\"histogram\"}],\"mesh3d\":[{\"colorbar\":{\"outlinewidth\":0,\"ticks\":\"\"},\"type\":\"mesh3d\"}],\"parcoords\":[{\"line\":{\"colorbar\":{\"outlinewidth\":0,\"ticks\":\"\"}},\"type\":\"parcoords\"}],\"pie\":[{\"automargin\":true,\"type\":\"pie\"}],\"scatter3d\":[{\"line\":{\"colorbar\":{\"outlinewidth\":0,\"ticks\":\"\"}},\"marker\":{\"colorbar\":{\"outlinewidth\":0,\"ticks\":\"\"}},\"type\":\"scatter3d\"}],\"scattercarpet\":[{\"marker\":{\"colorbar\":{\"outlinewidth\":0,\"ticks\":\"\"}},\"type\":\"scattercarpet\"}],\"scattergeo\":[{\"marker\":{\"colorbar\":{\"outlinewidth\":0,\"ticks\":\"\"}},\"type\":\"scattergeo\"}],\"scattergl\":[{\"marker\":{\"colorbar\":{\"outlinewidth\":0,\"ticks\":\"\"}},\"type\":\"scattergl\"}],\"scattermapbox\":[{\"marker\":{\"colorbar\":{\"outlinewidth\":0,\"ticks\":\"\"}},\"type\":\"scattermapbox\"}],\"scatterpolargl\":[{\"marker\":{\"colorbar\":{\"outlinewidth\":0,\"ticks\":\"\"}},\"type\":\"scatterpolargl\"}],\"scatterpolar\":[{\"marker\":{\"colorbar\":{\"outlinewidth\":0,\"ticks\":\"\"}},\"type\":\"scatterpolar\"}],\"scatter\":[{\"fillpattern\":{\"fillmode\":\"overlay\",\"size\":10,\"solidity\":0.2},\"type\":\"scatter\"}],\"scatterternary\":[{\"marker\":{\"colorbar\":{\"outlinewidth\":0,\"ticks\":\"\"}},\"type\":\"scatterternary\"}],\"surface\":[{\"colorbar\":{\"outlinewidth\":0,\"ticks\":\"\"},\"colorscale\":[[0.0,\"#0d0887\"],[0.1111111111111111,\"#46039f\"],[0.2222222222222222,\"#7201a8\"],[0.3333333333333333,\"#9c179e\"],[0.4444444444444444,\"#bd3786\"],[0.5555555555555556,\"#d8576b\"],[0.6666666666666666,\"#ed7953\"],[0.7777777777777778,\"#fb9f3a\"],[0.8888888888888888,\"#fdca26\"],[1.0,\"#f0f921\"]],\"type\":\"surface\"}],\"table\":[{\"cells\":{\"fill\":{\"color\":\"#EBF0F8\"},\"line\":{\"color\":\"white\"}},\"header\":{\"fill\":{\"color\":\"#C8D4E3\"},\"line\":{\"color\":\"white\"}},\"type\":\"table\"}]},\"layout\":{\"annotationdefaults\":{\"arrowcolor\":\"#2a3f5f\",\"arrowhead\":0,\"arrowwidth\":1},\"autotypenumbers\":\"strict\",\"coloraxis\":{\"colorbar\":{\"outlinewidth\":0,\"ticks\":\"\"}},\"colorscale\":{\"diverging\":[[0,\"#8e0152\"],[0.1,\"#c51b7d\"],[0.2,\"#de77ae\"],[0.3,\"#f1b6da\"],[0.4,\"#fde0ef\"],[0.5,\"#f7f7f7\"],[0.6,\"#e6f5d0\"],[0.7,\"#b8e186\"],[0.8,\"#7fbc41\"],[0.9,\"#4d9221\"],[1,\"#276419\"]],\"sequential\":[[0.0,\"#0d0887\"],[0.1111111111111111,\"#46039f\"],[0.2222222222222222,\"#7201a8\"],[0.3333333333333333,\"#9c179e\"],[0.4444444444444444,\"#bd3786\"],[0.5555555555555556,\"#d8576b\"],[0.6666666666666666,\"#ed7953\"],[0.7777777777777778,\"#fb9f3a\"],[0.8888888888888888,\"#fdca26\"],[1.0,\"#f0f921\"]],\"sequentialminus\":[[0.0,\"#0d0887\"],[0.1111111111111111,\"#46039f\"],[0.2222222222222222,\"#7201a8\"],[0.3333333333333333,\"#9c179e\"],[0.4444444444444444,\"#bd3786\"],[0.5555555555555556,\"#d8576b\"],[0.6666666666666666,\"#ed7953\"],[0.7777777777777778,\"#fb9f3a\"],[0.8888888888888888,\"#fdca26\"],[1.0,\"#f0f921\"]]},\"colorway\":[\"#636efa\",\"#EF553B\",\"#00cc96\",\"#ab63fa\",\"#FFA15A\",\"#19d3f3\",\"#FF6692\",\"#B6E880\",\"#FF97FF\",\"#FECB52\"],\"font\":{\"color\":\"#2a3f5f\"},\"geo\":{\"bgcolor\":\"white\",\"lakecolor\":\"white\",\"landcolor\":\"#E5ECF6\",\"showlakes\":true,\"showland\":true,\"subunitcolor\":\"white\"},\"hoverlabel\":{\"align\":\"left\"},\"hovermode\":\"closest\",\"mapbox\":{\"style\":\"light\"},\"paper_bgcolor\":\"white\",\"plot_bgcolor\":\"#E5ECF6\",\"polar\":{\"angularaxis\":{\"gridcolor\":\"white\",\"linecolor\":\"white\",\"ticks\":\"\"},\"bgcolor\":\"#E5ECF6\",\"radialaxis\":{\"gridcolor\":\"white\",\"linecolor\":\"white\",\"ticks\":\"\"}},\"scene\":{\"xaxis\":{\"backgroundcolor\":\"#E5ECF6\",\"gridcolor\":\"white\",\"gridwidth\":2,\"linecolor\":\"white\",\"showbackground\":true,\"ticks\":\"\",\"zerolinecolor\":\"white\"},\"yaxis\":{\"backgroundcolor\":\"#E5ECF6\",\"gridcolor\":\"white\",\"gridwidth\":2,\"linecolor\":\"white\",\"showbackground\":true,\"ticks\":\"\",\"zerolinecolor\":\"white\"},\"zaxis\":{\"backgroundcolor\":\"#E5ECF6\",\"gridcolor\":\"white\",\"gridwidth\":2,\"linecolor\":\"white\",\"showbackground\":true,\"ticks\":\"\",\"zerolinecolor\":\"white\"}},\"shapedefaults\":{\"line\":{\"color\":\"#2a3f5f\"}},\"ternary\":{\"aaxis\":{\"gridcolor\":\"white\",\"linecolor\":\"white\",\"ticks\":\"\"},\"baxis\":{\"gridcolor\":\"white\",\"linecolor\":\"white\",\"ticks\":\"\"},\"bgcolor\":\"#E5ECF6\",\"caxis\":{\"gridcolor\":\"white\",\"linecolor\":\"white\",\"ticks\":\"\"}},\"title\":{\"x\":0.05},\"xaxis\":{\"automargin\":true,\"gridcolor\":\"white\",\"linecolor\":\"white\",\"ticks\":\"\",\"title\":{\"standoff\":15},\"zerolinecolor\":\"white\",\"zerolinewidth\":2},\"yaxis\":{\"automargin\":true,\"gridcolor\":\"white\",\"linecolor\":\"white\",\"ticks\":\"\",\"title\":{\"standoff\":15},\"zerolinecolor\":\"white\",\"zerolinewidth\":2}}},\"title\":{\"text\":\"Topic difference (one model)[hellinger distance]\"},\"width\":950,\"xaxis\":{\"title\":{\"text\":\"topic\"}},\"yaxis\":{\"title\":{\"text\":\"topic\"}}},                        {\"responsive\": true}                    ).then(function(){\n",
       "                            \n",
       "var gd = document.getElementById('bdc0a702-a5ec-42da-b0a8-99211ad8e357');\n",
       "var x = new MutationObserver(function (mutations, observer) {{\n",
       "        var display = window.getComputedStyle(gd).display;\n",
       "        if (!display || display === 'none') {{\n",
       "            console.log([gd, 'removed!']);\n",
       "            Plotly.purge(gd);\n",
       "            observer.disconnect();\n",
       "        }}\n",
       "}});\n",
       "\n",
       "// Listen for the removal of the full notebook cells\n",
       "var notebookContainer = gd.closest('#notebook-container');\n",
       "if (notebookContainer) {{\n",
       "    x.observe(notebookContainer, {childList: true});\n",
       "}}\n",
       "\n",
       "// Listen for the clearing of the current output cell\n",
       "var outputEl = gd.closest('.output');\n",
       "if (outputEl) {{\n",
       "    x.observe(outputEl, {childList: true});\n",
       "}}\n",
       "\n",
       "                        })                };                });            </script>        </div>"
      ]
     },
     "metadata": {},
     "output_type": "display_data"
    }
   ],
   "source": [
    "mdiff, annotation = lda_fst.diff(lda_fst, distance='hellinger', num_words=50)\n",
    "plot_difference(mdiff, title=\"Topic difference (one model)[hellinger distance]\", annotation=annotation)"
   ]
  },
  {
   "cell_type": "markdown",
   "metadata": {},
   "source": [
    "You see that everything has become worse, but remember that everything depends on the task.\n",
    "\n",
    "Choose a distance function that matches your upstream task better: what kind of \"similarity\" is\n",
    "relevant to you. From my (Ivan's) experience, Jaccard is fine.\n",
    "\n",
    "\n"
   ]
  },
  {
   "cell_type": "markdown",
   "metadata": {},
   "source": [
    "## Case 2: How topics from DIFFERENT models correlate with each other."
   ]
  },
  {
   "cell_type": "markdown",
   "metadata": {},
   "source": [
    "Sometimes, we want to look at the patterns between two different models and compare them.\n",
    "\n",
    "You can do this by constructing a matrix with the difference.\n",
    "\n",
    "\n"
   ]
  },
  {
   "cell_type": "code",
   "execution_count": 29,
   "metadata": {
    "collapsed": false,
    "jupyter": {
     "outputs_hidden": false
    }
   },
   "outputs": [
    {
     "data": {
      "application/vnd.plotly.v1+json": {
       "config": {
        "linkText": "Export to plot.ly",
        "plotlyServerURL": "https://plot.ly",
        "showLink": false
       },
       "data": [
        {
         "colorscale": [
          [
           0,
           "rgb(103,0,31)"
          ],
          [
           0.1,
           "rgb(178,24,43)"
          ],
          [
           0.2,
           "rgb(214,96,77)"
          ],
          [
           0.3,
           "rgb(244,165,130)"
          ],
          [
           0.4,
           "rgb(253,219,199)"
          ],
          [
           0.5,
           "rgb(247,247,247)"
          ],
          [
           0.6,
           "rgb(209,229,240)"
          ],
          [
           0.7,
           "rgb(146,197,222)"
          ],
          [
           0.8,
           "rgb(67,147,195)"
          ],
          [
           0.9,
           "rgb(33,102,172)"
          ],
          [
           1,
           "rgb(5,48,97)"
          ]
         ],
         "text": [
          [
           "+++ new, think, system, make, could, time, also<br>--- right, see, clayton, space, distribut, duke, look, caltech, american, anyon",
           "+++ good, think, make, world, time, may, also<br>--- bibl, see, life, hell, jesu, space, distribut, duke, die, look",
           "+++ american, state, distribut, good, think, gun, system, make, file, could<br>--- right, space, duke, look, differ, kill, 1993, rochest, speed, inform",
           "+++ american, state, think, said, make, world, could, news, year, first<br>--- right, see, nazi, space, distribut, duke, look, attack, kill, 1993",
           "+++ <br>--- space, distribut, 145, duke, look, 7ex, 6um, american, g9v, 1993",
           "+++ inform, send, includ, make, repli, sun, file, could, year, may<br>--- see, space, distribut, food, duke, look, int, american, 1993, gun",
           "+++ mail, includ, distribut, new, comput, system, repli, look, file, time<br>--- user, space, duke, mit, american, anyon, 1993, gun, data, memori",
           "+++ state, new, two, good, think, said, make, look, could, news<br>--- right, see, greek, space, distribut, duke, american, 1993, come, gun",
           "+++ new, distribut, two, good, think, make, repli, look, could, year<br>--- space, duke, differ, realli, american, anyon, 1993, gun, take, buy",
           "+++ new, two, good, john, think, make, look, year, time, first<br>--- see, space, distribut, duke, goal, player, american, win, last, 1993",
           "+++ send, mail, state, includ, distribut, new, good, comput, system, two<br>--- space, bank, duke, american, anyon, 1993, gun, pleas, buy, rochest",
           "+++ distribut, two, think, said, look, could, year, first, time<br>--- right, see, space, pat, duke, american, kill, 1993, come, gun",
           "+++ state, good, think, make, could, time, may, said, scienc, also<br>--- right, see, space, distribut, duke, look, differ, american, absolut, 1993",
           "+++ space, distribut, includ, news, first, institut, satellit, 1993, world, may<br>--- lunar, work, state, moon, good, think, repli, group, flight, avail",
           "+++ inform, mail, new, distribut, comput, two, system, make, file, could<br>--- right, user, space, phone, duke, look, american, 1993, gun, data"
          ],
          [
           "+++ seem, anyon, new, think, system, thing, make, time, much, well<br>--- right, see, clayton, distribut, look, mil, caltech, memori, bnr, pleas",
           "+++ seem, want, good, think, thing, make, world, read, also, time<br>--- bibl, see, life, hell, jesu, distribut, die, look, mil, differ",
           "+++ work, want, distribut, well, good, think, system, thing, make, file<br>--- right, look, mil, differ, american, kill, anyon, gun, memori, pleas",
           "+++ seem, want, think, make, world, time, well, also<br>--- right, see, nazi, distribut, look, mil, attack, american, kill, anyon",
           "+++ <br>--- distribut, 145, look, mil, 7ex, 6um, g9v, anyon, wm4u, r8f",
           "+++ time, work, need, help, program, make, repli, tri, file, read<br>--- see, distribut, food, look, mil, int, anyon, output, memori, buy",
           "+++ version, work, distribut, repli, look, thank, problem, screen, anyon, call<br>--- user, mac, includ, server, good, think, avail, mit, applic, mil",
           "+++ work, want, new, good, think, thing, call, make, look, time<br>--- right, see, greek, distribut, mil, anyon, come, take, memori, pleas",
           "+++ work, distribut, good, think, repli, look, problem, anyon, well, buy<br>--- version, light, someth, road, bmw, mil, thank, engin, differ, dod",
           "+++ new, good, think, run, make, look, time, well<br>--- see, distribut, goal, player, mil, win, last, anyon, divis, memori",
           "+++ work, want, monitor, anyon, need, new, distribut, comput, good, buy<br>--- version, think, bank, tri, hard, mil, problem, read, memori, price",
           "+++ work, want, distribut, think, thing, call, look, usa, time, well<br>--- right, see, pat, mil, kill, anyon, come, take, alaska, memori",
           "+++ seem, well, good, think, thing, make, time, much, problem, also<br>--- right, see, distribut, look, mil, differ, absolut, anyon, take, memori",
           "+++ work, new, distribut, gov, program, comput, system, world, time, also<br>--- space, look, mil, project, 1993, cost, anyon, data, memori, pleas",
           "+++ work, need, new, distribut, comput, program, system, make, file, time<br>--- right, user, phone, look, mil, anyon, data, memori, pleas, buy"
          ],
          [
           "+++ see, say, anyon, new, think, thing, make, peopl, could, time<br>--- right, michael, clayton, distribut, bank, look, caltech, realli, bnr, pleas",
           "+++ see, want, say, way, good, even, think, thing, make, peopl<br>--- michael, bibl, life, hell, jesu, distribut, bank, die, look, differ",
           "+++ work, want, state, way, distribut, good, think, thing, make, peopl<br>--- right, michael, see, bank, look, differ, american, realli, kill, anyon",
           "+++ see, want, say, state, way, even, think, make, peopl, could<br>--- right, michael, nazi, distribut, bank, look, attack, american, realli, kill",
           "+++ <br>--- michael, see, distribut, 145, bank, look, 7ex, 6um, realli, g9v",
           "+++ see, time, work, need, make, repli, sun, tri, peopl, could<br>--- michael, distribut, bank, food, look, int, realli, anyon, output, char",
           "+++ work, want, need, anyon, mail, new, distribut, comput, run, repli<br>--- michael, user, see, bank, mit, realli, data, memori, pleas, pittsburgh",
           "+++ see, work, state, good, think, peopl, look, even, could, well<br>--- right, michael, greek, talk, someth, distribut, tell, bank, repli, news",
           "+++ work, distribut, good, think, repli, look, engin, dod, realli, anyon<br>--- michael, see, andrew, state, light, someth, road, bank, peopl, bmw",
           "+++ see, back, new, two, good, even, think, pittsburgh, run, make<br>--- michael, distribut, bank, goal, player, realli, win, last, anyon, divis",
           "+++ work, state, distribut, good, repli, bank, look, mail, anyon, pleas<br>--- michael, see, includ, mac, think, tri, hard, peopl, thank, engin",
           "+++ see, work, want, say, back, way, distribut, two, think, even<br>--- right, michael, someth, armenian, good, pat, bank, repli, armenia, realli",
           "+++ see, say, state, way, good, think, even, thing, make, tri<br>--- right, michael, distribut, bank, look, differ, realli, absolut, anyon, take",
           "+++ work, new, distribut, comput, year, time, may, scienc, also<br>--- michael, see, space, bank, look, realli, project, 1993, cost, anyon",
           "+++ work, need, mail, way, new, distribut, comput, two, even, make<br>--- right, michael, user, see, phone, bank, look, realli, anyon, data"
          ],
          [
           "+++ see, seem, say, think, person, mani, thing, make, peopl, could<br>--- right, bibl, life, clayton, jesu, differ, caltech, anyon, come, word",
           "+++ must, bibl, see, life, faith, church, jesu, book, good, think<br>--- hell, die, islam, love, well, could, find, truth, reason, atheist",
           "+++ want, way, point, good, think, thing, mani, make, peopl, could<br>--- right, bibl, see, life, jesu, distribut, american, kill, come, gun",
           "+++ see, think, peopl, point, even, mani, world, could, believ, well<br>--- right, must, life, bibl, faith, church, jesu, state, nazi, book",
           "+++ <br>--- bibl, see, life, jesu, 145, 7ex, differ, 6um, g9v, come",
           "+++ must, see, make, peopl, follow, could, read, may, also, time<br>--- bibl, life, jesu, food, differ, int, come, output, word, pleas",
           "+++ also, want, time<br>--- bibl, user, see, life, jesu, distribut, look, mit, differ, anyon",
           "+++ see, good, think, peopl, come, even, could, believ, well, want<br>--- right, must, life, greek, bibl, work, faith, church, jesu, state",
           "+++ want, say, way, good, think, thing, make, question, could, time<br>--- bibl, see, life, jesu, distribut, look, realli, anyon, come, take",
           "+++ see, point, good, even, think, make, time, well<br>--- bibl, life, jesu, look, goal, player, differ, win, last, come",
           "+++ also, good, want<br>--- bibl, see, life, jesu, distribut, bank, look, differ, anyon, come",
           "+++ see, want, say, way, come, point, live, think, even, thing<br>--- right, bibl, life, jesu, distribut, pat, look, differ, kill, take",
           "+++ must, see, good, think, peopl, differ, point, even, person, mani<br>--- right, bibl, life, faith, church, jesu, state, argument, someth, book",
           "+++ may, world, also, time<br>--- bibl, see, life, jesu, space, distribut, differ, project, 1993, cost",
           "+++ way, even, make, peopl, could, time, may, also<br>--- right, bibl, user, see, life, jesu, distribut, phone, differ, come"
          ],
          [
           "+++ technolog, number, new, commun, system, make, time, also<br>--- right, see, user, clayton, distribut, phone, caltech, anyon, data, bnr",
           "+++ want, law, make, time, may, also<br>--- bibl, see, life, hell, user, jesu, distribut, phone, die, differ",
           "+++ work, number, want, distribut, law, system, make, file, time, also<br>--- right, user, phone, differ, american, kill, gun, data, encrypt, speed",
           "+++ want, govern, law, make, time, also<br>--- right, see, user, nazi, distribut, phone, attack, american, kill, data",
           "+++ <br>--- user, distribut, 145, phone, 7ex, 6um, g9v, wm4u, r8f, data",
           "+++ inform, work, number, need, includ, program, make, file, time, may<br>--- see, user, distribut, phone, food, int, output, data, pleas, char",
           "+++ user, work, includ, distribut, server, avail, applic, mail, bit, call<br>--- version, mac, phone, repli, mit, look, thank, problem, algorithm, screen",
           "+++ work, want, new, law, make, call, time, also<br>--- right, see, greek, user, distribut, phone, look, come, data, take",
           "+++ work, need, want, new, distribut, make, run, time, also<br>--- user, phone, look, differ, realli, anyon, data, take, buy, high",
           "+++ run, new, make, time<br>--- see, user, distribut, phone, look, goal, player, win, last, divis",
           "+++ work, want, need, mail, includ, distribut, new, comput, system, also<br>--- user, phone, bank, look, anyon, data, pleas, buy, appl, pittsburgh",
           "+++ work, want, distribut, call, time, access<br>--- right, see, user, phone, pat, look, kill, come, data, take",
           "+++ make, may, also, time<br>--- right, see, user, distribut, phone, differ, absolut, data, take, truth",
           "+++ inform, technolog, gener, public, work, includ, distribut, new, program, comput<br>--- user, space, phone, project, 1993, cost, encrypt, launch, anonym, access",
           "+++ user, work, distribut, phone, avail, algorithm, gener, technolog, public, number<br>--- right, includ, armenian, server, administr, peopl, applic, protect, even, call"
          ],
          [
           "+++ right, see, number, say, think, thing, make, peopl, could, time<br>--- clayton, colorado, look, caltech, anyon, come, output, take, bnr, sexual",
           "+++ must, see, want, say, way, come, law, think, even, thing<br>--- right, bibl, life, hell, jesu, colorado, look, die, differ, output",
           "+++ right, number, want, way, law, think, thing, make, peopl, file<br>--- see, distribut, colorado, look, differ, american, kill, come, gun, output",
           "+++ right, see, want, say, way, law, think, even, said, make<br>--- must, state, nazi, someth, colorado, tell, ground, israel, look, news",
           "+++ <br>--- right, see, colorado, 145, look, 7ex, 6um, g9v, come, wm4u",
           "+++ must, see, peopl, rule, number, output, file, could, may, section<br>--- right, someth, colorado, think, msg, repli, food, look, thank, problem",
           "+++ need, want, program, file, look, time, also<br>--- right, user, see, distribut, colorado, mit, anyon, come, data, output",
           "+++ right, see, someth, think, also, peopl, look, first, come, even<br>--- must, greek, work, state, talk, colorado, good, ground, news, rule",
           "+++ want, need, back, say, way, someth, two, think, thing, make<br>--- right, see, distribut, colorado, differ, realli, anyon, come, output, buy",
           "+++ see, back, two, even, think, make, look, year, time, well<br>--- right, colorado, goal, player, win, last, come, divis, output, take",
           "+++ need, want, two, look, ask, also<br>--- right, see, distribut, colorado, bank, anyon, come, output, take, pleas",
           "+++ right, see, someth, think, peopl, look, first, come, even, could<br>--- must, work, armenian, distribut, also, colorado, pat, ground, armenia, rule",
           "+++ right, must, see, someth, think, peopl, even, could, may, well<br>--- state, argument, colorado, good, tell, ground, look, evid, rule, problem",
           "+++ program, year, time, may, first, also<br>--- right, see, space, distribut, colorado, look, project, 1993, cost, come",
           "+++ right, number, need, way, law, two, program, even, make, file<br>--- user, see, distribut, colorado, phone, look, come, data, output, take"
          ],
          [
           "+++ right, medic, number, diseas, new, think, system, time, well, also<br>--- see, 000, clayton, distribut, caltech, drink, anyon, 1993, left, take",
           "+++ way, good, even, think, world, day, time, also<br>--- right, bibl, see, life, hell, 000, jesu, distribut, die, differ",
           "+++ right, number, state, way, distribut, well, good, think, system, control<br>--- 000, differ, american, drink, kill, 1993, gun, left, take, rider",
           "+++ right, state, way, even, think, world, year, time, well, first<br>--- see, 000, nazi, distribut, attack, american, drink, kill, 1993, left",
           "+++ air, chz<br>--- right, 000, distribut, 145, 7ex, 6um, drink, g9v, 1993, wm4u",
           "+++ number, help, year, time, problem, caus, also<br>--- right, see, 000, distribut, food, int, drink, 1993, output, left",
           "+++ new, distribut, bit, help, system, call, time, problem, also<br>--- right, user, 000, look, mit, drink, anyon, 1993, data, left",
           "+++ right, state, way, new, good, think, even, call, year, time<br>--- see, greek, 000, distribut, look, drink, 1993, come, left, rider",
           "+++ motorcycl, way, new, distribut, well, good, think, help, bike, turn<br>--- right, 000, look, differ, realli, drink, anyon, 1993, left, rider",
           "+++ new, good, even, think, year, time, well, first<br>--- right, see, 000, distribut, look, goal, player, drink, win, last",
           "+++ state, new, distribut, ibm, good, system, also<br>--- right, 000, bank, look, drink, anyon, 1993, left, take, rider",
           "+++ right, way, distribut, even, think, call, year, time, day, well<br>--- see, 000, pat, look, drink, kill, 1993, come, left, alaska",
           "+++ right, state, way, well, good, think, even, time, problem, take<br>--- see, 000, distribut, differ, drink, absolut, 1993, left, rider, truth",
           "+++ 1993, research, distribut, gov, new, system, world, april, nasa, year<br>--- right, 000, space, drink, project, cost, data, left, take, rider",
           "+++ right, number, way, new, distribut, bit, even, system, time, also<br>--- user, 000, phone, drink, 1993, data, left, take, rider, encrypt"
          ],
          [
           "+++ right, see, new, think, make, time, well, also<br>--- clayton, look, goal, player, final, caltech, win, last, anyon, shot",
           "+++ see, point, good, even, think, make, time, also<br>--- right, bibl, life, hell, jesu, die, look, goal, player, final",
           "+++ right, point, good, think, make, hard, drive, time, well, also<br>--- see, distribut, look, goal, player, final, differ, american, win, kill",
           "+++ right, see, point, think, even, make, power, year, time, well<br>--- nazi, look, goal, attack, player, final, american, win, kill, last",
           "+++ <br>--- right, see, 145, look, goal, 7ex, player, final, 6um, win",
           "+++ see, make, year, time, also<br>--- right, food, look, goal, player, final, int, win, last, shot",
           "+++ new, run, look, time, also<br>--- right, user, see, distribut, mit, goal, player, final, win, last",
           "+++ right, see, got, back, new, two, good, think, even, make<br>--- greek, goal, player, final, win, last, come, shot, divis, wing",
           "+++ back, new, two, good, think, make, run, power, look, drive<br>--- right, see, distribut, goal, player, final, differ, realli, win, last",
           "+++ see, red, good, think, nhl, look, goal, player, fan, first<br>--- right, better, also, next, hard, final, shot, john, trade, defens",
           "+++ new, two, good, pittsburgh, look, hard, drive, also<br>--- right, see, distribut, bank, goal, player, final, win, last, anyon",
           "+++ right, see, back, point, two, think, even, look, year, time<br>--- distribut, pat, goal, player, final, win, kill, last, come, shot",
           "+++ right, see, point, good, think, even, make, time, well, also<br>--- look, goal, player, final, differ, win, last, absolut, shot, divis",
           "+++ new, year, time, first, also<br>--- right, see, space, distribut, look, goal, player, final, win, project",
           "+++ right, new, two, even, make, time, also<br>--- user, see, distribut, phone, look, goal, player, final, win, last"
          ],
          [
           "+++ right, see, say, think, make, mani, peopl, could, time, well<br>--- greek, clayton, nazi, attack, caltech, kill, anyon, palestinian, bnr, sexual",
           "+++ see, want, say, way, live, even, think, make, mani, question<br>--- right, bibl, life, hell, greek, jesu, nazi, die, attack, differ",
           "+++ right, kill, want, state, way, think, make, arm, mani, peopl<br>--- see, greek, nazi, distribut, attack, differ, american, gun, palestinian, isra",
           "+++ right, see, jew, state, nazi, think, israel, peopl, attack, first<br>--- greek, armenian, arm, armenia, news, children, peac, american, human, point",
           "+++ <br>--- right, see, greek, nazi, 145, 7ex, attack, 6um, g9v, kill",
           "+++ see, make, tri, peopl, year, could, also, time<br>--- right, greek, nazi, food, attack, int, kill, palestinian, output, pleas",
           "+++ want, call, time, also, tri<br>--- right, user, see, greek, nazi, distribut, look, mit, attack, kill",
           "+++ right, see, greek, state, think, peopl, first, even, call, could<br>--- jew, work, talk, someth, nazi, good, tell, armenian, israel, arm",
           "+++ want, say, way, two, think, make, question, org, tri, year<br>--- right, see, greek, nazi, distribut, look, attack, differ, realli, kill",
           "+++ see, two, even, think, make, year, time, well, first<br>--- right, greek, nazi, look, goal, player, attack, win, last, kill",
           "+++ state, also, two, want<br>--- right, see, greek, nazi, distribut, bank, look, attack, kill, anyon",
           "+++ right, see, armenian, think, peopl, armenia, first, kill, even, call<br>--- greek, nazi, someth, distribut, pat, arm, look, attack, still, come",
           "+++ right, see, human, say, state, way, think, even, make, mani<br>--- greek, nazi, attack, differ, kill, absolut, palestinian, take, truth, seem",
           "+++ world, year, time, first, also<br>--- right, see, greek, space, distribut, nazi, attack, project, kill, 1993",
           "+++ right, turkish, govern, way, two, armenian, even, make, peopl, could<br>--- user, see, greek, nazi, distribut, phone, attack, kill, palestinian, data"
          ],
          [
           "+++ well, think, time<br>--- right, see, clayton, 145, player, caltech, 6um, win, g9v, last",
           "+++ come, good, think, time<br>--- bibl, see, life, hell, jesu, 145, die, player, differ, 6um",
           "+++ well, good, think, time<br>--- right, distribut, 145, player, differ, american, 6um, win, g9v, kill",
           "+++ well, year, think, time<br>--- right, see, nazi, 145, attack, player, american, 6um, win, g9v",
           "+++ 6ei, bxn, 145, a86, 7ez, rlk, b4q, 6um, g9v, 1d9<br>--- better, good, think, air, qtm, 7ex, player, biz, win, last",
           "+++ year, time<br>--- see, 145, food, player, int, 6um, win, g9v, last, hall",
           "+++ time<br>--- user, distribut, 145, look, mit, player, 6um, win, g9v, last",
           "+++ come, good, think, year, time, well<br>--- right, see, greek, 145, look, player, 6um, win, g9v, last",
           "+++ good, think, year, time, well<br>--- distribut, 145, look, player, differ, realli, 6um, win, g9v, last",
           "+++ win, last, better, team, good, think, roger, basebal, play, game<br>--- see, 145, look, goal, 6um, g9v, hall, come, divis, 24e",
           "+++ good<br>--- distribut, 145, bank, look, player, 6um, win, g9v, last, anyon",
           "+++ come, think, year, time, well<br>--- right, see, distribut, 145, pat, look, player, 6um, win, g9v",
           "+++ well, good, think, time<br>--- right, see, 145, player, differ, 6um, win, g9v, last, absolut",
           "+++ year, time<br>--- space, distribut, 145, player, 6um, win, g9v, project, last, 1993",
           "+++ time<br>--- right, user, distribut, phone, 145, player, 6um, win, g9v, last"
          ],
          [
           "+++ right, see, netcom, say, anyon, think, system, thing, make, peopl<br>--- clayton, distribut, dealer, look, caltech, realli, uiuc, bnr, buy, sexual",
           "+++ see, want, say, way, good, even, think, thing, make, world<br>--- right, bibl, life, hell, jesu, distribut, dealer, die, look, differ",
           "+++ right, work, want, way, distribut, good, think, system, thing, make<br>--- see, dealer, look, differ, american, realli, kill, anyon, gun, uiuc",
           "+++ right, see, want, say, way, think, even, make, world, peopl<br>--- nazi, distribut, dealer, look, attack, american, realli, kill, anyon, uiuc",
           "+++ <br>--- right, see, distribut, 145, dealer, look, 7ex, 6um, realli, g9v",
           "+++ see, work, utexa, need, help, make, repli, tri, peopl, could<br>--- right, distribut, food, dealer, look, int, realli, anyon, uiuc, output",
           "+++ work, want, need, anyon, distribut, help, comput, system, run, repli<br>--- right, user, see, dealer, mit, realli, uiuc, data, memori, buy",
           "+++ right, see, work, good, think, peopl, look, news, even, call<br>--- greek, someth, distribut, repli, dealer, thank, realli, utexa, cool, anyon",
           "+++ work, distribut, good, think, repli, look, engin, realli, anyon, power<br>--- right, see, better, light, someth, road, dealer, peopl, bmw, news",
           "+++ see, got, better, good, think, even, run, make, look, year<br>--- right, distribut, dealer, goal, player, realli, win, last, anyon, uiuc",
           "+++ work, want, need, anyon, distribut, comput, good, car, system, repli<br>--- right, see, bank, dealer, realli, uiuc, pleas, appl, pittsburgh, say",
           "+++ right, see, work, want, say, way, distribut, think, even, thing<br>--- someth, armenian, good, pat, repli, dealer, armenia, thank, realli, still",
           "+++ right, see, say, way, good, think, even, thing, jim, make<br>--- distribut, dealer, look, differ, realli, absolut, anyon, uiuc, take, truth",
           "+++ work, distribut, gov, comput, system, world, year, news, also, time<br>--- right, see, space, dealer, look, realli, project, 1993, cost, anyon",
           "+++ right, work, need, way, distribut, comput, even, system, make, peopl<br>--- user, see, phone, dealer, look, realli, anyon, uiuc, data, buy"
          ],
          [
           "+++ right, say, new, think, system, thing, make, peopl, could, time<br>--- see, clayton, space, hous, caltech, american, anyon, gun, drug, take",
           "+++ want, say, way, point, law, good, even, think, thing, make<br>--- right, bibl, see, life, hell, jesu, space, hous, die, differ",
           "+++ right, work, state, good, think, peopl, time, american, point, gun<br>--- space, distribut, talk, arm, hous, rate, hard, problem, first, differ",
           "+++ right, state, think, peopl, first, american, point, even, could, well<br>--- see, work, nazi, space, talk, good, israel, hous, news, attack",
           "+++ <br>--- right, space, 145, hous, 7ex, 6um, american, g9v, wm4u, gun",
           "+++ work, need, program, make, peopl, year, could, also, time<br>--- right, see, space, hous, food, int, american, gun, output, drug",
           "+++ work, need, want, new, support, program, system, time, also<br>--- right, user, space, distribut, hous, look, mit, american, anyon, gun",
           "+++ right, work, state, talk, good, think, peopl, first, tax, even<br>--- see, greek, someth, space, tell, hous, look, news, american, public",
           "+++ work, want, need, say, way, new, good, think, thing, make<br>--- right, space, distribut, hous, look, differ, realli, american, anyon, gun",
           "+++ new, point, good, even, think, make, year, time, well, first<br>--- right, see, space, hous, look, goal, player, american, win, last",
           "+++ work, want, need, state, new, good, system, also<br>--- right, space, distribut, bank, hous, look, american, anyon, gun, drug",
           "+++ right, work, want, say, way, point, think, even, thing, said<br>--- see, space, someth, armenian, distribut, good, pat, hous, look, armenia",
           "+++ right, say, state, way, point, good, think, even, thing, make<br>--- see, space, hous, differ, american, absolut, gun, drug, truth, seem",
           "+++ public, work, nation, space, new, program, system, year, time, launch<br>--- right, distribut, hous, american, project, 1993, cost, gun, data, drug",
           "+++ right, public, work, need, govern, way, new, law, program, even<br>--- user, space, distribut, phone, hous, american, gun, data, drug, take"
          ],
          [
           "+++ right, see, think, peopl, caltech, keith, person, object, mani, could<br>--- work, solntz, clayton, homosexu, diseas, argument, someth, good, california, look",
           "+++ see, good, think, peopl, differ, islam, point, even, person, mani<br>--- must, bibl, faith, life, church, hell, jesu, right, work, book",
           "+++ right, work, good, think, peopl, problem, differ, kill, point, gun<br>--- see, state, argument, distribut, someth, arm, rate, look, hard, evid",
           "+++ right, see, think, peopl, kill, point, even, mani, could, well<br>--- work, state, nazi, argument, someth, good, israel, look, evid, news",
           "+++ <br>--- right, see, 145, look, 7ex, differ, caltech, 6um, realli, g9v",
           "+++ see, work, may, make, tri, peopl, could, read, year, problem<br>--- right, food, look, differ, int, caltech, realli, kill, gun, output",
           "+++ work, want, new, system, look, time, problem, also, tri<br>--- right, user, see, distribut, mit, differ, caltech, realli, kill, anyon",
           "+++ right, see, work, someth, good, think, peopl, look, even, could<br>--- greek, state, talk, argument, tell, evid, news, problem, first, differ",
           "+++ work, someth, good, think, look, problem, differ, realli, could, well<br>--- right, see, argument, distribut, light, repli, road, bmw, peopl, evid",
           "+++ see, back, new, point, good, think, even, make, look, year<br>--- right, goal, player, differ, caltech, realli, win, last, kill, gun",
           "+++ work, want, new, good, car, system, look, scienc, also<br>--- right, see, distribut, bank, differ, caltech, realli, kill, anyon, gun",
           "+++ right, see, work, someth, think, peopl, look, kill, point, even<br>--- argument, distribut, armenian, good, pat, armenia, evid, problem, differ, caltech",
           "+++ right, see, argument, someth, good, think, peopl, evid, problem, differ<br>--- must, work, state, look, caltech, realli, islam, human, keith, kill",
           "+++ work, new, system, year, time, may, scienc, also<br>--- right, see, space, distribut, look, differ, caltech, realli, project, kill",
           "+++ right, work, way, new, even, system, make, peopl, could, time<br>--- user, see, distribut, phone, look, differ, caltech, realli, kill, gun"
          ],
          [
           "+++ technolog, anyon, new, think, system, peopl, could, also, tri<br>--- right, see, clayton, space, distribut, pat, look, mit, caltech, alaska",
           "+++ point, good, think, question, peopl, may, find, also<br>--- bibl, see, life, hell, jesu, space, distribut, pat, look, die",
           "+++ work, state, distribut, point, good, think, system, peopl, file, could<br>--- right, space, pat, look, mit, differ, american, kill, anyon, gun",
           "+++ state, point, think, peopl, could, first, also<br>--- right, see, nazi, space, distribut, pat, look, mit, attack, american",
           "+++ <br>--- space, distribut, 145, pat, look, mit, 7ex, 6um, g9v, anyon",
           "+++ work, need, help, program, repli, tri, peopl, file, could, may<br>--- see, space, distribut, pat, food, look, mit, int, anyon, output",
           "+++ work, distribut, repli, look, mit, thank, problem, anyon, mail, file<br>--- version, user, space, server, good, think, pat, avail, peopl, chang",
           "+++ work, state, new, good, think, question, peopl, look, could, first<br>--- right, see, greek, space, distribut, pat, mit, anyon, come, take",
           "+++ work, need, anyon, new, distribut, help, good, think, repli, question<br>--- space, pat, mit, differ, realli, take, alaska, find, buy, pleas",
           "+++ new, point, good, think, john, look, first<br>--- see, space, distribut, pat, mit, goal, player, win, last, anyon",
           "+++ work, need, mail, state, anyon, distribut, new, good, comput, system<br>--- space, think, pat, bank, tri, hard, peopl, mit, chang, problem",
           "+++ digex, work, distribut, point, think, pat, peopl, look, could, usa<br>--- right, see, space, mit, kill, anyon, come, take, find, pleas",
           "+++ state, point, good, think, question, peopl, could, may, problem, also<br>--- right, see, space, distribut, pat, look, mit, differ, absolut, anyon",
           "+++ technolog, work, space, distribut, gov, research, new, system, program, comput<br>--- pat, look, mit, project, 1993, cost, anyon, data, alaska, find",
           "+++ technolog, work, need, internet, mail, new, distribut, comput, program, system<br>--- right, user, space, phone, pat, look, mit, anyon, data, alaska"
          ],
          [
           "+++ new, system, could, time, also<br>--- right, see, clayton, distribut, look, caltech, anyon, data, memori, bnr",
           "+++ also, want, time<br>--- bibl, see, life, hell, jesu, distribut, die, look, differ, come",
           "+++ speed, work, want, distribut, system, scsi, file, card, could, support<br>--- right, look, differ, american, kill, gun, data, memori, pleas, appl",
           "+++ also, want, could, time<br>--- right, see, nazi, distribut, look, attack, american, kill, data, memori",
           "+++ <br>--- distribut, 145, look, 7ex, 6um, g9v, wm4u, r8f, data, fyn",
           "+++ printer, work, need, includ, help, program, repli, file, could, time<br>--- see, distribut, food, look, int, output, data, memori, char, appl",
           "+++ version, work, mac, distribut, includ, repli, avail, look, thank, problem<br>--- user, server, mit, applic, screen, anyon, packag, call, mode, could",
           "+++ work, want, new, look, could, time, also<br>--- right, see, greek, distribut, come, data, take, memori, pleas, made",
           "+++ speed, work, want, need, new, distribut, help, run, repli, look<br>--- differ, realli, anyon, data, take, memori, buy, pleas, appl, high",
           "+++ run, new, look, time<br>--- see, distribut, goal, player, win, last, divis, data, memori, pleas",
           "+++ work, includ, distribut, mac, repli, look, thank, mail, card, pleas<br>--- version, state, good, bank, hard, avail, problem, time, ship, anyon",
           "+++ work, want, distribut, look, could, time<br>--- right, see, pat, kill, come, data, take, alaska, memori, pleas",
           "+++ problem, also, could, time<br>--- right, see, distribut, look, differ, absolut, data, take, memori, truth",
           "+++ work, includ, distribut, new, program, comput, system, imag, data, avail<br>--- space, look, project, 1993, cost, memori, pleas, appl, inform, launch",
           "+++ work, need, mail, new, distribut, bit, comput, program, system, data<br>--- right, user, phone, look, memori, pleas, appl, encrypt, inform, speed"
          ]
         ],
         "type": "heatmap",
         "z": [
          [
           0.9247311827956989,
           0.9247311827956989,
           0.8505747126436781,
           0.8636363636363636,
           1,
           0.8636363636363636,
           0.8764044943820225,
           0.8372093023255813,
           0.8636363636363636,
           0.8888888888888888,
           0.8372093023255813,
           0.9010989010989011,
           0.8888888888888888,
           0.717948717948718,
           0.8505747126436781
          ],
          [
           0.8636363636363636,
           0.8888888888888888,
           0.7951807228915663,
           0.9130434782608696,
           1,
           0.8372093023255813,
           0.6111111111111112,
           0.8505747126436781,
           0.7341772151898734,
           0.9130434782608696,
           0.7804878048780488,
           0.8888888888888888,
           0.8764044943820225,
           0.8888888888888888,
           0.8764044943820225
          ],
          [
           0.8505747126436781,
           0.8505747126436781,
           0.8235294117647058,
           0.8372093023255813,
           1,
           0.8372093023255813,
           0.8372093023255813,
           0.717948717948718,
           0.5915492957746479,
           0.8372093023255813,
           0.717948717948718,
           0.7951807228915663,
           0.7951807228915663,
           0.9010989010989011,
           0.8095238095238095
          ],
          [
           0.8505747126436781,
           0.24561403508771928,
           0.8372093023255813,
           0.7341772151898734,
           1,
           0.8888888888888888,
           0.9690721649484536,
           0.7654320987654322,
           0.8505747126436781,
           0.9130434782608696,
           0.9690721649484536,
           0.8095238095238095,
           0.5507246376811594,
           0.9583333333333334,
           0.9130434782608696
          ],
          [
           0.9130434782608696,
           0.9361702127659575,
           0.8888888888888888,
           0.9361702127659575,
           1,
           0.8764044943820225,
           0.6666666666666667,
           0.9130434782608696,
           0.9010989010989011,
           0.9583333333333334,
           0.8888888888888888,
           0.9361702127659575,
           0.9583333333333334,
           0.7951807228915663,
           0.4126984126984127
          ],
          [
           0.8636363636363636,
           0.7951807228915663,
           0.8372093023255813,
           0.7804878048780488,
           1,
           0.75,
           0.9247311827956989,
           0.5714285714285714,
           0.7804878048780488,
           0.8636363636363636,
           0.9361702127659575,
           0.6666666666666667,
           0.75,
           0.9361702127659575,
           0.8235294117647058
          ],
          [
           0.8888888888888888,
           0.9130434782608696,
           0.8505747126436781,
           0.8764044943820225,
           0.9795918367346939,
           0.9247311827956989,
           0.9010989010989011,
           0.8235294117647058,
           0.7951807228915663,
           0.9130434782608696,
           0.9247311827956989,
           0.8636363636363636,
           0.8764044943820225,
           0.8372093023255813,
           0.8888888888888888
          ],
          [
           0.9130434782608696,
           0.9130434782608696,
           0.8888888888888888,
           0.8636363636363636,
           1,
           0.9473684210526316,
           0.9473684210526316,
           0.8095238095238095,
           0.8372093023255813,
           0.33333333333333337,
           0.9130434782608696,
           0.8636363636363636,
           0.8888888888888888,
           0.9473684210526316,
           0.9247311827956989
          ],
          [
           0.8636363636363636,
           0.8372093023255813,
           0.8372093023255813,
           0.5507246376811594,
           1,
           0.9130434782608696,
           0.9473684210526316,
           0.717948717948718,
           0.8372093023255813,
           0.9010989010989011,
           0.9583333333333334,
           0.75,
           0.7804878048780488,
           0.9473684210526316,
           0.8505747126436781
          ],
          [
           0.9690721649484536,
           0.9583333333333334,
           0.9583333333333334,
           0.9583333333333334,
           0.5915492957746479,
           0.9795918367346939,
           0.98989898989899,
           0.9361702127659575,
           0.9473684210526316,
           0.8095238095238095,
           0.98989898989899,
           0.9473684210526316,
           0.9583333333333334,
           0.9795918367346939,
           0.98989898989899
          ],
          [
           0.8095238095238095,
           0.8505747126436781,
           0.7951807228915663,
           0.7951807228915663,
           1,
           0.8372093023255813,
           0.8095238095238095,
           0.717948717948718,
           0.6301369863013699,
           0.8636363636363636,
           0.8372093023255813,
           0.7951807228915663,
           0.7951807228915663,
           0.8888888888888888,
           0.8505747126436781
          ],
          [
           0.8505747126436781,
           0.8505747126436781,
           0.6842105263157895,
           0.717948717948718,
           1,
           0.9010989010989011,
           0.9010989010989011,
           0.5714285714285714,
           0.7951807228915663,
           0.8888888888888888,
           0.9130434782608696,
           0.7951807228915663,
           0.7804878048780488,
           0.8636363636363636,
           0.8095238095238095
          ],
          [
           0.717948717948718,
           0.717948717948718,
           0.7341772151898734,
           0.75,
           1,
           0.8505747126436781,
           0.9010989010989011,
           0.6842105263157895,
           0.6666666666666667,
           0.8636363636363636,
           0.9010989010989011,
           0.75,
           0.5074626865671642,
           0.9130434782608696,
           0.8636363636363636
          ],
          [
           0.9010989010989011,
           0.9130434782608696,
           0.8505747126436781,
           0.9247311827956989,
           1,
           0.8372093023255813,
           0.75,
           0.8636363636363636,
           0.8235294117647058,
           0.9247311827956989,
           0.7951807228915663,
           0.8505747126436781,
           0.8764044943820225,
           0.8235294117647058,
           0.8095238095238095
          ],
          [
           0.9473684210526316,
           0.9690721649484536,
           0.8235294117647058,
           0.9583333333333334,
           1,
           0.8372093023255813,
           0.46153846153846156,
           0.9247311827956989,
           0.8235294117647058,
           0.9583333333333334,
           0.7012987012987013,
           0.9361702127659575,
           0.9583333333333334,
           0.8505747126436781,
           0.8235294117647058
          ]
         ]
        }
       ],
       "layout": {
        "height": 950,
        "template": {
         "data": {
          "bar": [
           {
            "error_x": {
             "color": "#2a3f5f"
            },
            "error_y": {
             "color": "#2a3f5f"
            },
            "marker": {
             "line": {
              "color": "#E5ECF6",
              "width": 0.5
             },
             "pattern": {
              "fillmode": "overlay",
              "size": 10,
              "solidity": 0.2
             }
            },
            "type": "bar"
           }
          ],
          "barpolar": [
           {
            "marker": {
             "line": {
              "color": "#E5ECF6",
              "width": 0.5
             },
             "pattern": {
              "fillmode": "overlay",
              "size": 10,
              "solidity": 0.2
             }
            },
            "type": "barpolar"
           }
          ],
          "carpet": [
           {
            "aaxis": {
             "endlinecolor": "#2a3f5f",
             "gridcolor": "white",
             "linecolor": "white",
             "minorgridcolor": "white",
             "startlinecolor": "#2a3f5f"
            },
            "baxis": {
             "endlinecolor": "#2a3f5f",
             "gridcolor": "white",
             "linecolor": "white",
             "minorgridcolor": "white",
             "startlinecolor": "#2a3f5f"
            },
            "type": "carpet"
           }
          ],
          "choropleth": [
           {
            "colorbar": {
             "outlinewidth": 0,
             "ticks": ""
            },
            "type": "choropleth"
           }
          ],
          "contour": [
           {
            "colorbar": {
             "outlinewidth": 0,
             "ticks": ""
            },
            "colorscale": [
             [
              0,
              "#0d0887"
             ],
             [
              0.1111111111111111,
              "#46039f"
             ],
             [
              0.2222222222222222,
              "#7201a8"
             ],
             [
              0.3333333333333333,
              "#9c179e"
             ],
             [
              0.4444444444444444,
              "#bd3786"
             ],
             [
              0.5555555555555556,
              "#d8576b"
             ],
             [
              0.6666666666666666,
              "#ed7953"
             ],
             [
              0.7777777777777778,
              "#fb9f3a"
             ],
             [
              0.8888888888888888,
              "#fdca26"
             ],
             [
              1,
              "#f0f921"
             ]
            ],
            "type": "contour"
           }
          ],
          "contourcarpet": [
           {
            "colorbar": {
             "outlinewidth": 0,
             "ticks": ""
            },
            "type": "contourcarpet"
           }
          ],
          "heatmap": [
           {
            "colorbar": {
             "outlinewidth": 0,
             "ticks": ""
            },
            "colorscale": [
             [
              0,
              "#0d0887"
             ],
             [
              0.1111111111111111,
              "#46039f"
             ],
             [
              0.2222222222222222,
              "#7201a8"
             ],
             [
              0.3333333333333333,
              "#9c179e"
             ],
             [
              0.4444444444444444,
              "#bd3786"
             ],
             [
              0.5555555555555556,
              "#d8576b"
             ],
             [
              0.6666666666666666,
              "#ed7953"
             ],
             [
              0.7777777777777778,
              "#fb9f3a"
             ],
             [
              0.8888888888888888,
              "#fdca26"
             ],
             [
              1,
              "#f0f921"
             ]
            ],
            "type": "heatmap"
           }
          ],
          "heatmapgl": [
           {
            "colorbar": {
             "outlinewidth": 0,
             "ticks": ""
            },
            "colorscale": [
             [
              0,
              "#0d0887"
             ],
             [
              0.1111111111111111,
              "#46039f"
             ],
             [
              0.2222222222222222,
              "#7201a8"
             ],
             [
              0.3333333333333333,
              "#9c179e"
             ],
             [
              0.4444444444444444,
              "#bd3786"
             ],
             [
              0.5555555555555556,
              "#d8576b"
             ],
             [
              0.6666666666666666,
              "#ed7953"
             ],
             [
              0.7777777777777778,
              "#fb9f3a"
             ],
             [
              0.8888888888888888,
              "#fdca26"
             ],
             [
              1,
              "#f0f921"
             ]
            ],
            "type": "heatmapgl"
           }
          ],
          "histogram": [
           {
            "marker": {
             "pattern": {
              "fillmode": "overlay",
              "size": 10,
              "solidity": 0.2
             }
            },
            "type": "histogram"
           }
          ],
          "histogram2d": [
           {
            "colorbar": {
             "outlinewidth": 0,
             "ticks": ""
            },
            "colorscale": [
             [
              0,
              "#0d0887"
             ],
             [
              0.1111111111111111,
              "#46039f"
             ],
             [
              0.2222222222222222,
              "#7201a8"
             ],
             [
              0.3333333333333333,
              "#9c179e"
             ],
             [
              0.4444444444444444,
              "#bd3786"
             ],
             [
              0.5555555555555556,
              "#d8576b"
             ],
             [
              0.6666666666666666,
              "#ed7953"
             ],
             [
              0.7777777777777778,
              "#fb9f3a"
             ],
             [
              0.8888888888888888,
              "#fdca26"
             ],
             [
              1,
              "#f0f921"
             ]
            ],
            "type": "histogram2d"
           }
          ],
          "histogram2dcontour": [
           {
            "colorbar": {
             "outlinewidth": 0,
             "ticks": ""
            },
            "colorscale": [
             [
              0,
              "#0d0887"
             ],
             [
              0.1111111111111111,
              "#46039f"
             ],
             [
              0.2222222222222222,
              "#7201a8"
             ],
             [
              0.3333333333333333,
              "#9c179e"
             ],
             [
              0.4444444444444444,
              "#bd3786"
             ],
             [
              0.5555555555555556,
              "#d8576b"
             ],
             [
              0.6666666666666666,
              "#ed7953"
             ],
             [
              0.7777777777777778,
              "#fb9f3a"
             ],
             [
              0.8888888888888888,
              "#fdca26"
             ],
             [
              1,
              "#f0f921"
             ]
            ],
            "type": "histogram2dcontour"
           }
          ],
          "mesh3d": [
           {
            "colorbar": {
             "outlinewidth": 0,
             "ticks": ""
            },
            "type": "mesh3d"
           }
          ],
          "parcoords": [
           {
            "line": {
             "colorbar": {
              "outlinewidth": 0,
              "ticks": ""
             }
            },
            "type": "parcoords"
           }
          ],
          "pie": [
           {
            "automargin": true,
            "type": "pie"
           }
          ],
          "scatter": [
           {
            "fillpattern": {
             "fillmode": "overlay",
             "size": 10,
             "solidity": 0.2
            },
            "type": "scatter"
           }
          ],
          "scatter3d": [
           {
            "line": {
             "colorbar": {
              "outlinewidth": 0,
              "ticks": ""
             }
            },
            "marker": {
             "colorbar": {
              "outlinewidth": 0,
              "ticks": ""
             }
            },
            "type": "scatter3d"
           }
          ],
          "scattercarpet": [
           {
            "marker": {
             "colorbar": {
              "outlinewidth": 0,
              "ticks": ""
             }
            },
            "type": "scattercarpet"
           }
          ],
          "scattergeo": [
           {
            "marker": {
             "colorbar": {
              "outlinewidth": 0,
              "ticks": ""
             }
            },
            "type": "scattergeo"
           }
          ],
          "scattergl": [
           {
            "marker": {
             "colorbar": {
              "outlinewidth": 0,
              "ticks": ""
             }
            },
            "type": "scattergl"
           }
          ],
          "scattermapbox": [
           {
            "marker": {
             "colorbar": {
              "outlinewidth": 0,
              "ticks": ""
             }
            },
            "type": "scattermapbox"
           }
          ],
          "scatterpolar": [
           {
            "marker": {
             "colorbar": {
              "outlinewidth": 0,
              "ticks": ""
             }
            },
            "type": "scatterpolar"
           }
          ],
          "scatterpolargl": [
           {
            "marker": {
             "colorbar": {
              "outlinewidth": 0,
              "ticks": ""
             }
            },
            "type": "scatterpolargl"
           }
          ],
          "scatterternary": [
           {
            "marker": {
             "colorbar": {
              "outlinewidth": 0,
              "ticks": ""
             }
            },
            "type": "scatterternary"
           }
          ],
          "surface": [
           {
            "colorbar": {
             "outlinewidth": 0,
             "ticks": ""
            },
            "colorscale": [
             [
              0,
              "#0d0887"
             ],
             [
              0.1111111111111111,
              "#46039f"
             ],
             [
              0.2222222222222222,
              "#7201a8"
             ],
             [
              0.3333333333333333,
              "#9c179e"
             ],
             [
              0.4444444444444444,
              "#bd3786"
             ],
             [
              0.5555555555555556,
              "#d8576b"
             ],
             [
              0.6666666666666666,
              "#ed7953"
             ],
             [
              0.7777777777777778,
              "#fb9f3a"
             ],
             [
              0.8888888888888888,
              "#fdca26"
             ],
             [
              1,
              "#f0f921"
             ]
            ],
            "type": "surface"
           }
          ],
          "table": [
           {
            "cells": {
             "fill": {
              "color": "#EBF0F8"
             },
             "line": {
              "color": "white"
             }
            },
            "header": {
             "fill": {
              "color": "#C8D4E3"
             },
             "line": {
              "color": "white"
             }
            },
            "type": "table"
           }
          ]
         },
         "layout": {
          "annotationdefaults": {
           "arrowcolor": "#2a3f5f",
           "arrowhead": 0,
           "arrowwidth": 1
          },
          "autotypenumbers": "strict",
          "coloraxis": {
           "colorbar": {
            "outlinewidth": 0,
            "ticks": ""
           }
          },
          "colorscale": {
           "diverging": [
            [
             0,
             "#8e0152"
            ],
            [
             0.1,
             "#c51b7d"
            ],
            [
             0.2,
             "#de77ae"
            ],
            [
             0.3,
             "#f1b6da"
            ],
            [
             0.4,
             "#fde0ef"
            ],
            [
             0.5,
             "#f7f7f7"
            ],
            [
             0.6,
             "#e6f5d0"
            ],
            [
             0.7,
             "#b8e186"
            ],
            [
             0.8,
             "#7fbc41"
            ],
            [
             0.9,
             "#4d9221"
            ],
            [
             1,
             "#276419"
            ]
           ],
           "sequential": [
            [
             0,
             "#0d0887"
            ],
            [
             0.1111111111111111,
             "#46039f"
            ],
            [
             0.2222222222222222,
             "#7201a8"
            ],
            [
             0.3333333333333333,
             "#9c179e"
            ],
            [
             0.4444444444444444,
             "#bd3786"
            ],
            [
             0.5555555555555556,
             "#d8576b"
            ],
            [
             0.6666666666666666,
             "#ed7953"
            ],
            [
             0.7777777777777778,
             "#fb9f3a"
            ],
            [
             0.8888888888888888,
             "#fdca26"
            ],
            [
             1,
             "#f0f921"
            ]
           ],
           "sequentialminus": [
            [
             0,
             "#0d0887"
            ],
            [
             0.1111111111111111,
             "#46039f"
            ],
            [
             0.2222222222222222,
             "#7201a8"
            ],
            [
             0.3333333333333333,
             "#9c179e"
            ],
            [
             0.4444444444444444,
             "#bd3786"
            ],
            [
             0.5555555555555556,
             "#d8576b"
            ],
            [
             0.6666666666666666,
             "#ed7953"
            ],
            [
             0.7777777777777778,
             "#fb9f3a"
            ],
            [
             0.8888888888888888,
             "#fdca26"
            ],
            [
             1,
             "#f0f921"
            ]
           ]
          },
          "colorway": [
           "#636efa",
           "#EF553B",
           "#00cc96",
           "#ab63fa",
           "#FFA15A",
           "#19d3f3",
           "#FF6692",
           "#B6E880",
           "#FF97FF",
           "#FECB52"
          ],
          "font": {
           "color": "#2a3f5f"
          },
          "geo": {
           "bgcolor": "white",
           "lakecolor": "white",
           "landcolor": "#E5ECF6",
           "showlakes": true,
           "showland": true,
           "subunitcolor": "white"
          },
          "hoverlabel": {
           "align": "left"
          },
          "hovermode": "closest",
          "mapbox": {
           "style": "light"
          },
          "paper_bgcolor": "white",
          "plot_bgcolor": "#E5ECF6",
          "polar": {
           "angularaxis": {
            "gridcolor": "white",
            "linecolor": "white",
            "ticks": ""
           },
           "bgcolor": "#E5ECF6",
           "radialaxis": {
            "gridcolor": "white",
            "linecolor": "white",
            "ticks": ""
           }
          },
          "scene": {
           "xaxis": {
            "backgroundcolor": "#E5ECF6",
            "gridcolor": "white",
            "gridwidth": 2,
            "linecolor": "white",
            "showbackground": true,
            "ticks": "",
            "zerolinecolor": "white"
           },
           "yaxis": {
            "backgroundcolor": "#E5ECF6",
            "gridcolor": "white",
            "gridwidth": 2,
            "linecolor": "white",
            "showbackground": true,
            "ticks": "",
            "zerolinecolor": "white"
           },
           "zaxis": {
            "backgroundcolor": "#E5ECF6",
            "gridcolor": "white",
            "gridwidth": 2,
            "linecolor": "white",
            "showbackground": true,
            "ticks": "",
            "zerolinecolor": "white"
           }
          },
          "shapedefaults": {
           "line": {
            "color": "#2a3f5f"
           }
          },
          "ternary": {
           "aaxis": {
            "gridcolor": "white",
            "linecolor": "white",
            "ticks": ""
           },
           "baxis": {
            "gridcolor": "white",
            "linecolor": "white",
            "ticks": ""
           },
           "bgcolor": "#E5ECF6",
           "caxis": {
            "gridcolor": "white",
            "linecolor": "white",
            "ticks": ""
           }
          },
          "title": {
           "x": 0.05
          },
          "xaxis": {
           "automargin": true,
           "gridcolor": "white",
           "linecolor": "white",
           "ticks": "",
           "title": {
            "standoff": 15
           },
           "zerolinecolor": "white",
           "zerolinewidth": 2
          },
          "yaxis": {
           "automargin": true,
           "gridcolor": "white",
           "linecolor": "white",
           "ticks": "",
           "title": {
            "standoff": 15
           },
           "zerolinecolor": "white",
           "zerolinewidth": 2
          }
         }
        },
        "title": {
         "text": "Topic difference (two models)[jaccard distance]"
        },
        "width": 950,
        "xaxis": {
         "autorange": true,
         "range": [
          -0.5,
          14.5
         ],
         "title": {
          "text": "topic"
         }
        },
        "yaxis": {
         "autorange": true,
         "range": [
          -0.5,
          14.5
         ],
         "title": {
          "text": "topic"
         }
        }
       }
      },
      "image/png": "[encoded data removed]",
      "text/html": [
       "<div>                            <div id=\"e23c72c0-0a0f-450e-b7b1-4f85ebb0d68d\" class=\"plotly-graph-div\" style=\"height:950px; width:950px;\"></div>            <script type=\"text/javascript\">                require([\"plotly\"], function(Plotly) {                    window.PLOTLYENV=window.PLOTLYENV || {};                                    if (document.getElementById(\"e23c72c0-0a0f-450e-b7b1-4f85ebb0d68d\")) {                    Plotly.newPlot(                        \"e23c72c0-0a0f-450e-b7b1-4f85ebb0d68d\",                        [{\"colorscale\":[[0.0,\"rgb(103,0,31)\"],[0.1,\"rgb(178,24,43)\"],[0.2,\"rgb(214,96,77)\"],[0.3,\"rgb(244,165,130)\"],[0.4,\"rgb(253,219,199)\"],[0.5,\"rgb(247,247,247)\"],[0.6,\"rgb(209,229,240)\"],[0.7,\"rgb(146,197,222)\"],[0.8,\"rgb(67,147,195)\"],[0.9,\"rgb(33,102,172)\"],[1.0,\"rgb(5,48,97)\"]],\"text\":[[\"+++ new, think, system, make, could, time, also<br>--- right, see, clayton, space, distribut, duke, look, caltech, american, anyon\",\"+++ good, think, make, world, time, may, also<br>--- bibl, see, life, hell, jesu, space, distribut, duke, die, look\",\"+++ american, state, distribut, good, think, gun, system, make, file, could<br>--- right, space, duke, look, differ, kill, 1993, rochest, speed, inform\",\"+++ american, state, think, said, make, world, could, news, year, first<br>--- right, see, nazi, space, distribut, duke, look, attack, kill, 1993\",\"+++ <br>--- space, distribut, 145, duke, look, 7ex, 6um, american, g9v, 1993\",\"+++ inform, send, includ, make, repli, sun, file, could, year, may<br>--- see, space, distribut, food, duke, look, int, american, 1993, gun\",\"+++ mail, includ, distribut, new, comput, system, repli, look, file, time<br>--- user, space, duke, mit, american, anyon, 1993, gun, data, memori\",\"+++ state, new, two, good, think, said, make, look, could, news<br>--- right, see, greek, space, distribut, duke, american, 1993, come, gun\",\"+++ new, distribut, two, good, think, make, repli, look, could, year<br>--- space, duke, differ, realli, american, anyon, 1993, gun, take, buy\",\"+++ new, two, good, john, think, make, look, year, time, first<br>--- see, space, distribut, duke, goal, player, american, win, last, 1993\",\"+++ send, mail, state, includ, distribut, new, good, comput, system, two<br>--- space, bank, duke, american, anyon, 1993, gun, pleas, buy, rochest\",\"+++ distribut, two, think, said, look, could, year, first, time<br>--- right, see, space, pat, duke, american, kill, 1993, come, gun\",\"+++ state, good, think, make, could, time, may, said, scienc, also<br>--- right, see, space, distribut, duke, look, differ, american, absolut, 1993\",\"+++ space, distribut, includ, news, first, institut, satellit, 1993, world, may<br>--- lunar, work, state, moon, good, think, repli, group, flight, avail\",\"+++ inform, mail, new, distribut, comput, two, system, make, file, could<br>--- right, user, space, phone, duke, look, american, 1993, gun, data\"],[\"+++ seem, anyon, new, think, system, thing, make, time, much, well<br>--- right, see, clayton, distribut, look, mil, caltech, memori, bnr, pleas\",\"+++ seem, want, good, think, thing, make, world, read, also, time<br>--- bibl, see, life, hell, jesu, distribut, die, look, mil, differ\",\"+++ work, want, distribut, well, good, think, system, thing, make, file<br>--- right, look, mil, differ, american, kill, anyon, gun, memori, pleas\",\"+++ seem, want, think, make, world, time, well, also<br>--- right, see, nazi, distribut, look, mil, attack, american, kill, anyon\",\"+++ <br>--- distribut, 145, look, mil, 7ex, 6um, g9v, anyon, wm4u, r8f\",\"+++ time, work, need, help, program, make, repli, tri, file, read<br>--- see, distribut, food, look, mil, int, anyon, output, memori, buy\",\"+++ version, work, distribut, repli, look, thank, problem, screen, anyon, call<br>--- user, mac, includ, server, good, think, avail, mit, applic, mil\",\"+++ work, want, new, good, think, thing, call, make, look, time<br>--- right, see, greek, distribut, mil, anyon, come, take, memori, pleas\",\"+++ work, distribut, good, think, repli, look, problem, anyon, well, buy<br>--- version, light, someth, road, bmw, mil, thank, engin, differ, dod\",\"+++ new, good, think, run, make, look, time, well<br>--- see, distribut, goal, player, mil, win, last, anyon, divis, memori\",\"+++ work, want, monitor, anyon, need, new, distribut, comput, good, buy<br>--- version, think, bank, tri, hard, mil, problem, read, memori, price\",\"+++ work, want, distribut, think, thing, call, look, usa, time, well<br>--- right, see, pat, mil, kill, anyon, come, take, alaska, memori\",\"+++ seem, well, good, think, thing, make, time, much, problem, also<br>--- right, see, distribut, look, mil, differ, absolut, anyon, take, memori\",\"+++ work, new, distribut, gov, program, comput, system, world, time, also<br>--- space, look, mil, project, 1993, cost, anyon, data, memori, pleas\",\"+++ work, need, new, distribut, comput, program, system, make, file, time<br>--- right, user, phone, look, mil, anyon, data, memori, pleas, buy\"],[\"+++ see, say, anyon, new, think, thing, make, peopl, could, time<br>--- right, michael, clayton, distribut, bank, look, caltech, realli, bnr, pleas\",\"+++ see, want, say, way, good, even, think, thing, make, peopl<br>--- michael, bibl, life, hell, jesu, distribut, bank, die, look, differ\",\"+++ work, want, state, way, distribut, good, think, thing, make, peopl<br>--- right, michael, see, bank, look, differ, american, realli, kill, anyon\",\"+++ see, want, say, state, way, even, think, make, peopl, could<br>--- right, michael, nazi, distribut, bank, look, attack, american, realli, kill\",\"+++ <br>--- michael, see, distribut, 145, bank, look, 7ex, 6um, realli, g9v\",\"+++ see, time, work, need, make, repli, sun, tri, peopl, could<br>--- michael, distribut, bank, food, look, int, realli, anyon, output, char\",\"+++ work, want, need, anyon, mail, new, distribut, comput, run, repli<br>--- michael, user, see, bank, mit, realli, data, memori, pleas, pittsburgh\",\"+++ see, work, state, good, think, peopl, look, even, could, well<br>--- right, michael, greek, talk, someth, distribut, tell, bank, repli, news\",\"+++ work, distribut, good, think, repli, look, engin, dod, realli, anyon<br>--- michael, see, andrew, state, light, someth, road, bank, peopl, bmw\",\"+++ see, back, new, two, good, even, think, pittsburgh, run, make<br>--- michael, distribut, bank, goal, player, realli, win, last, anyon, divis\",\"+++ work, state, distribut, good, repli, bank, look, mail, anyon, pleas<br>--- michael, see, includ, mac, think, tri, hard, peopl, thank, engin\",\"+++ see, work, want, say, back, way, distribut, two, think, even<br>--- right, michael, someth, armenian, good, pat, bank, repli, armenia, realli\",\"+++ see, say, state, way, good, think, even, thing, make, tri<br>--- right, michael, distribut, bank, look, differ, realli, absolut, anyon, take\",\"+++ work, new, distribut, comput, year, time, may, scienc, also<br>--- michael, see, space, bank, look, realli, project, 1993, cost, anyon\",\"+++ work, need, mail, way, new, distribut, comput, two, even, make<br>--- right, michael, user, see, phone, bank, look, realli, anyon, data\"],[\"+++ see, seem, say, think, person, mani, thing, make, peopl, could<br>--- right, bibl, life, clayton, jesu, differ, caltech, anyon, come, word\",\"+++ must, bibl, see, life, faith, church, jesu, book, good, think<br>--- hell, die, islam, love, well, could, find, truth, reason, atheist\",\"+++ want, way, point, good, think, thing, mani, make, peopl, could<br>--- right, bibl, see, life, jesu, distribut, american, kill, come, gun\",\"+++ see, think, peopl, point, even, mani, world, could, believ, well<br>--- right, must, life, bibl, faith, church, jesu, state, nazi, book\",\"+++ <br>--- bibl, see, life, jesu, 145, 7ex, differ, 6um, g9v, come\",\"+++ must, see, make, peopl, follow, could, read, may, also, time<br>--- bibl, life, jesu, food, differ, int, come, output, word, pleas\",\"+++ also, want, time<br>--- bibl, user, see, life, jesu, distribut, look, mit, differ, anyon\",\"+++ see, good, think, peopl, come, even, could, believ, well, want<br>--- right, must, life, greek, bibl, work, faith, church, jesu, state\",\"+++ want, say, way, good, think, thing, make, question, could, time<br>--- bibl, see, life, jesu, distribut, look, realli, anyon, come, take\",\"+++ see, point, good, even, think, make, time, well<br>--- bibl, life, jesu, look, goal, player, differ, win, last, come\",\"+++ also, good, want<br>--- bibl, see, life, jesu, distribut, bank, look, differ, anyon, come\",\"+++ see, want, say, way, come, point, live, think, even, thing<br>--- right, bibl, life, jesu, distribut, pat, look, differ, kill, take\",\"+++ must, see, good, think, peopl, differ, point, even, person, mani<br>--- right, bibl, life, faith, church, jesu, state, argument, someth, book\",\"+++ may, world, also, time<br>--- bibl, see, life, jesu, space, distribut, differ, project, 1993, cost\",\"+++ way, even, make, peopl, could, time, may, also<br>--- right, bibl, user, see, life, jesu, distribut, phone, differ, come\"],[\"+++ technolog, number, new, commun, system, make, time, also<br>--- right, see, user, clayton, distribut, phone, caltech, anyon, data, bnr\",\"+++ want, law, make, time, may, also<br>--- bibl, see, life, hell, user, jesu, distribut, phone, die, differ\",\"+++ work, number, want, distribut, law, system, make, file, time, also<br>--- right, user, phone, differ, american, kill, gun, data, encrypt, speed\",\"+++ want, govern, law, make, time, also<br>--- right, see, user, nazi, distribut, phone, attack, american, kill, data\",\"+++ <br>--- user, distribut, 145, phone, 7ex, 6um, g9v, wm4u, r8f, data\",\"+++ inform, work, number, need, includ, program, make, file, time, may<br>--- see, user, distribut, phone, food, int, output, data, pleas, char\",\"+++ user, work, includ, distribut, server, avail, applic, mail, bit, call<br>--- version, mac, phone, repli, mit, look, thank, problem, algorithm, screen\",\"+++ work, want, new, law, make, call, time, also<br>--- right, see, greek, user, distribut, phone, look, come, data, take\",\"+++ work, need, want, new, distribut, make, run, time, also<br>--- user, phone, look, differ, realli, anyon, data, take, buy, high\",\"+++ run, new, make, time<br>--- see, user, distribut, phone, look, goal, player, win, last, divis\",\"+++ work, want, need, mail, includ, distribut, new, comput, system, also<br>--- user, phone, bank, look, anyon, data, pleas, buy, appl, pittsburgh\",\"+++ work, want, distribut, call, time, access<br>--- right, see, user, phone, pat, look, kill, come, data, take\",\"+++ make, may, also, time<br>--- right, see, user, distribut, phone, differ, absolut, data, take, truth\",\"+++ inform, technolog, gener, public, work, includ, distribut, new, program, comput<br>--- user, space, phone, project, 1993, cost, encrypt, launch, anonym, access\",\"+++ user, work, distribut, phone, avail, algorithm, gener, technolog, public, number<br>--- right, includ, armenian, server, administr, peopl, applic, protect, even, call\"],[\"+++ right, see, number, say, think, thing, make, peopl, could, time<br>--- clayton, colorado, look, caltech, anyon, come, output, take, bnr, sexual\",\"+++ must, see, want, say, way, come, law, think, even, thing<br>--- right, bibl, life, hell, jesu, colorado, look, die, differ, output\",\"+++ right, number, want, way, law, think, thing, make, peopl, file<br>--- see, distribut, colorado, look, differ, american, kill, come, gun, output\",\"+++ right, see, want, say, way, law, think, even, said, make<br>--- must, state, nazi, someth, colorado, tell, ground, israel, look, news\",\"+++ <br>--- right, see, colorado, 145, look, 7ex, 6um, g9v, come, wm4u\",\"+++ must, see, peopl, rule, number, output, file, could, may, section<br>--- right, someth, colorado, think, msg, repli, food, look, thank, problem\",\"+++ need, want, program, file, look, time, also<br>--- right, user, see, distribut, colorado, mit, anyon, come, data, output\",\"+++ right, see, someth, think, also, peopl, look, first, come, even<br>--- must, greek, work, state, talk, colorado, good, ground, news, rule\",\"+++ want, need, back, say, way, someth, two, think, thing, make<br>--- right, see, distribut, colorado, differ, realli, anyon, come, output, buy\",\"+++ see, back, two, even, think, make, look, year, time, well<br>--- right, colorado, goal, player, win, last, come, divis, output, take\",\"+++ need, want, two, look, ask, also<br>--- right, see, distribut, colorado, bank, anyon, come, output, take, pleas\",\"+++ right, see, someth, think, peopl, look, first, come, even, could<br>--- must, work, armenian, distribut, also, colorado, pat, ground, armenia, rule\",\"+++ right, must, see, someth, think, peopl, even, could, may, well<br>--- state, argument, colorado, good, tell, ground, look, evid, rule, problem\",\"+++ program, year, time, may, first, also<br>--- right, see, space, distribut, colorado, look, project, 1993, cost, come\",\"+++ right, number, need, way, law, two, program, even, make, file<br>--- user, see, distribut, colorado, phone, look, come, data, output, take\"],[\"+++ right, medic, number, diseas, new, think, system, time, well, also<br>--- see, 000, clayton, distribut, caltech, drink, anyon, 1993, left, take\",\"+++ way, good, even, think, world, day, time, also<br>--- right, bibl, see, life, hell, 000, jesu, distribut, die, differ\",\"+++ right, number, state, way, distribut, well, good, think, system, control<br>--- 000, differ, american, drink, kill, 1993, gun, left, take, rider\",\"+++ right, state, way, even, think, world, year, time, well, first<br>--- see, 000, nazi, distribut, attack, american, drink, kill, 1993, left\",\"+++ air, chz<br>--- right, 000, distribut, 145, 7ex, 6um, drink, g9v, 1993, wm4u\",\"+++ number, help, year, time, problem, caus, also<br>--- right, see, 000, distribut, food, int, drink, 1993, output, left\",\"+++ new, distribut, bit, help, system, call, time, problem, also<br>--- right, user, 000, look, mit, drink, anyon, 1993, data, left\",\"+++ right, state, way, new, good, think, even, call, year, time<br>--- see, greek, 000, distribut, look, drink, 1993, come, left, rider\",\"+++ motorcycl, way, new, distribut, well, good, think, help, bike, turn<br>--- right, 000, look, differ, realli, drink, anyon, 1993, left, rider\",\"+++ new, good, even, think, year, time, well, first<br>--- right, see, 000, distribut, look, goal, player, drink, win, last\",\"+++ state, new, distribut, ibm, good, system, also<br>--- right, 000, bank, look, drink, anyon, 1993, left, take, rider\",\"+++ right, way, distribut, even, think, call, year, time, day, well<br>--- see, 000, pat, look, drink, kill, 1993, come, left, alaska\",\"+++ right, state, way, well, good, think, even, time, problem, take<br>--- see, 000, distribut, differ, drink, absolut, 1993, left, rider, truth\",\"+++ 1993, research, distribut, gov, new, system, world, april, nasa, year<br>--- right, 000, space, drink, project, cost, data, left, take, rider\",\"+++ right, number, way, new, distribut, bit, even, system, time, also<br>--- user, 000, phone, drink, 1993, data, left, take, rider, encrypt\"],[\"+++ right, see, new, think, make, time, well, also<br>--- clayton, look, goal, player, final, caltech, win, last, anyon, shot\",\"+++ see, point, good, even, think, make, time, also<br>--- right, bibl, life, hell, jesu, die, look, goal, player, final\",\"+++ right, point, good, think, make, hard, drive, time, well, also<br>--- see, distribut, look, goal, player, final, differ, american, win, kill\",\"+++ right, see, point, think, even, make, power, year, time, well<br>--- nazi, look, goal, attack, player, final, american, win, kill, last\",\"+++ <br>--- right, see, 145, look, goal, 7ex, player, final, 6um, win\",\"+++ see, make, year, time, also<br>--- right, food, look, goal, player, final, int, win, last, shot\",\"+++ new, run, look, time, also<br>--- right, user, see, distribut, mit, goal, player, final, win, last\",\"+++ right, see, got, back, new, two, good, think, even, make<br>--- greek, goal, player, final, win, last, come, shot, divis, wing\",\"+++ back, new, two, good, think, make, run, power, look, drive<br>--- right, see, distribut, goal, player, final, differ, realli, win, last\",\"+++ see, red, good, think, nhl, look, goal, player, fan, first<br>--- right, better, also, next, hard, final, shot, john, trade, defens\",\"+++ new, two, good, pittsburgh, look, hard, drive, also<br>--- right, see, distribut, bank, goal, player, final, win, last, anyon\",\"+++ right, see, back, point, two, think, even, look, year, time<br>--- distribut, pat, goal, player, final, win, kill, last, come, shot\",\"+++ right, see, point, good, think, even, make, time, well, also<br>--- look, goal, player, final, differ, win, last, absolut, shot, divis\",\"+++ new, year, time, first, also<br>--- right, see, space, distribut, look, goal, player, final, win, project\",\"+++ right, new, two, even, make, time, also<br>--- user, see, distribut, phone, look, goal, player, final, win, last\"],[\"+++ right, see, say, think, make, mani, peopl, could, time, well<br>--- greek, clayton, nazi, attack, caltech, kill, anyon, palestinian, bnr, sexual\",\"+++ see, want, say, way, live, even, think, make, mani, question<br>--- right, bibl, life, hell, greek, jesu, nazi, die, attack, differ\",\"+++ right, kill, want, state, way, think, make, arm, mani, peopl<br>--- see, greek, nazi, distribut, attack, differ, american, gun, palestinian, isra\",\"+++ right, see, jew, state, nazi, think, israel, peopl, attack, first<br>--- greek, armenian, arm, armenia, news, children, peac, american, human, point\",\"+++ <br>--- right, see, greek, nazi, 145, 7ex, attack, 6um, g9v, kill\",\"+++ see, make, tri, peopl, year, could, also, time<br>--- right, greek, nazi, food, attack, int, kill, palestinian, output, pleas\",\"+++ want, call, time, also, tri<br>--- right, user, see, greek, nazi, distribut, look, mit, attack, kill\",\"+++ right, see, greek, state, think, peopl, first, even, call, could<br>--- jew, work, talk, someth, nazi, good, tell, armenian, israel, arm\",\"+++ want, say, way, two, think, make, question, org, tri, year<br>--- right, see, greek, nazi, distribut, look, attack, differ, realli, kill\",\"+++ see, two, even, think, make, year, time, well, first<br>--- right, greek, nazi, look, goal, player, attack, win, last, kill\",\"+++ state, also, two, want<br>--- right, see, greek, nazi, distribut, bank, look, attack, kill, anyon\",\"+++ right, see, armenian, think, peopl, armenia, first, kill, even, call<br>--- greek, nazi, someth, distribut, pat, arm, look, attack, still, come\",\"+++ right, see, human, say, state, way, think, even, make, mani<br>--- greek, nazi, attack, differ, kill, absolut, palestinian, take, truth, seem\",\"+++ world, year, time, first, also<br>--- right, see, greek, space, distribut, nazi, attack, project, kill, 1993\",\"+++ right, turkish, govern, way, two, armenian, even, make, peopl, could<br>--- user, see, greek, nazi, distribut, phone, attack, kill, palestinian, data\"],[\"+++ well, think, time<br>--- right, see, clayton, 145, player, caltech, 6um, win, g9v, last\",\"+++ come, good, think, time<br>--- bibl, see, life, hell, jesu, 145, die, player, differ, 6um\",\"+++ well, good, think, time<br>--- right, distribut, 145, player, differ, american, 6um, win, g9v, kill\",\"+++ well, year, think, time<br>--- right, see, nazi, 145, attack, player, american, 6um, win, g9v\",\"+++ 6ei, bxn, 145, a86, 7ez, rlk, b4q, 6um, g9v, 1d9<br>--- better, good, think, air, qtm, 7ex, player, biz, win, last\",\"+++ year, time<br>--- see, 145, food, player, int, 6um, win, g9v, last, hall\",\"+++ time<br>--- user, distribut, 145, look, mit, player, 6um, win, g9v, last\",\"+++ come, good, think, year, time, well<br>--- right, see, greek, 145, look, player, 6um, win, g9v, last\",\"+++ good, think, year, time, well<br>--- distribut, 145, look, player, differ, realli, 6um, win, g9v, last\",\"+++ win, last, better, team, good, think, roger, basebal, play, game<br>--- see, 145, look, goal, 6um, g9v, hall, come, divis, 24e\",\"+++ good<br>--- distribut, 145, bank, look, player, 6um, win, g9v, last, anyon\",\"+++ come, think, year, time, well<br>--- right, see, distribut, 145, pat, look, player, 6um, win, g9v\",\"+++ well, good, think, time<br>--- right, see, 145, player, differ, 6um, win, g9v, last, absolut\",\"+++ year, time<br>--- space, distribut, 145, player, 6um, win, g9v, project, last, 1993\",\"+++ time<br>--- right, user, distribut, phone, 145, player, 6um, win, g9v, last\"],[\"+++ right, see, netcom, say, anyon, think, system, thing, make, peopl<br>--- clayton, distribut, dealer, look, caltech, realli, uiuc, bnr, buy, sexual\",\"+++ see, want, say, way, good, even, think, thing, make, world<br>--- right, bibl, life, hell, jesu, distribut, dealer, die, look, differ\",\"+++ right, work, want, way, distribut, good, think, system, thing, make<br>--- see, dealer, look, differ, american, realli, kill, anyon, gun, uiuc\",\"+++ right, see, want, say, way, think, even, make, world, peopl<br>--- nazi, distribut, dealer, look, attack, american, realli, kill, anyon, uiuc\",\"+++ <br>--- right, see, distribut, 145, dealer, look, 7ex, 6um, realli, g9v\",\"+++ see, work, utexa, need, help, make, repli, tri, peopl, could<br>--- right, distribut, food, dealer, look, int, realli, anyon, uiuc, output\",\"+++ work, want, need, anyon, distribut, help, comput, system, run, repli<br>--- right, user, see, dealer, mit, realli, uiuc, data, memori, buy\",\"+++ right, see, work, good, think, peopl, look, news, even, call<br>--- greek, someth, distribut, repli, dealer, thank, realli, utexa, cool, anyon\",\"+++ work, distribut, good, think, repli, look, engin, realli, anyon, power<br>--- right, see, better, light, someth, road, dealer, peopl, bmw, news\",\"+++ see, got, better, good, think, even, run, make, look, year<br>--- right, distribut, dealer, goal, player, realli, win, last, anyon, uiuc\",\"+++ work, want, need, anyon, distribut, comput, good, car, system, repli<br>--- right, see, bank, dealer, realli, uiuc, pleas, appl, pittsburgh, say\",\"+++ right, see, work, want, say, way, distribut, think, even, thing<br>--- someth, armenian, good, pat, repli, dealer, armenia, thank, realli, still\",\"+++ right, see, say, way, good, think, even, thing, jim, make<br>--- distribut, dealer, look, differ, realli, absolut, anyon, uiuc, take, truth\",\"+++ work, distribut, gov, comput, system, world, year, news, also, time<br>--- right, see, space, dealer, look, realli, project, 1993, cost, anyon\",\"+++ right, work, need, way, distribut, comput, even, system, make, peopl<br>--- user, see, phone, dealer, look, realli, anyon, uiuc, data, buy\"],[\"+++ right, say, new, think, system, thing, make, peopl, could, time<br>--- see, clayton, space, hous, caltech, american, anyon, gun, drug, take\",\"+++ want, say, way, point, law, good, even, think, thing, make<br>--- right, bibl, see, life, hell, jesu, space, hous, die, differ\",\"+++ right, work, state, good, think, peopl, time, american, point, gun<br>--- space, distribut, talk, arm, hous, rate, hard, problem, first, differ\",\"+++ right, state, think, peopl, first, american, point, even, could, well<br>--- see, work, nazi, space, talk, good, israel, hous, news, attack\",\"+++ <br>--- right, space, 145, hous, 7ex, 6um, american, g9v, wm4u, gun\",\"+++ work, need, program, make, peopl, year, could, also, time<br>--- right, see, space, hous, food, int, american, gun, output, drug\",\"+++ work, need, want, new, support, program, system, time, also<br>--- right, user, space, distribut, hous, look, mit, american, anyon, gun\",\"+++ right, work, state, talk, good, think, peopl, first, tax, even<br>--- see, greek, someth, space, tell, hous, look, news, american, public\",\"+++ work, want, need, say, way, new, good, think, thing, make<br>--- right, space, distribut, hous, look, differ, realli, american, anyon, gun\",\"+++ new, point, good, even, think, make, year, time, well, first<br>--- right, see, space, hous, look, goal, player, american, win, last\",\"+++ work, want, need, state, new, good, system, also<br>--- right, space, distribut, bank, hous, look, american, anyon, gun, drug\",\"+++ right, work, want, say, way, point, think, even, thing, said<br>--- see, space, someth, armenian, distribut, good, pat, hous, look, armenia\",\"+++ right, say, state, way, point, good, think, even, thing, make<br>--- see, space, hous, differ, american, absolut, gun, drug, truth, seem\",\"+++ public, work, nation, space, new, program, system, year, time, launch<br>--- right, distribut, hous, american, project, 1993, cost, gun, data, drug\",\"+++ right, public, work, need, govern, way, new, law, program, even<br>--- user, space, distribut, phone, hous, american, gun, data, drug, take\"],[\"+++ right, see, think, peopl, caltech, keith, person, object, mani, could<br>--- work, solntz, clayton, homosexu, diseas, argument, someth, good, california, look\",\"+++ see, good, think, peopl, differ, islam, point, even, person, mani<br>--- must, bibl, faith, life, church, hell, jesu, right, work, book\",\"+++ right, work, good, think, peopl, problem, differ, kill, point, gun<br>--- see, state, argument, distribut, someth, arm, rate, look, hard, evid\",\"+++ right, see, think, peopl, kill, point, even, mani, could, well<br>--- work, state, nazi, argument, someth, good, israel, look, evid, news\",\"+++ <br>--- right, see, 145, look, 7ex, differ, caltech, 6um, realli, g9v\",\"+++ see, work, may, make, tri, peopl, could, read, year, problem<br>--- right, food, look, differ, int, caltech, realli, kill, gun, output\",\"+++ work, want, new, system, look, time, problem, also, tri<br>--- right, user, see, distribut, mit, differ, caltech, realli, kill, anyon\",\"+++ right, see, work, someth, good, think, peopl, look, even, could<br>--- greek, state, talk, argument, tell, evid, news, problem, first, differ\",\"+++ work, someth, good, think, look, problem, differ, realli, could, well<br>--- right, see, argument, distribut, light, repli, road, bmw, peopl, evid\",\"+++ see, back, new, point, good, think, even, make, look, year<br>--- right, goal, player, differ, caltech, realli, win, last, kill, gun\",\"+++ work, want, new, good, car, system, look, scienc, also<br>--- right, see, distribut, bank, differ, caltech, realli, kill, anyon, gun\",\"+++ right, see, work, someth, think, peopl, look, kill, point, even<br>--- argument, distribut, armenian, good, pat, armenia, evid, problem, differ, caltech\",\"+++ right, see, argument, someth, good, think, peopl, evid, problem, differ<br>--- must, work, state, look, caltech, realli, islam, human, keith, kill\",\"+++ work, new, system, year, time, may, scienc, also<br>--- right, see, space, distribut, look, differ, caltech, realli, project, kill\",\"+++ right, work, way, new, even, system, make, peopl, could, time<br>--- user, see, distribut, phone, look, differ, caltech, realli, kill, gun\"],[\"+++ technolog, anyon, new, think, system, peopl, could, also, tri<br>--- right, see, clayton, space, distribut, pat, look, mit, caltech, alaska\",\"+++ point, good, think, question, peopl, may, find, also<br>--- bibl, see, life, hell, jesu, space, distribut, pat, look, die\",\"+++ work, state, distribut, point, good, think, system, peopl, file, could<br>--- right, space, pat, look, mit, differ, american, kill, anyon, gun\",\"+++ state, point, think, peopl, could, first, also<br>--- right, see, nazi, space, distribut, pat, look, mit, attack, american\",\"+++ <br>--- space, distribut, 145, pat, look, mit, 7ex, 6um, g9v, anyon\",\"+++ work, need, help, program, repli, tri, peopl, file, could, may<br>--- see, space, distribut, pat, food, look, mit, int, anyon, output\",\"+++ work, distribut, repli, look, mit, thank, problem, anyon, mail, file<br>--- version, user, space, server, good, think, pat, avail, peopl, chang\",\"+++ work, state, new, good, think, question, peopl, look, could, first<br>--- right, see, greek, space, distribut, pat, mit, anyon, come, take\",\"+++ work, need, anyon, new, distribut, help, good, think, repli, question<br>--- space, pat, mit, differ, realli, take, alaska, find, buy, pleas\",\"+++ new, point, good, think, john, look, first<br>--- see, space, distribut, pat, mit, goal, player, win, last, anyon\",\"+++ work, need, mail, state, anyon, distribut, new, good, comput, system<br>--- space, think, pat, bank, tri, hard, peopl, mit, chang, problem\",\"+++ digex, work, distribut, point, think, pat, peopl, look, could, usa<br>--- right, see, space, mit, kill, anyon, come, take, find, pleas\",\"+++ state, point, good, think, question, peopl, could, may, problem, also<br>--- right, see, space, distribut, pat, look, mit, differ, absolut, anyon\",\"+++ technolog, work, space, distribut, gov, research, new, system, program, comput<br>--- pat, look, mit, project, 1993, cost, anyon, data, alaska, find\",\"+++ technolog, work, need, internet, mail, new, distribut, comput, program, system<br>--- right, user, space, phone, pat, look, mit, anyon, data, alaska\"],[\"+++ new, system, could, time, also<br>--- right, see, clayton, distribut, look, caltech, anyon, data, memori, bnr\",\"+++ also, want, time<br>--- bibl, see, life, hell, jesu, distribut, die, look, differ, come\",\"+++ speed, work, want, distribut, system, scsi, file, card, could, support<br>--- right, look, differ, american, kill, gun, data, memori, pleas, appl\",\"+++ also, want, could, time<br>--- right, see, nazi, distribut, look, attack, american, kill, data, memori\",\"+++ <br>--- distribut, 145, look, 7ex, 6um, g9v, wm4u, r8f, data, fyn\",\"+++ printer, work, need, includ, help, program, repli, file, could, time<br>--- see, distribut, food, look, int, output, data, memori, char, appl\",\"+++ version, work, mac, distribut, includ, repli, avail, look, thank, problem<br>--- user, server, mit, applic, screen, anyon, packag, call, mode, could\",\"+++ work, want, new, look, could, time, also<br>--- right, see, greek, distribut, come, data, take, memori, pleas, made\",\"+++ speed, work, want, need, new, distribut, help, run, repli, look<br>--- differ, realli, anyon, data, take, memori, buy, pleas, appl, high\",\"+++ run, new, look, time<br>--- see, distribut, goal, player, win, last, divis, data, memori, pleas\",\"+++ work, includ, distribut, mac, repli, look, thank, mail, card, pleas<br>--- version, state, good, bank, hard, avail, problem, time, ship, anyon\",\"+++ work, want, distribut, look, could, time<br>--- right, see, pat, kill, come, data, take, alaska, memori, pleas\",\"+++ problem, also, could, time<br>--- right, see, distribut, look, differ, absolut, data, take, memori, truth\",\"+++ work, includ, distribut, new, program, comput, system, imag, data, avail<br>--- space, look, project, 1993, cost, memori, pleas, appl, inform, launch\",\"+++ work, need, mail, new, distribut, bit, comput, program, system, data<br>--- right, user, phone, look, memori, pleas, appl, encrypt, inform, speed\"]],\"z\":[[0.9247311827956989,0.9247311827956989,0.8505747126436781,0.8636363636363636,1.0,0.8636363636363636,0.8764044943820225,0.8372093023255813,0.8636363636363636,0.8888888888888888,0.8372093023255813,0.9010989010989011,0.8888888888888888,0.717948717948718,0.8505747126436781],[0.8636363636363636,0.8888888888888888,0.7951807228915663,0.9130434782608696,1.0,0.8372093023255813,0.6111111111111112,0.8505747126436781,0.7341772151898734,0.9130434782608696,0.7804878048780488,0.8888888888888888,0.8764044943820225,0.8888888888888888,0.8764044943820225],[0.8505747126436781,0.8505747126436781,0.8235294117647058,0.8372093023255813,1.0,0.8372093023255813,0.8372093023255813,0.717948717948718,0.5915492957746479,0.8372093023255813,0.717948717948718,0.7951807228915663,0.7951807228915663,0.9010989010989011,0.8095238095238095],[0.8505747126436781,0.24561403508771928,0.8372093023255813,0.7341772151898734,1.0,0.8888888888888888,0.9690721649484536,0.7654320987654322,0.8505747126436781,0.9130434782608696,0.9690721649484536,0.8095238095238095,0.5507246376811594,0.9583333333333334,0.9130434782608696],[0.9130434782608696,0.9361702127659575,0.8888888888888888,0.9361702127659575,1.0,0.8764044943820225,0.6666666666666667,0.9130434782608696,0.9010989010989011,0.9583333333333334,0.8888888888888888,0.9361702127659575,0.9583333333333334,0.7951807228915663,0.4126984126984127],[0.8636363636363636,0.7951807228915663,0.8372093023255813,0.7804878048780488,1.0,0.75,0.9247311827956989,0.5714285714285714,0.7804878048780488,0.8636363636363636,0.9361702127659575,0.6666666666666667,0.75,0.9361702127659575,0.8235294117647058],[0.8888888888888888,0.9130434782608696,0.8505747126436781,0.8764044943820225,0.9795918367346939,0.9247311827956989,0.9010989010989011,0.8235294117647058,0.7951807228915663,0.9130434782608696,0.9247311827956989,0.8636363636363636,0.8764044943820225,0.8372093023255813,0.8888888888888888],[0.9130434782608696,0.9130434782608696,0.8888888888888888,0.8636363636363636,1.0,0.9473684210526316,0.9473684210526316,0.8095238095238095,0.8372093023255813,0.33333333333333337,0.9130434782608696,0.8636363636363636,0.8888888888888888,0.9473684210526316,0.9247311827956989],[0.8636363636363636,0.8372093023255813,0.8372093023255813,0.5507246376811594,1.0,0.9130434782608696,0.9473684210526316,0.717948717948718,0.8372093023255813,0.9010989010989011,0.9583333333333334,0.75,0.7804878048780488,0.9473684210526316,0.8505747126436781],[0.9690721649484536,0.9583333333333334,0.9583333333333334,0.9583333333333334,0.5915492957746479,0.9795918367346939,0.98989898989899,0.9361702127659575,0.9473684210526316,0.8095238095238095,0.98989898989899,0.9473684210526316,0.9583333333333334,0.9795918367346939,0.98989898989899],[0.8095238095238095,0.8505747126436781,0.7951807228915663,0.7951807228915663,1.0,0.8372093023255813,0.8095238095238095,0.717948717948718,0.6301369863013699,0.8636363636363636,0.8372093023255813,0.7951807228915663,0.7951807228915663,0.8888888888888888,0.8505747126436781],[0.8505747126436781,0.8505747126436781,0.6842105263157895,0.717948717948718,1.0,0.9010989010989011,0.9010989010989011,0.5714285714285714,0.7951807228915663,0.8888888888888888,0.9130434782608696,0.7951807228915663,0.7804878048780488,0.8636363636363636,0.8095238095238095],[0.717948717948718,0.717948717948718,0.7341772151898734,0.75,1.0,0.8505747126436781,0.9010989010989011,0.6842105263157895,0.6666666666666667,0.8636363636363636,0.9010989010989011,0.75,0.5074626865671642,0.9130434782608696,0.8636363636363636],[0.9010989010989011,0.9130434782608696,0.8505747126436781,0.9247311827956989,1.0,0.8372093023255813,0.75,0.8636363636363636,0.8235294117647058,0.9247311827956989,0.7951807228915663,0.8505747126436781,0.8764044943820225,0.8235294117647058,0.8095238095238095],[0.9473684210526316,0.9690721649484536,0.8235294117647058,0.9583333333333334,1.0,0.8372093023255813,0.46153846153846156,0.9247311827956989,0.8235294117647058,0.9583333333333334,0.7012987012987013,0.9361702127659575,0.9583333333333334,0.8505747126436781,0.8235294117647058]],\"type\":\"heatmap\"}],                        {\"height\":950,\"template\":{\"data\":{\"barpolar\":[{\"marker\":{\"line\":{\"color\":\"#E5ECF6\",\"width\":0.5},\"pattern\":{\"fillmode\":\"overlay\",\"size\":10,\"solidity\":0.2}},\"type\":\"barpolar\"}],\"bar\":[{\"error_x\":{\"color\":\"#2a3f5f\"},\"error_y\":{\"color\":\"#2a3f5f\"},\"marker\":{\"line\":{\"color\":\"#E5ECF6\",\"width\":0.5},\"pattern\":{\"fillmode\":\"overlay\",\"size\":10,\"solidity\":0.2}},\"type\":\"bar\"}],\"carpet\":[{\"aaxis\":{\"endlinecolor\":\"#2a3f5f\",\"gridcolor\":\"white\",\"linecolor\":\"white\",\"minorgridcolor\":\"white\",\"startlinecolor\":\"#2a3f5f\"},\"baxis\":{\"endlinecolor\":\"#2a3f5f\",\"gridcolor\":\"white\",\"linecolor\":\"white\",\"minorgridcolor\":\"white\",\"startlinecolor\":\"#2a3f5f\"},\"type\":\"carpet\"}],\"choropleth\":[{\"colorbar\":{\"outlinewidth\":0,\"ticks\":\"\"},\"type\":\"choropleth\"}],\"contourcarpet\":[{\"colorbar\":{\"outlinewidth\":0,\"ticks\":\"\"},\"type\":\"contourcarpet\"}],\"contour\":[{\"colorbar\":{\"outlinewidth\":0,\"ticks\":\"\"},\"colorscale\":[[0.0,\"#0d0887\"],[0.1111111111111111,\"#46039f\"],[0.2222222222222222,\"#7201a8\"],[0.3333333333333333,\"#9c179e\"],[0.4444444444444444,\"#bd3786\"],[0.5555555555555556,\"#d8576b\"],[0.6666666666666666,\"#ed7953\"],[0.7777777777777778,\"#fb9f3a\"],[0.8888888888888888,\"#fdca26\"],[1.0,\"#f0f921\"]],\"type\":\"contour\"}],\"heatmapgl\":[{\"colorbar\":{\"outlinewidth\":0,\"ticks\":\"\"},\"colorscale\":[[0.0,\"#0d0887\"],[0.1111111111111111,\"#46039f\"],[0.2222222222222222,\"#7201a8\"],[0.3333333333333333,\"#9c179e\"],[0.4444444444444444,\"#bd3786\"],[0.5555555555555556,\"#d8576b\"],[0.6666666666666666,\"#ed7953\"],[0.7777777777777778,\"#fb9f3a\"],[0.8888888888888888,\"#fdca26\"],[1.0,\"#f0f921\"]],\"type\":\"heatmapgl\"}],\"heatmap\":[{\"colorbar\":{\"outlinewidth\":0,\"ticks\":\"\"},\"colorscale\":[[0.0,\"#0d0887\"],[0.1111111111111111,\"#46039f\"],[0.2222222222222222,\"#7201a8\"],[0.3333333333333333,\"#9c179e\"],[0.4444444444444444,\"#bd3786\"],[0.5555555555555556,\"#d8576b\"],[0.6666666666666666,\"#ed7953\"],[0.7777777777777778,\"#fb9f3a\"],[0.8888888888888888,\"#fdca26\"],[1.0,\"#f0f921\"]],\"type\":\"heatmap\"}],\"histogram2dcontour\":[{\"colorbar\":{\"outlinewidth\":0,\"ticks\":\"\"},\"colorscale\":[[0.0,\"#0d0887\"],[0.1111111111111111,\"#46039f\"],[0.2222222222222222,\"#7201a8\"],[0.3333333333333333,\"#9c179e\"],[0.4444444444444444,\"#bd3786\"],[0.5555555555555556,\"#d8576b\"],[0.6666666666666666,\"#ed7953\"],[0.7777777777777778,\"#fb9f3a\"],[0.8888888888888888,\"#fdca26\"],[1.0,\"#f0f921\"]],\"type\":\"histogram2dcontour\"}],\"histogram2d\":[{\"colorbar\":{\"outlinewidth\":0,\"ticks\":\"\"},\"colorscale\":[[0.0,\"#0d0887\"],[0.1111111111111111,\"#46039f\"],[0.2222222222222222,\"#7201a8\"],[0.3333333333333333,\"#9c179e\"],[0.4444444444444444,\"#bd3786\"],[0.5555555555555556,\"#d8576b\"],[0.6666666666666666,\"#ed7953\"],[0.7777777777777778,\"#fb9f3a\"],[0.8888888888888888,\"#fdca26\"],[1.0,\"#f0f921\"]],\"type\":\"histogram2d\"}],\"histogram\":[{\"marker\":{\"pattern\":{\"fillmode\":\"overlay\",\"size\":10,\"solidity\":0.2}},\"type\":\"histogram\"}],\"mesh3d\":[{\"colorbar\":{\"outlinewidth\":0,\"ticks\":\"\"},\"type\":\"mesh3d\"}],\"parcoords\":[{\"line\":{\"colorbar\":{\"outlinewidth\":0,\"ticks\":\"\"}},\"type\":\"parcoords\"}],\"pie\":[{\"automargin\":true,\"type\":\"pie\"}],\"scatter3d\":[{\"line\":{\"colorbar\":{\"outlinewidth\":0,\"ticks\":\"\"}},\"marker\":{\"colorbar\":{\"outlinewidth\":0,\"ticks\":\"\"}},\"type\":\"scatter3d\"}],\"scattercarpet\":[{\"marker\":{\"colorbar\":{\"outlinewidth\":0,\"ticks\":\"\"}},\"type\":\"scattercarpet\"}],\"scattergeo\":[{\"marker\":{\"colorbar\":{\"outlinewidth\":0,\"ticks\":\"\"}},\"type\":\"scattergeo\"}],\"scattergl\":[{\"marker\":{\"colorbar\":{\"outlinewidth\":0,\"ticks\":\"\"}},\"type\":\"scattergl\"}],\"scattermapbox\":[{\"marker\":{\"colorbar\":{\"outlinewidth\":0,\"ticks\":\"\"}},\"type\":\"scattermapbox\"}],\"scatterpolargl\":[{\"marker\":{\"colorbar\":{\"outlinewidth\":0,\"ticks\":\"\"}},\"type\":\"scatterpolargl\"}],\"scatterpolar\":[{\"marker\":{\"colorbar\":{\"outlinewidth\":0,\"ticks\":\"\"}},\"type\":\"scatterpolar\"}],\"scatter\":[{\"fillpattern\":{\"fillmode\":\"overlay\",\"size\":10,\"solidity\":0.2},\"type\":\"scatter\"}],\"scatterternary\":[{\"marker\":{\"colorbar\":{\"outlinewidth\":0,\"ticks\":\"\"}},\"type\":\"scatterternary\"}],\"surface\":[{\"colorbar\":{\"outlinewidth\":0,\"ticks\":\"\"},\"colorscale\":[[0.0,\"#0d0887\"],[0.1111111111111111,\"#46039f\"],[0.2222222222222222,\"#7201a8\"],[0.3333333333333333,\"#9c179e\"],[0.4444444444444444,\"#bd3786\"],[0.5555555555555556,\"#d8576b\"],[0.6666666666666666,\"#ed7953\"],[0.7777777777777778,\"#fb9f3a\"],[0.8888888888888888,\"#fdca26\"],[1.0,\"#f0f921\"]],\"type\":\"surface\"}],\"table\":[{\"cells\":{\"fill\":{\"color\":\"#EBF0F8\"},\"line\":{\"color\":\"white\"}},\"header\":{\"fill\":{\"color\":\"#C8D4E3\"},\"line\":{\"color\":\"white\"}},\"type\":\"table\"}]},\"layout\":{\"annotationdefaults\":{\"arrowcolor\":\"#2a3f5f\",\"arrowhead\":0,\"arrowwidth\":1},\"autotypenumbers\":\"strict\",\"coloraxis\":{\"colorbar\":{\"outlinewidth\":0,\"ticks\":\"\"}},\"colorscale\":{\"diverging\":[[0,\"#8e0152\"],[0.1,\"#c51b7d\"],[0.2,\"#de77ae\"],[0.3,\"#f1b6da\"],[0.4,\"#fde0ef\"],[0.5,\"#f7f7f7\"],[0.6,\"#e6f5d0\"],[0.7,\"#b8e186\"],[0.8,\"#7fbc41\"],[0.9,\"#4d9221\"],[1,\"#276419\"]],\"sequential\":[[0.0,\"#0d0887\"],[0.1111111111111111,\"#46039f\"],[0.2222222222222222,\"#7201a8\"],[0.3333333333333333,\"#9c179e\"],[0.4444444444444444,\"#bd3786\"],[0.5555555555555556,\"#d8576b\"],[0.6666666666666666,\"#ed7953\"],[0.7777777777777778,\"#fb9f3a\"],[0.8888888888888888,\"#fdca26\"],[1.0,\"#f0f921\"]],\"sequentialminus\":[[0.0,\"#0d0887\"],[0.1111111111111111,\"#46039f\"],[0.2222222222222222,\"#7201a8\"],[0.3333333333333333,\"#9c179e\"],[0.4444444444444444,\"#bd3786\"],[0.5555555555555556,\"#d8576b\"],[0.6666666666666666,\"#ed7953\"],[0.7777777777777778,\"#fb9f3a\"],[0.8888888888888888,\"#fdca26\"],[1.0,\"#f0f921\"]]},\"colorway\":[\"#636efa\",\"#EF553B\",\"#00cc96\",\"#ab63fa\",\"#FFA15A\",\"#19d3f3\",\"#FF6692\",\"#B6E880\",\"#FF97FF\",\"#FECB52\"],\"font\":{\"color\":\"#2a3f5f\"},\"geo\":{\"bgcolor\":\"white\",\"lakecolor\":\"white\",\"landcolor\":\"#E5ECF6\",\"showlakes\":true,\"showland\":true,\"subunitcolor\":\"white\"},\"hoverlabel\":{\"align\":\"left\"},\"hovermode\":\"closest\",\"mapbox\":{\"style\":\"light\"},\"paper_bgcolor\":\"white\",\"plot_bgcolor\":\"#E5ECF6\",\"polar\":{\"angularaxis\":{\"gridcolor\":\"white\",\"linecolor\":\"white\",\"ticks\":\"\"},\"bgcolor\":\"#E5ECF6\",\"radialaxis\":{\"gridcolor\":\"white\",\"linecolor\":\"white\",\"ticks\":\"\"}},\"scene\":{\"xaxis\":{\"backgroundcolor\":\"#E5ECF6\",\"gridcolor\":\"white\",\"gridwidth\":2,\"linecolor\":\"white\",\"showbackground\":true,\"ticks\":\"\",\"zerolinecolor\":\"white\"},\"yaxis\":{\"backgroundcolor\":\"#E5ECF6\",\"gridcolor\":\"white\",\"gridwidth\":2,\"linecolor\":\"white\",\"showbackground\":true,\"ticks\":\"\",\"zerolinecolor\":\"white\"},\"zaxis\":{\"backgroundcolor\":\"#E5ECF6\",\"gridcolor\":\"white\",\"gridwidth\":2,\"linecolor\":\"white\",\"showbackground\":true,\"ticks\":\"\",\"zerolinecolor\":\"white\"}},\"shapedefaults\":{\"line\":{\"color\":\"#2a3f5f\"}},\"ternary\":{\"aaxis\":{\"gridcolor\":\"white\",\"linecolor\":\"white\",\"ticks\":\"\"},\"baxis\":{\"gridcolor\":\"white\",\"linecolor\":\"white\",\"ticks\":\"\"},\"bgcolor\":\"#E5ECF6\",\"caxis\":{\"gridcolor\":\"white\",\"linecolor\":\"white\",\"ticks\":\"\"}},\"title\":{\"x\":0.05},\"xaxis\":{\"automargin\":true,\"gridcolor\":\"white\",\"linecolor\":\"white\",\"ticks\":\"\",\"title\":{\"standoff\":15},\"zerolinecolor\":\"white\",\"zerolinewidth\":2},\"yaxis\":{\"automargin\":true,\"gridcolor\":\"white\",\"linecolor\":\"white\",\"ticks\":\"\",\"title\":{\"standoff\":15},\"zerolinecolor\":\"white\",\"zerolinewidth\":2}}},\"title\":{\"text\":\"Topic difference (two models)[jaccard distance]\"},\"width\":950,\"xaxis\":{\"title\":{\"text\":\"topic\"}},\"yaxis\":{\"title\":{\"text\":\"topic\"}}},                        {\"responsive\": true}                    ).then(function(){\n",
       "                            \n",
       "var gd = document.getElementById('e23c72c0-0a0f-450e-b7b1-4f85ebb0d68d');\n",
       "var x = new MutationObserver(function (mutations, observer) {{\n",
       "        var display = window.getComputedStyle(gd).display;\n",
       "        if (!display || display === 'none') {{\n",
       "            console.log([gd, 'removed!']);\n",
       "            Plotly.purge(gd);\n",
       "            observer.disconnect();\n",
       "        }}\n",
       "}});\n",
       "\n",
       "// Listen for the removal of the full notebook cells\n",
       "var notebookContainer = gd.closest('#notebook-container');\n",
       "if (notebookContainer) {{\n",
       "    x.observe(notebookContainer, {childList: true});\n",
       "}}\n",
       "\n",
       "// Listen for the clearing of the current output cell\n",
       "var outputEl = gd.closest('.output');\n",
       "if (outputEl) {{\n",
       "    x.observe(outputEl, {childList: true});\n",
       "}}\n",
       "\n",
       "                        })                };                });            </script>        </div>"
      ]
     },
     "metadata": {},
     "output_type": "display_data"
    }
   ],
   "source": [
    "mdiff, annotation = lda_fst.diff(lda_snd, distance='jaccard', num_words=50)\n",
    "plot_difference(mdiff, title=\"Topic difference (two models)[jaccard distance]\", annotation=annotation)"
   ]
  },
  {
   "cell_type": "markdown",
   "metadata": {},
   "source": [
    "Looking at this matrix, you can find similar and different topics between the two models.\n",
    "The plot also includes relevant tokens describing the topics' intersection and difference.\n",
    "\n",
    "\n"
   ]
  }
 ],
 "metadata": {
  "kernelspec": {
   "display_name": "Python 3 (ipykernel)",
   "language": "python",
   "name": "python3"
  },
  "language_info": {
   "codemirror_mode": {
    "name": "ipython",
    "version": 3
   },
   "file_extension": ".py",
   "mimetype": "text/x-python",
   "name": "python",
   "nbconvert_exporter": "python",
   "pygments_lexer": "ipython3",
   "version": "3.8.16"
  },
  "widgets": {
   "application/vnd.jupyter.widget-state+json": {
    "state": {},
    "version_major": 2,
    "version_minor": 0
   }
  }
 },
 "nbformat": 4,
 "nbformat_minor": 4
}
